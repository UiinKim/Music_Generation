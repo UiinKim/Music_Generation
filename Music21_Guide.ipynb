{
  "nbformat": 4,
  "nbformat_minor": 0,
  "metadata": {
    "colab": {
      "provenance": [],
      "authorship_tag": "ABX9TyM1GERBhuV3UmyZN4O1nEWE",
      "include_colab_link": true
    },
    "kernelspec": {
      "name": "python3",
      "display_name": "Python 3"
    },
    "language_info": {
      "name": "python"
    }
  },
  "cells": [
    {
      "cell_type": "markdown",
      "metadata": {
        "id": "view-in-github",
        "colab_type": "text"
      },
      "source": [
        "<a href=\"https://colab.research.google.com/github/UiinKim/Music_Generation/blob/main/Music21_Guide.ipynb\" target=\"_parent\"><img src=\"https://colab.research.google.com/assets/colab-badge.svg\" alt=\"Open In Colab\"/></a>"
      ]
    },
    {
      "cell_type": "markdown",
      "source": [
        "1. Note와 기본적인 사용법"
      ],
      "metadata": {
        "id": "N1oiKUr7eHOK"
      }
    },
    {
      "cell_type": "code",
      "execution_count": 19,
      "metadata": {
        "id": "rRo5gvXqbh4R"
      },
      "outputs": [],
      "source": [
        "import music21"
      ]
    },
    {
      "cell_type": "code",
      "source": [
        "from google.colab import drive\n",
        "drive.mount('/content/drive')"
      ],
      "metadata": {
        "colab": {
          "base_uri": "https://localhost:8080/"
        },
        "id": "M-7NO6kLbv6o",
        "outputId": "60893c7c-d3a1-4264-cd14-3a2a785e12c0"
      },
      "execution_count": 20,
      "outputs": [
        {
          "output_type": "stream",
          "name": "stdout",
          "text": [
            "Drive already mounted at /content/drive; to attempt to forcibly remount, call drive.mount(\"/content/drive\", force_remount=True).\n"
          ]
        }
      ]
    },
    {
      "cell_type": "code",
      "source": [
        "import torch\n",
        "import torchvision\n",
        "import torch.nn\n",
        "torch.cuda.is_available()"
      ],
      "metadata": {
        "colab": {
          "base_uri": "https://localhost:8080/"
        },
        "id": "9SXCQXrcb4lW",
        "outputId": "5c336408-ca4f-48d1-ff5e-0daadf8c147e"
      },
      "execution_count": 21,
      "outputs": [
        {
          "output_type": "execute_result",
          "data": {
            "text/plain": [
              "False"
            ]
          },
          "metadata": {},
          "execution_count": 21
        }
      ]
    },
    {
      "cell_type": "code",
      "source": [
        "import glob\n",
        "for file in glob.glob('/content/drive/MyDrive/MusicGeneration/*.mid'):\n",
        "  midi=music21.converter.parse(file)"
      ],
      "metadata": {
        "id": "b2kCQWcycJXk"
      },
      "execution_count": 22,
      "outputs": []
    },
    {
      "cell_type": "code",
      "source": [
        "print(midi.analyze('key'))\n",
        "#bach no.1 prelude의 코드"
      ],
      "metadata": {
        "colab": {
          "base_uri": "https://localhost:8080/"
        },
        "id": "OHjB88o1c_KX",
        "outputId": "ef45600c-33e0-41a2-93e3-40fbac9316d4"
      },
      "execution_count": 23,
      "outputs": [
        {
          "output_type": "stream",
          "name": "stdout",
          "text": [
            "G major\n"
          ]
        }
      ]
    },
    {
      "cell_type": "code",
      "source": [
        "f=music21.note.Note('F5')"
      ],
      "metadata": {
        "id": "7hfk_4mddg0O"
      },
      "execution_count": 24,
      "outputs": []
    },
    {
      "cell_type": "code",
      "source": [
        "print(f)\n",
        "print(f.name)\n",
        "print(f.octave)\n",
        "print(f.pitch)"
      ],
      "metadata": {
        "colab": {
          "base_uri": "https://localhost:8080/"
        },
        "id": "NKYPonw_eZgP",
        "outputId": "94c7aefe-6aab-4005-e0b5-c86165ab30b7"
      },
      "execution_count": 25,
      "outputs": [
        {
          "output_type": "stream",
          "name": "stdout",
          "text": [
            "<music21.note.Note F>\n",
            "F\n",
            "5\n",
            "F5\n"
          ]
        }
      ]
    },
    {
      "cell_type": "code",
      "source": [
        "ff=music21.note.Note('F#2')\n",
        "print(ff.name)"
      ],
      "metadata": {
        "colab": {
          "base_uri": "https://localhost:8080/"
        },
        "id": "uLgBoV8sehM-",
        "outputId": "a7ba9e4e-2b45-40a4-931b-7d02a82349f1"
      },
      "execution_count": 26,
      "outputs": [
        {
          "output_type": "stream",
          "name": "stdout",
          "text": [
            "F#\n"
          ]
        }
      ]
    },
    {
      "cell_type": "code",
      "source": [
        "print(ff.pitch.accidental) # -> 올림표이니 내림표인지를 나타냄\n",
        "k=ff.pitch.accidental"
      ],
      "metadata": {
        "colab": {
          "base_uri": "https://localhost:8080/"
        },
        "id": "m6XNxtwmeqJX",
        "outputId": "3e5be928-5281-433c-b984-20f67d4d9dfd"
      },
      "execution_count": 27,
      "outputs": [
        {
          "output_type": "stream",
          "name": "stdout",
          "text": [
            "sharp\n"
          ]
        }
      ]
    },
    {
      "cell_type": "code",
      "source": [
        "print(k.alter) #올림이면 +1.0, 내림이면 -1.0, 제자리는 없음"
      ],
      "metadata": {
        "colab": {
          "base_uri": "https://localhost:8080/"
        },
        "id": "_VW9ysIPetPv",
        "outputId": "2dab2efe-e2dc-46ba-af92-5f4c05ca14a4"
      },
      "execution_count": 28,
      "outputs": [
        {
          "output_type": "stream",
          "name": "stdout",
          "text": [
            "1.0\n"
          ]
        }
      ]
    },
    {
      "cell_type": "code",
      "source": [
        "from music21 import *"
      ],
      "metadata": {
        "id": "8rjuEOzee3ea"
      },
      "execution_count": 29,
      "outputs": []
    },
    {
      "cell_type": "code",
      "source": [
        "dir(note)"
      ],
      "metadata": {
        "colab": {
          "base_uri": "https://localhost:8080/"
        },
        "id": "6iUsiIEWfJWN",
        "outputId": "fc2b8371-1535-4d8f-fe04-c5d0f0c74979"
      },
      "execution_count": 30,
      "outputs": [
        {
          "output_type": "execute_result",
          "data": {
            "text/plain": [
              "['GeneralNote',\n",
              " 'Lyric',\n",
              " 'LyricException',\n",
              " 'NotRest',\n",
              " 'NotRestException',\n",
              " 'Note',\n",
              " 'NoteException',\n",
              " 'Rest',\n",
              " 'SYLLABIC_CHOICES',\n",
              " 'Unpitched',\n",
              " 'noteheadTypeNames',\n",
              " 'stemDirectionNames']"
            ]
          },
          "metadata": {},
          "execution_count": 30
        }
      ]
    },
    {
      "cell_type": "code",
      "source": [
        "print(f.pitch.frequency)\n",
        "print(f.pitch.pitchClassString)\n",
        "#C=0, C# or D-=1, D=2, D# or E-=3, E=4 ..."
      ],
      "metadata": {
        "id": "Ju-cHeh3gAQY",
        "colab": {
          "base_uri": "https://localhost:8080/"
        },
        "outputId": "4cf9e2ab-8c80-414b-fca0-41a714d8e952"
      },
      "execution_count": 31,
      "outputs": [
        {
          "output_type": "stream",
          "name": "stdout",
          "text": [
            "698.456462866008\n",
            "5\n"
          ]
        }
      ]
    },
    {
      "cell_type": "code",
      "source": [
        "print(f.octave==5)\n",
        "print(f.pitch.pitchClassString==5) #'5'이기 때문에 False로 뜬다\n",
        "print(f.pitch.pitchClassString=='5')"
      ],
      "metadata": {
        "id": "sCTFkU1Ggj7k",
        "colab": {
          "base_uri": "https://localhost:8080/"
        },
        "outputId": "d029856f-5311-41b5-e613-4a1bb80b63c0"
      },
      "execution_count": 32,
      "outputs": [
        {
          "output_type": "stream",
          "name": "stdout",
          "text": [
            "True\n",
            "False\n",
            "True\n"
          ]
        }
      ]
    },
    {
      "cell_type": "code",
      "source": [
        "bflat=note.Note('B-2') #B flat 2octave"
      ],
      "metadata": {
        "id": "JsBdYYdT412a"
      },
      "execution_count": 33,
      "outputs": []
    },
    {
      "cell_type": "code",
      "source": [
        "bflat.pitch.accidental #bflat의 올림표 내림표 판단"
      ],
      "metadata": {
        "colab": {
          "base_uri": "https://localhost:8080/"
        },
        "id": "xkt1Wc3e7AjL",
        "outputId": "b7755cda-8130-47ea-929e-ecc034d3c34f"
      },
      "execution_count": 34,
      "outputs": [
        {
          "output_type": "execute_result",
          "data": {
            "text/plain": [
              "<music21.pitch.Accidental flat>"
            ]
          },
          "metadata": {},
          "execution_count": 34
        }
      ]
    },
    {
      "cell_type": "code",
      "source": [
        "acc=bflat.pitch.accidental\n",
        "acc.alter"
      ],
      "metadata": {
        "colab": {
          "base_uri": "https://localhost:8080/"
        },
        "id": "e9uJ7Goo7FhH",
        "outputId": "7d77a13d-f8a7-46f1-a1a4-800ab6500e26"
      },
      "execution_count": 35,
      "outputs": [
        {
          "output_type": "execute_result",
          "data": {
            "text/plain": [
              "-1.0"
            ]
          },
          "metadata": {},
          "execution_count": 35
        }
      ]
    },
    {
      "cell_type": "code",
      "source": [
        "acc.displayLocation"
      ],
      "metadata": {
        "colab": {
          "base_uri": "https://localhost:8080/",
          "height": 35
        },
        "id": "5saDf45v7EEa",
        "outputId": "a431ba52-13be-46c4-9510-7e0c80379471"
      },
      "execution_count": 36,
      "outputs": [
        {
          "output_type": "execute_result",
          "data": {
            "text/plain": [
              "'normal'"
            ],
            "application/vnd.google.colaboratory.intrinsic+json": {
              "type": "string"
            }
          },
          "metadata": {},
          "execution_count": 36
        }
      ]
    },
    {
      "cell_type": "code",
      "source": [
        "bflat.pitch.accidental.displayLocation"
      ],
      "metadata": {
        "colab": {
          "base_uri": "https://localhost:8080/",
          "height": 35
        },
        "id": "GrNV3ESlJJ_s",
        "outputId": "5b73b71d-d021-4acd-f336-e3eafcaad78a"
      },
      "execution_count": 37,
      "outputs": [
        {
          "output_type": "execute_result",
          "data": {
            "text/plain": [
              "'normal'"
            ],
            "application/vnd.google.colaboratory.intrinsic+json": {
              "type": "string"
            }
          },
          "metadata": {},
          "execution_count": 37
        }
      ]
    },
    {
      "cell_type": "code",
      "source": [
        "acc.displayLocation='above'\n",
        "bflat.pitch.accidental.displayLocation #bflat과 연결된 acc는 아예 같다고 볼 수 있다. -> 하나가 바뀌면 같이 바뀜"
      ],
      "metadata": {
        "colab": {
          "base_uri": "https://localhost:8080/",
          "height": 35
        },
        "id": "hl_XS-Z6JUro",
        "outputId": "acf803eb-9948-452d-e2bc-4e6d52f10d8a"
      },
      "execution_count": 38,
      "outputs": [
        {
          "output_type": "execute_result",
          "data": {
            "text/plain": [
              "'above'"
            ],
            "application/vnd.google.colaboratory.intrinsic+json": {
              "type": "string"
            }
          },
          "metadata": {},
          "execution_count": 38
        }
      ]
    },
    {
      "cell_type": "code",
      "source": [
        "#bflat.wasWrittenByStockhausen\n",
        "#원래는 note 객체는 wasWrittenByStockhausen이 안됨\n",
        "bflat.wasWrittenByStockhausen=True\n",
        "f.wasWrittenByStockhausen=False"
      ],
      "metadata": {
        "id": "BxG8J2jiJcsp"
      },
      "execution_count": 40,
      "outputs": []
    },
    {
      "cell_type": "code",
      "source": [
        "if bflat.wasWrittenByStockhausen==True: #if문으로 해당 note의 속성 확인\n",
        "  print(\"Hope you're enjoying Sirius!\")"
      ],
      "metadata": {
        "colab": {
          "base_uri": "https://localhost:8080/"
        },
        "id": "dVt1UwboLQLv",
        "outputId": "04a86baa-4691-4db3-f056-f37798088b46"
      },
      "execution_count": 41,
      "outputs": [
        {
          "output_type": "stream",
          "name": "stdout",
          "text": [
            "Hope you're enjoying Sirius!\n"
          ]
        }
      ]
    },
    {
      "cell_type": "code",
      "source": [
        "bflat.wasWrittenByStockhausen"
      ],
      "metadata": {
        "colab": {
          "base_uri": "https://localhost:8080/"
        },
        "id": "F44GIf1xSWeq",
        "outputId": "f0df309a-cb20-452a-e51a-f7dcab71fd90"
      },
      "execution_count": 42,
      "outputs": [
        {
          "output_type": "execute_result",
          "data": {
            "text/plain": [
              "True"
            ]
          },
          "metadata": {},
          "execution_count": 42
        }
      ]
    },
    {
      "cell_type": "code",
      "source": [
        "!pip install MuseScore"
      ],
      "metadata": {
        "colab": {
          "base_uri": "https://localhost:8080/"
        },
        "id": "MCpLHczmT_jJ",
        "outputId": "bbc7dc94-6903-4817-a6b4-5c6d5d882c7d"
      },
      "execution_count": 45,
      "outputs": [
        {
          "output_type": "stream",
          "name": "stdout",
          "text": [
            "Collecting MuseScore\n",
            "  Downloading musescore-0.0.1-py3-none-any.whl (4.0 kB)\n",
            "Installing collected packages: MuseScore\n",
            "Successfully installed MuseScore-0.0.1\n"
          ]
        }
      ]
    },
    {
      "cell_type": "code",
      "source": [
        "f.show('midi') #음표를 들려주는 함수"
      ],
      "metadata": {
        "colab": {
          "base_uri": "https://localhost:8080/",
          "height": 134
        },
        "id": "Fgr9rOVeSZUA",
        "outputId": "9b09598c-69b0-48ac-b1c4-b338e5f86fd4"
      },
      "execution_count": 50,
      "outputs": [
        {
          "output_type": "display_data",
          "data": {
            "text/plain": [
              "<IPython.core.display.HTML object>"
            ],
            "text/html": [
              "\n",
              "        <div id=\"midiPlayerDiv8629\"></div>\n",
              "        <link rel=\"stylesheet\" href=\"https://cuthbertLab.github.io/music21j/css/m21.css\">\n",
              "        \n",
              "        <script\n",
              "        src=\"https://cdnjs.cloudflare.com/ajax/libs/require.js/2.3.6/require.min.js\"\n",
              "        ></script>\n",
              "    \n",
              "        <script>\n",
              "        function midiPlayerDiv8629_play() {\n",
              "            const rq = require.config({\n",
              "                paths: {\n",
              "                    'music21': 'https://cuthbertLab.github.io/music21j/releases/music21.debug',\n",
              "                }\n",
              "            });\n",
              "            rq(['music21'], function(music21) {\n",
              "                mp = new music21.miditools.MidiPlayer();\n",
              "                mp.addPlayer(\"#midiPlayerDiv8629\");\n",
              "                mp.base64Load(\"data:audio/midi;base64,TVRoZAAAAAYAAQACJ2BNVHJrAAAAFAD/UQMHoSAA/1gEBAIYCM5g/y8ATVRyawAAABcA/wMAAOAAQM5gkE1azmCATQDOYP8vAA==\");\n",
              "            });\n",
              "        }\n",
              "        if (typeof require === 'undefined') {\n",
              "            setTimeout(midiPlayerDiv8629_play, 2000);\n",
              "        } else {\n",
              "            midiPlayerDiv8629_play();\n",
              "        }\n",
              "        </script>"
            ]
          },
          "metadata": {}
        }
      ]
    },
    {
      "cell_type": "code",
      "source": [
        "d=bflat.transpose('M3') #장 3도를 옮겨서 저장(Bflat - C - D) -> Bflat major 스케일에서의 3도\n",
        "d"
      ],
      "metadata": {
        "colab": {
          "base_uri": "https://localhost:8080/"
        },
        "id": "OPXoCtB_TyoB",
        "outputId": "2757c570-c634-4a73-acb8-a88afc3b9ac3"
      },
      "execution_count": 53,
      "outputs": [
        {
          "output_type": "execute_result",
          "data": {
            "text/plain": [
              "<music21.note.Note D>"
            ]
          },
          "metadata": {},
          "execution_count": 53
        }
      ]
    },
    {
      "cell_type": "code",
      "source": [
        "bflat\n",
        "#d에 저장을 했으므로 bflat은 그대로 유지된다."
      ],
      "metadata": {
        "colab": {
          "base_uri": "https://localhost:8080/"
        },
        "id": "sGpvvHnZYvqt",
        "outputId": "245051d7-6bd4-43d7-c48b-21db87e54ba4"
      },
      "execution_count": 54,
      "outputs": [
        {
          "output_type": "execute_result",
          "data": {
            "text/plain": [
              "<music21.note.Note B->"
            ]
          },
          "metadata": {},
          "execution_count": 54
        }
      ]
    },
    {
      "cell_type": "code",
      "source": [
        "bflat.transpose('P4', inPlace=True) #Bflat minor 스케일에서의 4도\n",
        "bflat"
      ],
      "metadata": {
        "colab": {
          "base_uri": "https://localhost:8080/"
        },
        "id": "ZaF3bz0TZNQB",
        "outputId": "7a75f14a-1703-40b2-b7a2-6feda4898c85"
      },
      "execution_count": 56,
      "outputs": [
        {
          "output_type": "execute_result",
          "data": {
            "text/plain": [
              "<music21.note.Note E->"
            ]
          },
          "metadata": {},
          "execution_count": 56
        }
      ]
    },
    {
      "cell_type": "code",
      "source": [
        "whatNoteIsThis=d.transpose('dd6') #double-diminished sitxh -> 더블 플랫 6위로 이동(D--에서 6개 올라가 )\n",
        "whatNoteIsThis #B triple flat"
      ],
      "metadata": {
        "colab": {
          "base_uri": "https://localhost:8080/"
        },
        "id": "aB_0yb3uZ3I3",
        "outputId": "88193fb1-06ac-47f2-e6e6-ab77c6c8a421"
      },
      "execution_count": 58,
      "outputs": [
        {
          "output_type": "execute_result",
          "data": {
            "text/plain": [
              "<music21.note.Note B--->"
            ]
          },
          "metadata": {},
          "execution_count": 58
        }
      ]
    },
    {
      "cell_type": "code",
      "source": [
        "whatNoteIsThis.pitch.accidental.alter #트리플 플랫이므로 -3.0"
      ],
      "metadata": {
        "colab": {
          "base_uri": "https://localhost:8080/"
        },
        "id": "y73f7N6paav-",
        "outputId": "230bff93-b526-434a-bef3-638eed72741b"
      },
      "execution_count": 59,
      "outputs": [
        {
          "output_type": "execute_result",
          "data": {
            "text/plain": [
              "-3.0"
            ]
          },
          "metadata": {},
          "execution_count": 59
        }
      ]
    },
    {
      "cell_type": "code",
      "source": [
        "whatNoteIsThis.pitch.accidental.name"
      ],
      "metadata": {
        "colab": {
          "base_uri": "https://localhost:8080/",
          "height": 35
        },
        "id": "1yTMNmlhc3s4",
        "outputId": "a7eae421-23e9-467a-f7f8-7f6d99797166"
      },
      "execution_count": 60,
      "outputs": [
        {
          "output_type": "execute_result",
          "data": {
            "text/plain": [
              "'triple-flat'"
            ],
            "application/vnd.google.colaboratory.intrinsic+json": {
              "type": "string"
            }
          },
          "metadata": {},
          "execution_count": 60
        }
      ]
    },
    {
      "cell_type": "code",
      "source": [
        "print(d.pitch.accidental)\n",
        "# d.pitch.accidental.name 또한 존재하지 않음 -> #이나 flat이 아님"
      ],
      "metadata": {
        "colab": {
          "base_uri": "https://localhost:8080/"
        },
        "id": "RGMm3qWHc9y7",
        "outputId": "0808ac5d-279e-4b4e-ee06-fd16fd23e648"
      },
      "execution_count": 62,
      "outputs": [
        {
          "output_type": "stream",
          "name": "stdout",
          "text": [
            "None\n"
          ]
        }
      ]
    },
    {
      "cell_type": "code",
      "source": [
        "r=note.Rest() #r.pitch는 존재x, rest는 쉼표\n",
        "#note.Note를 note 변수로 저장 불가"
      ],
      "metadata": {
        "id": "6S_pA8gVdFjc"
      },
      "execution_count": 63,
      "outputs": []
    },
    {
      "cell_type": "markdown",
      "source": [
        "2. Pitch and Duration"
      ],
      "metadata": {
        "id": "RzXCtwA6eOYY"
      }
    },
    {
      "cell_type": "code",
      "source": [
        "p1=pitch.Pitch('b-4') #음정과 샵or플랫, 옥타브 넘버를 설정\n",
        "p1"
      ],
      "metadata": {
        "colab": {
          "base_uri": "https://localhost:8080/"
        },
        "id": "kNPilFXFdmCg",
        "outputId": "b0b2e7ef-b3f4-4920-9610-37ba4619e411"
      },
      "execution_count": 67,
      "outputs": [
        {
          "output_type": "execute_result",
          "data": {
            "text/plain": [
              "<music21.pitch.Pitch B-4>"
            ]
          },
          "metadata": {},
          "execution_count": 67
        }
      ]
    },
    {
      "cell_type": "code",
      "source": [
        "#pitch의 attribute(속성)\n",
        "print(p1.octave)\n",
        "print(p1.pitchClass)\n",
        "print(p1.name)\n",
        "print(p1.accidental.alter)\n",
        "print(p1.nameWithOctave) #옥타브 포함 풀네임\n",
        "print(p1.midi) #midi의 표현법(0~127) C4(가운데 음)=60, C#4(D-4)=61, B3=59"
      ],
      "metadata": {
        "colab": {
          "base_uri": "https://localhost:8080/"
        },
        "id": "UUlMWD_Mdp3d",
        "outputId": "aa71d4d6-20e3-481a-fce4-73d2eb08c75c"
      },
      "execution_count": 69,
      "outputs": [
        {
          "output_type": "stream",
          "name": "stdout",
          "text": [
            "4\n",
            "10\n",
            "B-\n",
            "-1.0\n",
            "B-4\n",
            "70\n"
          ]
        }
      ]
    },
    {
      "cell_type": "code",
      "source": [
        "#따로 생성도 가능\n",
        "p1.name='D#'\n",
        "p1.octave=3\n",
        "p1.nameWithOctave"
      ],
      "metadata": {
        "colab": {
          "base_uri": "https://localhost:8080/",
          "height": 35
        },
        "id": "a8REqW-4fD7t",
        "outputId": "715b7e1d-bbcc-44f4-f12b-3e4ee1cca8e3"
      },
      "execution_count": 70,
      "outputs": [
        {
          "output_type": "execute_result",
          "data": {
            "text/plain": [
              "'D#3'"
            ],
            "application/vnd.google.colaboratory.intrinsic+json": {
              "type": "string"
            }
          },
          "metadata": {},
          "execution_count": 70
        }
      ]
    },
    {
      "cell_type": "code",
      "source": [
        "p2=p1.transpose('M7')\n",
        "p2"
      ],
      "metadata": {
        "colab": {
          "base_uri": "https://localhost:8080/"
        },
        "id": "-3RNh1migneV",
        "outputId": "c405e13a-7cf4-4e9d-bdd4-9fc3c6670827"
      },
      "execution_count": 71,
      "outputs": [
        {
          "output_type": "execute_result",
          "data": {
            "text/plain": [
              "<music21.pitch.Pitch C##4>"
            ]
          },
          "metadata": {},
          "execution_count": 71
        }
      ]
    },
    {
      "cell_type": "code",
      "source": [
        "csharp=note.Note('C#4')\n",
        "print(csharp.name)\n",
        "print(csharp.pitch.name)\n",
        "print(csharp.octave)\n",
        "print(csharp.pitch.octave)\n",
        "#모든 note 안에는 pitch가 존재하므로 바로 note.함수로 사용 가능"
      ],
      "metadata": {
        "colab": {
          "base_uri": "https://localhost:8080/"
        },
        "id": "mzNS3Gpwgw3Z",
        "outputId": "aa98a839-198a-4dff-fb2c-f739741b34a2"
      },
      "execution_count": 75,
      "outputs": [
        {
          "output_type": "stream",
          "name": "stdout",
          "text": [
            "C#\n",
            "C#\n",
            "4\n",
            "4\n"
          ]
        }
      ]
    },
    {
      "cell_type": "code",
      "source": [
        "#그러나 더 기술적인 작업을 위해서는 pitch.함수를 이용해 사용해야함\n",
        "print(csharp.pitch.spanish)\n",
        "#pirnt(csharp.spanish) #.pitch로 접근하지 않아서 오류 발생"
      ],
      "metadata": {
        "colab": {
          "base_uri": "https://localhost:8080/"
        },
        "id": "YQDin99HhgFU",
        "outputId": "ff960596-ce34-4c0b-b69f-871808658933"
      },
      "execution_count": 77,
      "outputs": [
        {
          "output_type": "stream",
          "name": "stdout",
          "text": [
            "do sostenido\n"
          ]
        }
      ]
    },
    {
      "cell_type": "code",
      "source": [
        "#pitch를 활용한 함수들\n",
        "print(csharp.pitch.unicodeName)#이쁘게 출력\n",
        "print(csharp.pitch.getEnharmonic())# C#4과 동일한 D-4를 표기(enharmonic)\n",
        "print(csharp.pitch.getLowerEnharmonic()) # C보다 낮은 B를 활용하여 표기\n",
        "#pitch의 속성은 항상 note에 첨부되어 있고, pitch가 아닌 note를 사용하는 이유는 duration을 사용하기 위함이다."
      ],
      "metadata": {
        "colab": {
          "base_uri": "https://localhost:8080/"
        },
        "id": "Sg6PYyYliGHz",
        "outputId": "c69d3ae4-7c2d-4862-9a3e-944646d8f98d"
      },
      "execution_count": 78,
      "outputs": [
        {
          "output_type": "stream",
          "name": "stdout",
          "text": [
            "C♯\n",
            "D-4\n",
            "B##3\n"
          ]
        }
      ]
    },
    {
      "cell_type": "code",
      "source": [
        "halfDuration=duration.Duration('half') #2분음표\n",
        "#whole(온음표), half(2분음표), quarter(4분음표), eighth(8분음표), 16th, 32nd, 64th(16~64분음표)\n",
        "#2048th까지 가능. breve(온음표 2개), longa(온음표 4개), maxima(온음표 8개)"
      ],
      "metadata": {
        "id": "RcS_EmE5iwQq"
      },
      "execution_count": 79,
      "outputs": []
    },
    {
      "cell_type": "code",
      "source": [
        "dottedQuarter=duration.Duration(1.5) #점 4분음표"
      ],
      "metadata": {
        "id": "aNsLB5hYj64N"
      },
      "execution_count": 80,
      "outputs": []
    },
    {
      "cell_type": "code",
      "source": [
        "print(dottedQuarter.quarterLength) # dottedQuarter의 길이 확인\n",
        "print(halfDuration.quarterLength) # halfDuration의 길이를 확인\n",
        "print(dottedQuarter.type) #해당 변수의 타입 확인\n",
        "print(halfDuration.type)"
      ],
      "metadata": {
        "colab": {
          "base_uri": "https://localhost:8080/"
        },
        "id": "tBE-g7h6le_A",
        "outputId": "1e45d7f1-eed0-4db5-bc3b-4811f0b6b7d5"
      },
      "execution_count": 85,
      "outputs": [
        {
          "output_type": "stream",
          "name": "stdout",
          "text": [
            "1.5\n",
            "2.0\n",
            "quarter\n",
            "half\n"
          ]
        }
      ]
    },
    {
      "cell_type": "code",
      "source": [
        "#점이 붙어있을 수 있기 때문에 type 외에도 점을 항상 확인해야한다.\n",
        "print(halfDuration.dots) #halfDuration의 점을 확인\n",
        "print(dottedQuarter.dots) #dottedQuarter의 점을 확인"
      ],
      "metadata": {
        "colab": {
          "base_uri": "https://localhost:8080/"
        },
        "id": "Iup0E8krluoc",
        "outputId": "da0a5d4e-46ca-495a-e4b9-1c72a17d6271"
      },
      "execution_count": 86,
      "outputs": [
        {
          "output_type": "stream",
          "name": "stdout",
          "text": [
            "0\n",
            "1\n"
          ]
        }
      ]
    },
    {
      "cell_type": "code",
      "source": [
        "#점에 대한 속성 변경\n",
        "dottedQuarter.dots=2\n",
        "print(dottedQuarter.quarterLength) #점이 2개가 되면 1.75만큼의 길이가 된다."
      ],
      "metadata": {
        "colab": {
          "base_uri": "https://localhost:8080/"
        },
        "id": "jmJl-Jk9nmjJ",
        "outputId": "bf348b31-b587-42bf-9163-51d7976fa8c5"
      },
      "execution_count": 87,
      "outputs": [
        {
          "output_type": "stream",
          "name": "stdout",
          "text": [
            "1.75\n"
          ]
        }
      ]
    },
    {
      "cell_type": "code",
      "source": [
        "dottedQuarter.dots=3\n",
        "print(dottedQuarter.quarterLength) #점이 3개인 4분음표"
      ],
      "metadata": {
        "colab": {
          "base_uri": "https://localhost:8080/"
        },
        "id": "dyRhiRLLn_O8",
        "outputId": "3903a7e1-14a0-4635-bfd1-5b618de97405"
      },
      "execution_count": 88,
      "outputs": [
        {
          "output_type": "stream",
          "name": "stdout",
          "text": [
            "1.875\n"
          ]
        }
      ]
    },
    {
      "cell_type": "code",
      "source": [
        "dottedQuarter.dots=4\n",
        "print(dottedQuarter.quarterLength) #점이 4개인 4분음표"
      ],
      "metadata": {
        "colab": {
          "base_uri": "https://localhost:8080/"
        },
        "id": "A0fF9pGDoCj_",
        "outputId": "7ff97559-9fb9-45b7-964c-c89acacf36d7"
      },
      "execution_count": 89,
      "outputs": [
        {
          "output_type": "stream",
          "name": "stdout",
          "text": [
            "1.9375\n"
          ]
        }
      ]
    },
    {
      "cell_type": "code",
      "source": [
        "#음표 변경 4분음표->16분음표\n",
        "dottedQuarter.quarterLength=0.25 #4분음표 길이의 0.25배는 16분음표\n",
        "print(dottedQuarter.type)\n",
        "print(dottedQuarter.dots)"
      ],
      "metadata": {
        "colab": {
          "base_uri": "https://localhost:8080/"
        },
        "id": "yieBgWUooDRU",
        "outputId": "17cc2a58-fdb9-49e2-c08d-bd898a25b035"
      },
      "execution_count": 91,
      "outputs": [
        {
          "output_type": "stream",
          "name": "stdout",
          "text": [
            "16th\n",
            "0\n"
          ]
        }
      ]
    },
    {
      "cell_type": "code",
      "source": [
        "#Note object에 적용\n",
        "n1=note.Note() #아무것도 적지 않으면 기본값 C4\n",
        "print(n1.pitch)\n",
        "print(n1.duration)"
      ],
      "metadata": {
        "colab": {
          "base_uri": "https://localhost:8080/"
        },
        "id": "YI6xBNOix-bB",
        "outputId": "1cfebc14-8d46-4c6a-8a96-c8685dcf7f03"
      },
      "execution_count": 98,
      "outputs": [
        {
          "output_type": "stream",
          "name": "stdout",
          "text": [
            "C4\n",
            "<music21.duration.Duration 1.0>\n"
          ]
        }
      ]
    },
    {
      "cell_type": "code",
      "source": [
        "#E-5, 길이는 3\n",
        "n1.pitch.nameWithOctave='E-5'\n",
        "n1.duration.quarterLength=3.0\n",
        "#점 2분음표에 E-, 5옥타브\n",
        "print(n1.duration.type)\n",
        "print(n1.duration.dots)\n",
        "print(n1.pitch.name)\n",
        "print(n1.pitch.accidental)\n",
        "print(n1.octave)"
      ],
      "metadata": {
        "colab": {
          "base_uri": "https://localhost:8080/"
        },
        "id": "Y-19rhipyTaH",
        "outputId": "bea46daf-ec36-4b20-9bc4-7c34a836668f"
      },
      "execution_count": 100,
      "outputs": [
        {
          "output_type": "stream",
          "name": "stdout",
          "text": [
            "half\n",
            "1\n",
            "E-\n",
            "flat\n",
            "5\n"
          ]
        }
      ]
    },
    {
      "cell_type": "code",
      "source": [
        "#note로도 바로 함수 사용 가능\n",
        "print(n1.name)\n",
        "print(n1.quarterLength)"
      ],
      "metadata": {
        "colab": {
          "base_uri": "https://localhost:8080/"
        },
        "id": "5LqYSYeszmup",
        "outputId": "83c4454e-f86c-4327-a7af-7c60f3c8f27a"
      },
      "execution_count": 101,
      "outputs": [
        {
          "output_type": "stream",
          "name": "stdout",
          "text": [
            "E-\n",
            "3.0\n"
          ]
        }
      ]
    },
    {
      "cell_type": "code",
      "source": [
        "#음표에 가사(Lyric)를 추가하는 방법\n",
        "n1.quarterLength=1.0\n",
        "otherNote=note.Note('F6')\n",
        "otherNote.lyric=\"I'm the Emperor of the Night!\""
      ],
      "metadata": {
        "id": "kAou6Jbyz6Ia"
      },
      "execution_count": 102,
      "outputs": []
    },
    {
      "cell_type": "code",
      "source": [
        "n1.addLyric(n1.nameWithOctave) #E-5를 추가\n",
        "n1.addLyric(n1.pitch.pitchClassString) #E-이니까 '4'\n",
        "n1.addLyric(f'QL: {n1.quarterLength}') #QL(QuarterLength) : 4분음표의 형식으로 추가\n",
        "n1.show('midi')"
      ],
      "metadata": {
        "colab": {
          "base_uri": "https://localhost:8080/",
          "height": 134
        },
        "id": "IKwGgRHV02nh",
        "outputId": "510dc9fd-d1d6-4c24-fd52-3942713da915"
      },
      "execution_count": 110,
      "outputs": [
        {
          "output_type": "display_data",
          "data": {
            "text/plain": [
              "<IPython.core.display.HTML object>"
            ],
            "text/html": [
              "\n",
              "        <div id=\"midiPlayerDiv8711\"></div>\n",
              "        <link rel=\"stylesheet\" href=\"https://cuthbertLab.github.io/music21j/css/m21.css\">\n",
              "        \n",
              "        <script\n",
              "        src=\"https://cdnjs.cloudflare.com/ajax/libs/require.js/2.3.6/require.min.js\"\n",
              "        ></script>\n",
              "    \n",
              "        <script>\n",
              "        function midiPlayerDiv8711_play() {\n",
              "            const rq = require.config({\n",
              "                paths: {\n",
              "                    'music21': 'https://cuthbertLab.github.io/music21j/releases/music21.debug',\n",
              "                }\n",
              "            });\n",
              "            rq(['music21'], function(music21) {\n",
              "                mp = new music21.miditools.MidiPlayer();\n",
              "                mp.addPlayer(\"#midiPlayerDiv8711\");\n",
              "                mp.base64Load(\"data:audio/midi;base64,TVRoZAAAAAYAAQACJ2BNVHJrAAAAFAD/UQMHoSAA/1gEBAIYCM5g/y8ATVRyawAAABcA/wMAAOAAQM5gkEtazmCASwDOYP8vAA==\");\n",
              "            });\n",
              "        }\n",
              "        if (typeof require === 'undefined') {\n",
              "            setTimeout(midiPlayerDiv8711_play, 2000);\n",
              "        } else {\n",
              "            midiPlayerDiv8711_play();\n",
              "        }\n",
              "        </script>"
            ]
          },
          "metadata": {}
        }
      ]
    },
    {
      "cell_type": "code",
      "source": [
        "n1.quarterLenghth=6.25\n",
        "n1.show('midi')"
      ],
      "metadata": {
        "colab": {
          "base_uri": "https://localhost:8080/",
          "height": 134
        },
        "id": "whpgnEHc1Nv3",
        "outputId": "861afd5a-4069-4006-f689-ffb00ceb70ae"
      },
      "execution_count": 113,
      "outputs": [
        {
          "output_type": "display_data",
          "data": {
            "text/plain": [
              "<IPython.core.display.HTML object>"
            ],
            "text/html": [
              "\n",
              "        <div id=\"midiPlayerDiv8753\"></div>\n",
              "        <link rel=\"stylesheet\" href=\"https://cuthbertLab.github.io/music21j/css/m21.css\">\n",
              "        \n",
              "        <script\n",
              "        src=\"https://cdnjs.cloudflare.com/ajax/libs/require.js/2.3.6/require.min.js\"\n",
              "        ></script>\n",
              "    \n",
              "        <script>\n",
              "        function midiPlayerDiv8753_play() {\n",
              "            const rq = require.config({\n",
              "                paths: {\n",
              "                    'music21': 'https://cuthbertLab.github.io/music21j/releases/music21.debug',\n",
              "                }\n",
              "            });\n",
              "            rq(['music21'], function(music21) {\n",
              "                mp = new music21.miditools.MidiPlayer();\n",
              "                mp.addPlayer(\"#midiPlayerDiv8753\");\n",
              "                mp.base64Load(\"data:audio/midi;base64,TVRoZAAAAAYAAQACJ2BNVHJrAAAAFAD/UQMHoSAA/1gEBAIYCM5g/y8ATVRyawAAABcA/wMAAOAAQM5gkEtazmCASwDOYP8vAA==\");\n",
              "            });\n",
              "        }\n",
              "        if (typeof require === 'undefined') {\n",
              "            setTimeout(midiPlayerDiv8753_play, 2000);\n",
              "        } else {\n",
              "            midiPlayerDiv8753_play();\n",
              "        }\n",
              "        </script>"
            ]
          },
          "metadata": {}
        }
      ]
    },
    {
      "cell_type": "markdown",
      "source": [
        "3. Lists, Streams and Output\n"
      ],
      "metadata": {
        "id": "YVUxWcaM6Imh"
      }
    },
    {
      "cell_type": "code",
      "source": [],
      "metadata": {
        "id": "ru4gC0u64ahN"
      },
      "execution_count": null,
      "outputs": []
    }
  ]
}