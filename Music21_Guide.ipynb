{
  "nbformat": 4,
  "nbformat_minor": 0,
  "metadata": {
    "colab": {
      "provenance": [],
      "authorship_tag": "ABX9TyPQlJibOfFt28SIDBR0WroA",
      "include_colab_link": true
    },
    "kernelspec": {
      "name": "python3",
      "display_name": "Python 3"
    },
    "language_info": {
      "name": "python"
    }
  },
  "cells": [
    {
      "cell_type": "markdown",
      "metadata": {
        "id": "view-in-github",
        "colab_type": "text"
      },
      "source": [
        "<a href=\"https://colab.research.google.com/github/UiinKim/Music_Generation/blob/main/Music21_Guide.ipynb\" target=\"_parent\"><img src=\"https://colab.research.google.com/assets/colab-badge.svg\" alt=\"Open In Colab\"/></a>"
      ]
    },
    {
      "cell_type": "markdown",
      "source": [
        "1. Note와 기본적인 사용법"
      ],
      "metadata": {
        "id": "N1oiKUr7eHOK"
      }
    },
    {
      "cell_type": "code",
      "execution_count": 1,
      "metadata": {
        "id": "rRo5gvXqbh4R"
      },
      "outputs": [],
      "source": [
        "import music21"
      ]
    },
    {
      "cell_type": "code",
      "source": [
        "from google.colab import drive\n",
        "drive.mount('/content/drive')"
      ],
      "metadata": {
        "colab": {
          "base_uri": "https://localhost:8080/"
        },
        "id": "M-7NO6kLbv6o",
        "outputId": "9fe73452-2916-4cbf-c729-37a5c7321c9b"
      },
      "execution_count": 2,
      "outputs": [
        {
          "output_type": "stream",
          "name": "stdout",
          "text": [
            "Mounted at /content/drive\n"
          ]
        }
      ]
    },
    {
      "cell_type": "code",
      "source": [
        "import torch\n",
        "import torchvision\n",
        "import torch.nn\n",
        "torch.cuda.is_available()"
      ],
      "metadata": {
        "colab": {
          "base_uri": "https://localhost:8080/"
        },
        "id": "9SXCQXrcb4lW",
        "outputId": "514f296c-603f-45c2-a456-da40bd2ac575"
      },
      "execution_count": 3,
      "outputs": [
        {
          "output_type": "execute_result",
          "data": {
            "text/plain": [
              "False"
            ]
          },
          "metadata": {},
          "execution_count": 3
        }
      ]
    },
    {
      "cell_type": "code",
      "source": [
        "import glob\n",
        "for file in glob.glob('/content/drive/MyDrive/MusicGeneration/*.mid'):\n",
        "  midi=music21.converter.parse(file)"
      ],
      "metadata": {
        "id": "b2kCQWcycJXk"
      },
      "execution_count": 4,
      "outputs": []
    },
    {
      "cell_type": "code",
      "source": [
        "print(midi.analyze('key'))\n",
        "#bach no.1 prelude의 코드"
      ],
      "metadata": {
        "colab": {
          "base_uri": "https://localhost:8080/"
        },
        "id": "OHjB88o1c_KX",
        "outputId": "923de2da-0456-4b56-a10e-c9b1660e5f21"
      },
      "execution_count": 5,
      "outputs": [
        {
          "output_type": "stream",
          "name": "stdout",
          "text": [
            "G major\n"
          ]
        }
      ]
    },
    {
      "cell_type": "code",
      "source": [
        "f=music21.note.Note('F5')"
      ],
      "metadata": {
        "id": "7hfk_4mddg0O"
      },
      "execution_count": 6,
      "outputs": []
    },
    {
      "cell_type": "code",
      "source": [
        "print(f)\n",
        "print(f.name)\n",
        "print(f.octave)\n",
        "print(f.pitch)"
      ],
      "metadata": {
        "colab": {
          "base_uri": "https://localhost:8080/"
        },
        "id": "NKYPonw_eZgP",
        "outputId": "7ce0b2ec-0d77-4b4f-c165-c8f7790fbb1f"
      },
      "execution_count": 7,
      "outputs": [
        {
          "output_type": "stream",
          "name": "stdout",
          "text": [
            "<music21.note.Note F>\n",
            "F\n",
            "5\n",
            "F5\n"
          ]
        }
      ]
    },
    {
      "cell_type": "code",
      "source": [
        "ff=music21.note.Note('F#2')\n",
        "print(ff.name)"
      ],
      "metadata": {
        "colab": {
          "base_uri": "https://localhost:8080/"
        },
        "id": "uLgBoV8sehM-",
        "outputId": "dd6fa6cd-e1c5-49eb-c3fe-68ebcaebddb0"
      },
      "execution_count": 8,
      "outputs": [
        {
          "output_type": "stream",
          "name": "stdout",
          "text": [
            "F#\n"
          ]
        }
      ]
    },
    {
      "cell_type": "code",
      "source": [
        "print(ff.pitch.accidental) # -> 올림표이니 내림표인지를 나타냄\n",
        "k=ff.pitch.accidental"
      ],
      "metadata": {
        "colab": {
          "base_uri": "https://localhost:8080/"
        },
        "id": "m6XNxtwmeqJX",
        "outputId": "78b75a3b-9f7a-49b3-ef07-e9f393d6f9a5"
      },
      "execution_count": 9,
      "outputs": [
        {
          "output_type": "stream",
          "name": "stdout",
          "text": [
            "sharp\n"
          ]
        }
      ]
    },
    {
      "cell_type": "code",
      "source": [
        "print(k.alter) #올림이면 +1.0, 내림이면 -1.0, 제자리는 없음"
      ],
      "metadata": {
        "colab": {
          "base_uri": "https://localhost:8080/"
        },
        "id": "_VW9ysIPetPv",
        "outputId": "2edfdda9-0344-410b-9166-1b9012b92854"
      },
      "execution_count": 10,
      "outputs": [
        {
          "output_type": "stream",
          "name": "stdout",
          "text": [
            "1.0\n"
          ]
        }
      ]
    },
    {
      "cell_type": "code",
      "source": [
        "from music21 import *"
      ],
      "metadata": {
        "id": "8rjuEOzee3ea"
      },
      "execution_count": 11,
      "outputs": []
    },
    {
      "cell_type": "code",
      "source": [
        "dir(note)"
      ],
      "metadata": {
        "colab": {
          "base_uri": "https://localhost:8080/"
        },
        "id": "6iUsiIEWfJWN",
        "outputId": "f69aa93b-5132-43be-c407-c8fa4a570bca"
      },
      "execution_count": 12,
      "outputs": [
        {
          "output_type": "execute_result",
          "data": {
            "text/plain": [
              "['GeneralNote',\n",
              " 'Lyric',\n",
              " 'LyricException',\n",
              " 'NotRest',\n",
              " 'NotRestException',\n",
              " 'Note',\n",
              " 'NoteException',\n",
              " 'Rest',\n",
              " 'SYLLABIC_CHOICES',\n",
              " 'Unpitched',\n",
              " 'noteheadTypeNames',\n",
              " 'stemDirectionNames']"
            ]
          },
          "metadata": {},
          "execution_count": 12
        }
      ]
    },
    {
      "cell_type": "code",
      "source": [
        "print(f.pitch.frequency)\n",
        "print(f.pitch.pitchClassString)\n",
        "#C=0, C# or D-=1, D=2, D# or E-=3, E=4 ..."
      ],
      "metadata": {
        "id": "Ju-cHeh3gAQY",
        "colab": {
          "base_uri": "https://localhost:8080/"
        },
        "outputId": "9b0525e8-4432-482f-dde6-5f4be61991e3"
      },
      "execution_count": 13,
      "outputs": [
        {
          "output_type": "stream",
          "name": "stdout",
          "text": [
            "698.456462866008\n",
            "5\n"
          ]
        }
      ]
    },
    {
      "cell_type": "code",
      "source": [
        "print(f.octave==5)\n",
        "print(f.pitch.pitchClassString==5) #'5'이기 때문에 False로 뜬다\n",
        "print(f.pitch.pitchClassString=='5')"
      ],
      "metadata": {
        "id": "sCTFkU1Ggj7k",
        "colab": {
          "base_uri": "https://localhost:8080/"
        },
        "outputId": "3af201f3-a09d-4b89-fe2b-54d2f3cb8c60"
      },
      "execution_count": 14,
      "outputs": [
        {
          "output_type": "stream",
          "name": "stdout",
          "text": [
            "True\n",
            "False\n",
            "True\n"
          ]
        }
      ]
    },
    {
      "cell_type": "code",
      "source": [
        "bflat=note.Note('B-2') #B flat 2octave"
      ],
      "metadata": {
        "id": "JsBdYYdT412a"
      },
      "execution_count": 15,
      "outputs": []
    },
    {
      "cell_type": "code",
      "source": [
        "bflat.pitch.accidental #bflat의 올림표 내림표 판단"
      ],
      "metadata": {
        "colab": {
          "base_uri": "https://localhost:8080/"
        },
        "id": "xkt1Wc3e7AjL",
        "outputId": "ffdec66c-b385-4783-afdc-fde7ffd45c9b"
      },
      "execution_count": 16,
      "outputs": [
        {
          "output_type": "execute_result",
          "data": {
            "text/plain": [
              "<music21.pitch.Accidental flat>"
            ]
          },
          "metadata": {},
          "execution_count": 16
        }
      ]
    },
    {
      "cell_type": "code",
      "source": [
        "acc=bflat.pitch.accidental\n",
        "acc.alter"
      ],
      "metadata": {
        "colab": {
          "base_uri": "https://localhost:8080/"
        },
        "id": "e9uJ7Goo7FhH",
        "outputId": "3f16bf1f-28bb-4c79-8dbe-6e6eacc3347a"
      },
      "execution_count": 17,
      "outputs": [
        {
          "output_type": "execute_result",
          "data": {
            "text/plain": [
              "-1.0"
            ]
          },
          "metadata": {},
          "execution_count": 17
        }
      ]
    },
    {
      "cell_type": "code",
      "source": [
        "acc.displayLocation"
      ],
      "metadata": {
        "colab": {
          "base_uri": "https://localhost:8080/",
          "height": 35
        },
        "id": "5saDf45v7EEa",
        "outputId": "7211b55a-6e8e-41c1-a43b-e58784cf7978"
      },
      "execution_count": 18,
      "outputs": [
        {
          "output_type": "execute_result",
          "data": {
            "text/plain": [
              "'normal'"
            ],
            "application/vnd.google.colaboratory.intrinsic+json": {
              "type": "string"
            }
          },
          "metadata": {},
          "execution_count": 18
        }
      ]
    },
    {
      "cell_type": "code",
      "source": [
        "bflat.pitch.accidental.displayLocation"
      ],
      "metadata": {
        "colab": {
          "base_uri": "https://localhost:8080/",
          "height": 35
        },
        "id": "GrNV3ESlJJ_s",
        "outputId": "87f42fb6-4154-4915-f8c8-057389d764fc"
      },
      "execution_count": 19,
      "outputs": [
        {
          "output_type": "execute_result",
          "data": {
            "text/plain": [
              "'normal'"
            ],
            "application/vnd.google.colaboratory.intrinsic+json": {
              "type": "string"
            }
          },
          "metadata": {},
          "execution_count": 19
        }
      ]
    },
    {
      "cell_type": "code",
      "source": [
        "acc.displayLocation='above'\n",
        "bflat.pitch.accidental.displayLocation #bflat과 연결된 acc는 아예 같다고 볼 수 있다. -> 하나가 바뀌면 같이 바뀜"
      ],
      "metadata": {
        "colab": {
          "base_uri": "https://localhost:8080/",
          "height": 35
        },
        "id": "hl_XS-Z6JUro",
        "outputId": "38efddf9-c273-4910-e741-6e55d4c07ca6"
      },
      "execution_count": 20,
      "outputs": [
        {
          "output_type": "execute_result",
          "data": {
            "text/plain": [
              "'above'"
            ],
            "application/vnd.google.colaboratory.intrinsic+json": {
              "type": "string"
            }
          },
          "metadata": {},
          "execution_count": 20
        }
      ]
    },
    {
      "cell_type": "code",
      "source": [
        "#bflat.wasWrittenByStockhausen\n",
        "#원래는 note 객체는 wasWrittenByStockhausen이 안됨\n",
        "bflat.wasWrittenByStockhausen=True\n",
        "f.wasWrittenByStockhausen=False"
      ],
      "metadata": {
        "id": "BxG8J2jiJcsp"
      },
      "execution_count": 21,
      "outputs": []
    },
    {
      "cell_type": "code",
      "source": [
        "if bflat.wasWrittenByStockhausen==True: #if문으로 해당 note의 속성 확인\n",
        "  print(\"Hope you're enjoying Sirius!\")"
      ],
      "metadata": {
        "colab": {
          "base_uri": "https://localhost:8080/"
        },
        "id": "dVt1UwboLQLv",
        "outputId": "226bd2a2-2abf-4bbd-c700-04ae5c3b140e"
      },
      "execution_count": 22,
      "outputs": [
        {
          "output_type": "stream",
          "name": "stdout",
          "text": [
            "Hope you're enjoying Sirius!\n"
          ]
        }
      ]
    },
    {
      "cell_type": "code",
      "source": [
        "bflat.wasWrittenByStockhausen"
      ],
      "metadata": {
        "colab": {
          "base_uri": "https://localhost:8080/"
        },
        "id": "F44GIf1xSWeq",
        "outputId": "ff941062-1644-4b08-bc2e-20a4c48ae2c5"
      },
      "execution_count": 23,
      "outputs": [
        {
          "output_type": "execute_result",
          "data": {
            "text/plain": [
              "True"
            ]
          },
          "metadata": {},
          "execution_count": 23
        }
      ]
    },
    {
      "cell_type": "code",
      "source": [
        "!pip install MuseScore"
      ],
      "metadata": {
        "colab": {
          "base_uri": "https://localhost:8080/"
        },
        "id": "MCpLHczmT_jJ",
        "outputId": "75098081-490e-49ca-fb58-5f4ce037cd3b"
      },
      "execution_count": 24,
      "outputs": [
        {
          "output_type": "stream",
          "name": "stdout",
          "text": [
            "Collecting MuseScore\n",
            "  Downloading musescore-0.0.1-py3-none-any.whl (4.0 kB)\n",
            "Installing collected packages: MuseScore\n",
            "Successfully installed MuseScore-0.0.1\n"
          ]
        }
      ]
    },
    {
      "cell_type": "code",
      "source": [
        "f.show('midi') #음표를 들려주는 함수"
      ],
      "metadata": {
        "colab": {
          "base_uri": "https://localhost:8080/",
          "height": 134
        },
        "id": "Fgr9rOVeSZUA",
        "outputId": "b8cdebe0-7bcc-4e1f-d56d-7f5941604d94"
      },
      "execution_count": 25,
      "outputs": [
        {
          "output_type": "display_data",
          "data": {
            "text/plain": [
              "<IPython.core.display.HTML object>"
            ],
            "text/html": [
              "\n",
              "        <div id=\"midiPlayerDiv5800\"></div>\n",
              "        <link rel=\"stylesheet\" href=\"https://cuthbertLab.github.io/music21j/css/m21.css\">\n",
              "        \n",
              "        <script\n",
              "        src=\"https://cdnjs.cloudflare.com/ajax/libs/require.js/2.3.6/require.min.js\"\n",
              "        ></script>\n",
              "    \n",
              "        <script>\n",
              "        function midiPlayerDiv5800_play() {\n",
              "            const rq = require.config({\n",
              "                paths: {\n",
              "                    'music21': 'https://cuthbertLab.github.io/music21j/releases/music21.debug',\n",
              "                }\n",
              "            });\n",
              "            rq(['music21'], function(music21) {\n",
              "                mp = new music21.miditools.MidiPlayer();\n",
              "                mp.addPlayer(\"#midiPlayerDiv5800\");\n",
              "                mp.base64Load(\"data:audio/midi;base64,TVRoZAAAAAYAAQACJ2BNVHJrAAAAFAD/UQMHoSAA/1gEBAIYCM5g/y8ATVRyawAAABcA/wMAAOAAQM5gkE1azmCATQDOYP8vAA==\");\n",
              "            });\n",
              "        }\n",
              "        if (typeof require === 'undefined') {\n",
              "            setTimeout(midiPlayerDiv5800_play, 2000);\n",
              "        } else {\n",
              "            midiPlayerDiv5800_play();\n",
              "        }\n",
              "        </script>"
            ]
          },
          "metadata": {}
        }
      ]
    },
    {
      "cell_type": "code",
      "source": [
        "d=bflat.transpose('M3') #장 3도를 옮겨서 저장(Bflat - C - D) -> Bflat major 스케일에서의 3도\n",
        "d"
      ],
      "metadata": {
        "colab": {
          "base_uri": "https://localhost:8080/"
        },
        "id": "OPXoCtB_TyoB",
        "outputId": "54b02628-764b-4dc8-b85f-b5fc08075620"
      },
      "execution_count": 26,
      "outputs": [
        {
          "output_type": "execute_result",
          "data": {
            "text/plain": [
              "<music21.note.Note D>"
            ]
          },
          "metadata": {},
          "execution_count": 26
        }
      ]
    },
    {
      "cell_type": "code",
      "source": [
        "bflat\n",
        "#d에 저장을 했으므로 bflat은 그대로 유지된다."
      ],
      "metadata": {
        "colab": {
          "base_uri": "https://localhost:8080/"
        },
        "id": "sGpvvHnZYvqt",
        "outputId": "f4d1296a-34c0-4e43-c255-7e0c3b3d6df2"
      },
      "execution_count": 27,
      "outputs": [
        {
          "output_type": "execute_result",
          "data": {
            "text/plain": [
              "<music21.note.Note B->"
            ]
          },
          "metadata": {},
          "execution_count": 27
        }
      ]
    },
    {
      "cell_type": "code",
      "source": [
        "bflat.transpose('P4', inPlace=True) #Bflat minor 스케일에서의 4도\n",
        "bflat"
      ],
      "metadata": {
        "colab": {
          "base_uri": "https://localhost:8080/"
        },
        "id": "ZaF3bz0TZNQB",
        "outputId": "d589094d-e4c4-4028-e5e5-1d9410afcad8"
      },
      "execution_count": 28,
      "outputs": [
        {
          "output_type": "execute_result",
          "data": {
            "text/plain": [
              "<music21.note.Note E->"
            ]
          },
          "metadata": {},
          "execution_count": 28
        }
      ]
    },
    {
      "cell_type": "code",
      "source": [
        "whatNoteIsThis=d.transpose('dd6') #double-diminished sitxh -> 더블 플랫 6위로 이동(D--에서 6개 올라가 )\n",
        "whatNoteIsThis #B triple flat"
      ],
      "metadata": {
        "colab": {
          "base_uri": "https://localhost:8080/"
        },
        "id": "aB_0yb3uZ3I3",
        "outputId": "e7e8ed2d-664e-4b79-aaf0-de22978c60f1"
      },
      "execution_count": 29,
      "outputs": [
        {
          "output_type": "execute_result",
          "data": {
            "text/plain": [
              "<music21.note.Note B--->"
            ]
          },
          "metadata": {},
          "execution_count": 29
        }
      ]
    },
    {
      "cell_type": "code",
      "source": [
        "whatNoteIsThis.pitch.accidental.alter #트리플 플랫이므로 -3.0"
      ],
      "metadata": {
        "colab": {
          "base_uri": "https://localhost:8080/"
        },
        "id": "y73f7N6paav-",
        "outputId": "3cd09000-0f01-4407-c4a1-82d5cb54e021"
      },
      "execution_count": 30,
      "outputs": [
        {
          "output_type": "execute_result",
          "data": {
            "text/plain": [
              "-3.0"
            ]
          },
          "metadata": {},
          "execution_count": 30
        }
      ]
    },
    {
      "cell_type": "code",
      "source": [
        "whatNoteIsThis.pitch.accidental.name"
      ],
      "metadata": {
        "colab": {
          "base_uri": "https://localhost:8080/",
          "height": 35
        },
        "id": "1yTMNmlhc3s4",
        "outputId": "eb8bb284-76dc-4e0d-e9b0-9aa7f0e89307"
      },
      "execution_count": 31,
      "outputs": [
        {
          "output_type": "execute_result",
          "data": {
            "text/plain": [
              "'triple-flat'"
            ],
            "application/vnd.google.colaboratory.intrinsic+json": {
              "type": "string"
            }
          },
          "metadata": {},
          "execution_count": 31
        }
      ]
    },
    {
      "cell_type": "code",
      "source": [
        "print(d.pitch.accidental)\n",
        "# d.pitch.accidental.name 또한 존재하지 않음 -> #이나 flat이 아님"
      ],
      "metadata": {
        "colab": {
          "base_uri": "https://localhost:8080/"
        },
        "id": "RGMm3qWHc9y7",
        "outputId": "e3edba5d-b205-4384-ff0e-2df580023ee2"
      },
      "execution_count": 32,
      "outputs": [
        {
          "output_type": "stream",
          "name": "stdout",
          "text": [
            "None\n"
          ]
        }
      ]
    },
    {
      "cell_type": "code",
      "source": [
        "r=note.Rest() #r.pitch는 존재x, rest는 쉼표\n",
        "#note.Note를 note 변수로 저장 불가"
      ],
      "metadata": {
        "id": "6S_pA8gVdFjc"
      },
      "execution_count": 33,
      "outputs": []
    },
    {
      "cell_type": "markdown",
      "source": [
        "2. Pitch and Duration"
      ],
      "metadata": {
        "id": "RzXCtwA6eOYY"
      }
    },
    {
      "cell_type": "code",
      "source": [
        "p1=pitch.Pitch('b-4') #음정과 샵or플랫, 옥타브 넘버를 설정\n",
        "p1"
      ],
      "metadata": {
        "colab": {
          "base_uri": "https://localhost:8080/"
        },
        "id": "kNPilFXFdmCg",
        "outputId": "ad2ad3b4-3392-467d-f00a-b2e2390c9359"
      },
      "execution_count": 34,
      "outputs": [
        {
          "output_type": "execute_result",
          "data": {
            "text/plain": [
              "<music21.pitch.Pitch B-4>"
            ]
          },
          "metadata": {},
          "execution_count": 34
        }
      ]
    },
    {
      "cell_type": "code",
      "source": [
        "#pitch의 attribute(속성)\n",
        "print(p1.octave)\n",
        "print(p1.pitchClass)\n",
        "print(p1.name)\n",
        "print(p1.accidental.alter)\n",
        "print(p1.nameWithOctave) #옥타브 포함 풀네임\n",
        "print(p1.midi) #midi의 표현법(0~127) C4(가운데 음)=60, C#4(D-4)=61, B3=59"
      ],
      "metadata": {
        "colab": {
          "base_uri": "https://localhost:8080/"
        },
        "id": "UUlMWD_Mdp3d",
        "outputId": "098150d5-4ea0-4148-bab7-ea6f37f2f6aa"
      },
      "execution_count": 35,
      "outputs": [
        {
          "output_type": "stream",
          "name": "stdout",
          "text": [
            "4\n",
            "10\n",
            "B-\n",
            "-1.0\n",
            "B-4\n",
            "70\n"
          ]
        }
      ]
    },
    {
      "cell_type": "code",
      "source": [
        "#따로 생성도 가능\n",
        "p1.name='D#'\n",
        "p1.octave=3\n",
        "p1.nameWithOctave"
      ],
      "metadata": {
        "colab": {
          "base_uri": "https://localhost:8080/",
          "height": 35
        },
        "id": "a8REqW-4fD7t",
        "outputId": "7c248fa9-78d9-4473-e336-3552f64262a7"
      },
      "execution_count": 36,
      "outputs": [
        {
          "output_type": "execute_result",
          "data": {
            "text/plain": [
              "'D#3'"
            ],
            "application/vnd.google.colaboratory.intrinsic+json": {
              "type": "string"
            }
          },
          "metadata": {},
          "execution_count": 36
        }
      ]
    },
    {
      "cell_type": "code",
      "source": [
        "p2=p1.transpose('M7')\n",
        "p2"
      ],
      "metadata": {
        "colab": {
          "base_uri": "https://localhost:8080/"
        },
        "id": "-3RNh1migneV",
        "outputId": "e7a62b75-4355-4237-da30-c5d787eb1024"
      },
      "execution_count": 37,
      "outputs": [
        {
          "output_type": "execute_result",
          "data": {
            "text/plain": [
              "<music21.pitch.Pitch C##4>"
            ]
          },
          "metadata": {},
          "execution_count": 37
        }
      ]
    },
    {
      "cell_type": "code",
      "source": [
        "csharp=note.Note('C#4')\n",
        "print(csharp.name)\n",
        "print(csharp.pitch.name)\n",
        "print(csharp.octave)\n",
        "print(csharp.pitch.octave)\n",
        "#모든 note 안에는 pitch가 존재하므로 바로 note.함수로 사용 가능"
      ],
      "metadata": {
        "colab": {
          "base_uri": "https://localhost:8080/"
        },
        "id": "mzNS3Gpwgw3Z",
        "outputId": "56b870d9-8fbd-4946-b7e6-1c14eceff73a"
      },
      "execution_count": 38,
      "outputs": [
        {
          "output_type": "stream",
          "name": "stdout",
          "text": [
            "C#\n",
            "C#\n",
            "4\n",
            "4\n"
          ]
        }
      ]
    },
    {
      "cell_type": "code",
      "source": [
        "#그러나 더 기술적인 작업을 위해서는 pitch.함수를 이용해 사용해야함\n",
        "print(csharp.pitch.spanish)\n",
        "#pirnt(csharp.spanish) #.pitch로 접근하지 않아서 오류 발생"
      ],
      "metadata": {
        "colab": {
          "base_uri": "https://localhost:8080/"
        },
        "id": "YQDin99HhgFU",
        "outputId": "a6bdd925-d6da-4fff-8d04-c3746995b292"
      },
      "execution_count": 39,
      "outputs": [
        {
          "output_type": "stream",
          "name": "stdout",
          "text": [
            "do sostenido\n"
          ]
        }
      ]
    },
    {
      "cell_type": "code",
      "source": [
        "#pitch를 활용한 함수들\n",
        "print(csharp.pitch.unicodeName)#이쁘게 출력\n",
        "print(csharp.pitch.getEnharmonic())# C#4과 동일한 D-4를 표기(enharmonic)\n",
        "print(csharp.pitch.getLowerEnharmonic()) # C보다 낮은 B를 활용하여 표기\n",
        "#pitch의 속성은 항상 note에 첨부되어 있고, pitch가 아닌 note를 사용하는 이유는 duration을 사용하기 위함이다."
      ],
      "metadata": {
        "colab": {
          "base_uri": "https://localhost:8080/"
        },
        "id": "Sg6PYyYliGHz",
        "outputId": "e2f68b1f-38f1-4105-cb56-c3cc51de097f"
      },
      "execution_count": 40,
      "outputs": [
        {
          "output_type": "stream",
          "name": "stdout",
          "text": [
            "C♯\n",
            "D-4\n",
            "B##3\n"
          ]
        }
      ]
    },
    {
      "cell_type": "code",
      "source": [
        "halfDuration=duration.Duration('half') #2분음표\n",
        "#whole(온음표), half(2분음표), quarter(4분음표), eighth(8분음표), 16th, 32nd, 64th(16~64분음표)\n",
        "#2048th까지 가능. breve(온음표 2개), longa(온음표 4개), maxima(온음표 8개)"
      ],
      "metadata": {
        "id": "RcS_EmE5iwQq"
      },
      "execution_count": 41,
      "outputs": []
    },
    {
      "cell_type": "code",
      "source": [
        "dottedQuarter=duration.Duration(1.5) #점 4분음표"
      ],
      "metadata": {
        "id": "aNsLB5hYj64N"
      },
      "execution_count": 42,
      "outputs": []
    },
    {
      "cell_type": "code",
      "source": [
        "print(dottedQuarter.quarterLength) # dottedQuarter의 길이 확인\n",
        "print(halfDuration.quarterLength) # halfDuration의 길이를 확인\n",
        "print(dottedQuarter.type) #해당 변수의 타입 확인\n",
        "print(halfDuration.type)"
      ],
      "metadata": {
        "colab": {
          "base_uri": "https://localhost:8080/"
        },
        "id": "tBE-g7h6le_A",
        "outputId": "f460eeb2-9d33-4e1b-8196-5cf02d7baa2e"
      },
      "execution_count": 43,
      "outputs": [
        {
          "output_type": "stream",
          "name": "stdout",
          "text": [
            "1.5\n",
            "2.0\n",
            "quarter\n",
            "half\n"
          ]
        }
      ]
    },
    {
      "cell_type": "code",
      "source": [
        "#점이 붙어있을 수 있기 때문에 type 외에도 점을 항상 확인해야한다.\n",
        "print(halfDuration.dots) #halfDuration의 점을 확인\n",
        "print(dottedQuarter.dots) #dottedQuarter의 점을 확인"
      ],
      "metadata": {
        "colab": {
          "base_uri": "https://localhost:8080/"
        },
        "id": "Iup0E8krluoc",
        "outputId": "7def4559-a344-43e1-d81b-562a3b9126ab"
      },
      "execution_count": 44,
      "outputs": [
        {
          "output_type": "stream",
          "name": "stdout",
          "text": [
            "0\n",
            "1\n"
          ]
        }
      ]
    },
    {
      "cell_type": "code",
      "source": [
        "#점에 대한 속성 변경\n",
        "dottedQuarter.dots=2\n",
        "print(dottedQuarter.quarterLength) #점이 2개가 되면 1.75만큼의 길이가 된다."
      ],
      "metadata": {
        "colab": {
          "base_uri": "https://localhost:8080/"
        },
        "id": "jmJl-Jk9nmjJ",
        "outputId": "8d9c47cd-9952-489e-ecb0-3d594ac862ac"
      },
      "execution_count": 45,
      "outputs": [
        {
          "output_type": "stream",
          "name": "stdout",
          "text": [
            "1.75\n"
          ]
        }
      ]
    },
    {
      "cell_type": "code",
      "source": [
        "dottedQuarter.dots=3\n",
        "print(dottedQuarter.quarterLength) #점이 3개인 4분음표"
      ],
      "metadata": {
        "colab": {
          "base_uri": "https://localhost:8080/"
        },
        "id": "dyRhiRLLn_O8",
        "outputId": "95556db9-3028-4c14-9e7b-1971a15d4e01"
      },
      "execution_count": 46,
      "outputs": [
        {
          "output_type": "stream",
          "name": "stdout",
          "text": [
            "1.875\n"
          ]
        }
      ]
    },
    {
      "cell_type": "code",
      "source": [
        "dottedQuarter.dots=4\n",
        "print(dottedQuarter.quarterLength) #점이 4개인 4분음표"
      ],
      "metadata": {
        "colab": {
          "base_uri": "https://localhost:8080/"
        },
        "id": "A0fF9pGDoCj_",
        "outputId": "58c47ce4-83d1-42f3-b562-f08981a9f1fb"
      },
      "execution_count": 47,
      "outputs": [
        {
          "output_type": "stream",
          "name": "stdout",
          "text": [
            "1.9375\n"
          ]
        }
      ]
    },
    {
      "cell_type": "code",
      "source": [
        "#음표 변경 4분음표->16분음표\n",
        "dottedQuarter.quarterLength=0.25 #4분음표 길이의 0.25배는 16분음표\n",
        "print(dottedQuarter.type)\n",
        "print(dottedQuarter.dots)"
      ],
      "metadata": {
        "colab": {
          "base_uri": "https://localhost:8080/"
        },
        "id": "yieBgWUooDRU",
        "outputId": "aa779dd6-d302-4ad2-eb62-e84a0f324dee"
      },
      "execution_count": 48,
      "outputs": [
        {
          "output_type": "stream",
          "name": "stdout",
          "text": [
            "16th\n",
            "0\n"
          ]
        }
      ]
    },
    {
      "cell_type": "code",
      "source": [
        "#Note object에 적용\n",
        "n1=note.Note() #아무것도 적지 않으면 기본값 C4\n",
        "print(n1.pitch)\n",
        "print(n1.duration)"
      ],
      "metadata": {
        "colab": {
          "base_uri": "https://localhost:8080/"
        },
        "id": "YI6xBNOix-bB",
        "outputId": "423c48d3-76ae-4f45-ee13-122281e3649e"
      },
      "execution_count": 49,
      "outputs": [
        {
          "output_type": "stream",
          "name": "stdout",
          "text": [
            "C4\n",
            "<music21.duration.Duration 1.0>\n"
          ]
        }
      ]
    },
    {
      "cell_type": "code",
      "source": [
        "#E-5, 길이는 3\n",
        "n1.pitch.nameWithOctave='E-5'\n",
        "n1.duration.quarterLength=3.0\n",
        "#점 2분음표에 E-, 5옥타브\n",
        "print(n1.duration.type)\n",
        "print(n1.duration.dots)\n",
        "print(n1.pitch.name)\n",
        "print(n1.pitch.accidental)\n",
        "print(n1.octave)"
      ],
      "metadata": {
        "colab": {
          "base_uri": "https://localhost:8080/"
        },
        "id": "Y-19rhipyTaH",
        "outputId": "beb4eda7-97ad-4a38-df18-9d89ba3bec6c"
      },
      "execution_count": 50,
      "outputs": [
        {
          "output_type": "stream",
          "name": "stdout",
          "text": [
            "half\n",
            "1\n",
            "E-\n",
            "flat\n",
            "5\n"
          ]
        }
      ]
    },
    {
      "cell_type": "code",
      "source": [
        "#note로도 바로 함수 사용 가능\n",
        "print(n1.name)\n",
        "print(n1.quarterLength)"
      ],
      "metadata": {
        "colab": {
          "base_uri": "https://localhost:8080/"
        },
        "id": "5LqYSYeszmup",
        "outputId": "b57c50c6-e569-4fec-b694-cdb9efe8d4f1"
      },
      "execution_count": 51,
      "outputs": [
        {
          "output_type": "stream",
          "name": "stdout",
          "text": [
            "E-\n",
            "3.0\n"
          ]
        }
      ]
    },
    {
      "cell_type": "code",
      "source": [
        "#음표에 가사(Lyric)를 추가하는 방법\n",
        "n1.quarterLength=1.0\n",
        "otherNote=note.Note('F6')\n",
        "otherNote.lyric=\"I'm the Emperor of the Night!\""
      ],
      "metadata": {
        "id": "kAou6Jbyz6Ia"
      },
      "execution_count": 52,
      "outputs": []
    },
    {
      "cell_type": "code",
      "source": [
        "n1.addLyric(n1.nameWithOctave) #E-5를 추가\n",
        "n1.addLyric(n1.pitch.pitchClassString) #E-이니까 '4'\n",
        "n1.addLyric(f'QL: {n1.quarterLength}') #QL(QuarterLength) : 4분음표의 형식으로 추가\n",
        "n1.show('midi')"
      ],
      "metadata": {
        "colab": {
          "base_uri": "https://localhost:8080/",
          "height": 134
        },
        "id": "IKwGgRHV02nh",
        "outputId": "f81e3336-981c-4493-d2a8-8c06ce39dcd1"
      },
      "execution_count": 53,
      "outputs": [
        {
          "output_type": "display_data",
          "data": {
            "text/plain": [
              "<IPython.core.display.HTML object>"
            ],
            "text/html": [
              "\n",
              "        <div id=\"midiPlayerDiv5814\"></div>\n",
              "        <link rel=\"stylesheet\" href=\"https://cuthbertLab.github.io/music21j/css/m21.css\">\n",
              "        \n",
              "        <script\n",
              "        src=\"https://cdnjs.cloudflare.com/ajax/libs/require.js/2.3.6/require.min.js\"\n",
              "        ></script>\n",
              "    \n",
              "        <script>\n",
              "        function midiPlayerDiv5814_play() {\n",
              "            const rq = require.config({\n",
              "                paths: {\n",
              "                    'music21': 'https://cuthbertLab.github.io/music21j/releases/music21.debug',\n",
              "                }\n",
              "            });\n",
              "            rq(['music21'], function(music21) {\n",
              "                mp = new music21.miditools.MidiPlayer();\n",
              "                mp.addPlayer(\"#midiPlayerDiv5814\");\n",
              "                mp.base64Load(\"data:audio/midi;base64,TVRoZAAAAAYAAQACJ2BNVHJrAAAAFAD/UQMHoSAA/1gEBAIYCM5g/y8ATVRyawAAABcA/wMAAOAAQM5gkEtazmCASwDOYP8vAA==\");\n",
              "            });\n",
              "        }\n",
              "        if (typeof require === 'undefined') {\n",
              "            setTimeout(midiPlayerDiv5814_play, 2000);\n",
              "        } else {\n",
              "            midiPlayerDiv5814_play();\n",
              "        }\n",
              "        </script>"
            ]
          },
          "metadata": {}
        }
      ]
    },
    {
      "cell_type": "code",
      "source": [
        "n1.quarterLenghth=6.25\n",
        "n1.show('midi')"
      ],
      "metadata": {
        "colab": {
          "base_uri": "https://localhost:8080/",
          "height": 134
        },
        "id": "whpgnEHc1Nv3",
        "outputId": "9c76e972-4606-4a10-fbc0-e1ee43e324ee"
      },
      "execution_count": 54,
      "outputs": [
        {
          "output_type": "display_data",
          "data": {
            "text/plain": [
              "<IPython.core.display.HTML object>"
            ],
            "text/html": [
              "\n",
              "        <div id=\"midiPlayerDiv5828\"></div>\n",
              "        <link rel=\"stylesheet\" href=\"https://cuthbertLab.github.io/music21j/css/m21.css\">\n",
              "        \n",
              "        <script\n",
              "        src=\"https://cdnjs.cloudflare.com/ajax/libs/require.js/2.3.6/require.min.js\"\n",
              "        ></script>\n",
              "    \n",
              "        <script>\n",
              "        function midiPlayerDiv5828_play() {\n",
              "            const rq = require.config({\n",
              "                paths: {\n",
              "                    'music21': 'https://cuthbertLab.github.io/music21j/releases/music21.debug',\n",
              "                }\n",
              "            });\n",
              "            rq(['music21'], function(music21) {\n",
              "                mp = new music21.miditools.MidiPlayer();\n",
              "                mp.addPlayer(\"#midiPlayerDiv5828\");\n",
              "                mp.base64Load(\"data:audio/midi;base64,TVRoZAAAAAYAAQACJ2BNVHJrAAAAFAD/UQMHoSAA/1gEBAIYCM5g/y8ATVRyawAAABcA/wMAAOAAQM5gkEtazmCASwDOYP8vAA==\");\n",
              "            });\n",
              "        }\n",
              "        if (typeof require === 'undefined') {\n",
              "            setTimeout(midiPlayerDiv5828_play, 2000);\n",
              "        } else {\n",
              "            midiPlayerDiv5828_play();\n",
              "        }\n",
              "        </script>"
            ]
          },
          "metadata": {}
        }
      ]
    },
    {
      "cell_type": "markdown",
      "source": [
        "3. Lists, Streams and Output\n"
      ],
      "metadata": {
        "id": "YVUxWcaM6Imh"
      }
    },
    {
      "cell_type": "code",
      "source": [
        "note1=note.Note('C4')\n",
        "note2=note.Note('F#4')\n",
        "note1.duration.type='half'"
      ],
      "metadata": {
        "id": "ru4gC0u64ahN"
      },
      "execution_count": 55,
      "outputs": []
    },
    {
      "cell_type": "code",
      "source": [
        "# step : 계이름(flat, sharp도 제외)만 표시\n",
        "print(note1.step)\n",
        "print(note2.step)"
      ],
      "metadata": {
        "colab": {
          "base_uri": "https://localhost:8080/"
        },
        "id": "_OGyWhUM8xHA",
        "outputId": "7a8b4c8a-ac72-488b-b8ae-7c59c6b9433a"
      },
      "execution_count": 56,
      "outputs": [
        {
          "output_type": "stream",
          "name": "stdout",
          "text": [
            "C\n",
            "F\n"
          ]
        }
      ]
    },
    {
      "cell_type": "code",
      "source": [
        "# notelist 생성\n",
        "noteList=[note1, note2]\n",
        "print(noteList)"
      ],
      "metadata": {
        "colab": {
          "base_uri": "https://localhost:8080/"
        },
        "id": "3Qe7udP6826M",
        "outputId": "2aecb44b-b263-4d7d-cbbb-07692d8186eb"
      },
      "execution_count": 57,
      "outputs": [
        {
          "output_type": "stream",
          "name": "stdout",
          "text": [
            "[<music21.note.Note C>, <music21.note.Note F#>]\n"
          ]
        }
      ]
    },
    {
      "cell_type": "code",
      "source": [
        "#notelist에서 step을 출력\n",
        "note3=note.Note('B-2')\n",
        "noteList.append(note3)\n",
        "for thisNote in noteList:\n",
        "  print(thisNote.step)"
      ],
      "metadata": {
        "colab": {
          "base_uri": "https://localhost:8080/"
        },
        "id": "T4RQ13zw9HJh",
        "outputId": "89067bb2-f783-4464-e932-fa633e2b75d5"
      },
      "execution_count": 58,
      "outputs": [
        {
          "output_type": "stream",
          "name": "stdout",
          "text": [
            "C\n",
            "F\n",
            "B\n"
          ]
        }
      ]
    },
    {
      "cell_type": "code",
      "source": [
        "#index 활용도 가능\n",
        "print(noteList[1])\n",
        "print(noteList.index(note2))\n",
        "print(noteList[-1])\n",
        "print(noteList[-1] is noteList[2])"
      ],
      "metadata": {
        "colab": {
          "base_uri": "https://localhost:8080/"
        },
        "id": "duFtQ4FZ9dW3",
        "outputId": "d3a9b083-7fb5-4379-9907-7767bd9a1849"
      },
      "execution_count": 59,
      "outputs": [
        {
          "output_type": "stream",
          "name": "stdout",
          "text": [
            "<music21.note.Note F#>\n",
            "1\n",
            "<music21.note.Note B->\n",
            "True\n"
          ]
        }
      ]
    },
    {
      "cell_type": "markdown",
      "source": [
        "\n",
        "\n",
        "1.   컨테이너는 파이썬의 리스트\n",
        "2.   Stream과 그 하위 객체(Score, Part, Measure)은 음악 객체들을 담는 컨테이너\n",
        "\n",
        "1.   Stream 내의 각 객체들은 시작 Stream으로부터 얼마나 떨어져 있는지 나타내는 offset을 가진다\n",
        "\n",
        "1.   offset의 예시 : 4/4박자에 2분음표 두개로 이루어져 있다면 첫 번째 음표는 offset 0.0에 위치하고 두 번째 음표는 offset 2.0에 위치한다.\n",
        "2.   Stream 내부에 다른 Stream들 저장 가능 -> 중첩, 순서, 시간 구조 구성 가능\n",
        "\n",
        "\n",
        "6.   Stream 내부의 Stream들도 offset을 갖는다. ex) Part 내에 2개의 4/4 Measure 객체를 넣으면 첫 번째 measure은 offset 0.0에 위치하고 두 번째 measure은 offset 4.0에 위치한다.\n",
        "\n",
        "\n",
        "7.   music21의 모든 객체를 수집하고 담을 때에는 Stream에 넣는다.\n",
        "\n",
        "1.   한 개의 객체가 여러 개의 Stream에 동시 저장이 가능하다. ex) 여러 Measure Stream이 하나의 Part Stream에 들어갈 수 있다.\n",
        "\n",
        "\n",
        "\n",
        "*   Score 클래스는 전체 악곡을 나타내며, 여러 개의 Part로 구성됩니다. 일반적으로 하나의 악곡에는 여러 악기(Part)가 포함되어 있고, Score는 이러한 악기들의 집합을 표현합니다.\n",
        "*   Part 클래스는 악곡의 한 부분, 즉 하나의 악기를 나타냅니다. Part는 여러 개의 Measure로 구성되어 있습니다.\n",
        "\n",
        "*   Measure 클래스는 악기(Part) 내에서 한 마디를 나타냅니다. Measure는 음표, 쉼표, 그리고 다양한 음악 기호들을 포함합니다.\n",
        "\n",
        "\n",
        "\n",
        "\n",
        "\n",
        "\n",
        "\n",
        "\n"
      ],
      "metadata": {
        "id": "Ilg8yc-pCrs5"
      }
    },
    {
      "cell_type": "code",
      "source": [
        "stream1=stream.Stream()\n",
        "stream1.append(note1)\n",
        "stream1.append(note2)\n",
        "stream1.append(note3)"
      ],
      "metadata": {
        "id": "oNj6KFii9wvl"
      },
      "execution_count": 60,
      "outputs": []
    },
    {
      "cell_type": "code",
      "source": [
        "stream2=stream.Stream()\n",
        "n3=note.Note('D#5')\n",
        "stream2.repeatAppend(n3, 4) #n3을 4번 반복해서 stream에 추가한다."
      ],
      "metadata": {
        "id": "7KNj0nyMJvfW"
      },
      "execution_count": 61,
      "outputs": []
    },
    {
      "cell_type": "code",
      "source": [
        "print(len(stream1))\n",
        "stream1.show('text') #stream 안에 있는 것들과 offset을 보여준다."
      ],
      "metadata": {
        "colab": {
          "base_uri": "https://localhost:8080/"
        },
        "id": "Q_CsMAckKV31",
        "outputId": "875b5f87-b793-45b0-c5b8-49dd34fc7643"
      },
      "execution_count": 62,
      "outputs": [
        {
          "output_type": "stream",
          "name": "stdout",
          "text": [
            "3\n",
            "{0.0} <music21.note.Note C>\n",
            "{2.0} <music21.note.Note F#>\n",
            "{3.0} <music21.note.Note B->\n"
          ]
        }
      ]
    },
    {
      "cell_type": "code",
      "source": [
        "#pop()을 사용하면 제거 가능\n",
        "for thisNote in stream1:\n",
        "  print(thisNote.step)\n",
        "print(stream1[0])\n",
        "print(stream1[-1].nameWithOctave)\n",
        "note3Index=stream1.index(note3) #note3의 stream1에서의 인덱스를 추출\n",
        "print(note3Index)\n",
        "stream1.pop(note3Index)#stream1에서 note3의 인덱스를 넣고 제거"
      ],
      "metadata": {
        "colab": {
          "base_uri": "https://localhost:8080/"
        },
        "id": "2xvldmDLKasE",
        "outputId": "1574818d-73b4-4591-aa0d-3f960a885089"
      },
      "execution_count": 63,
      "outputs": [
        {
          "output_type": "stream",
          "name": "stdout",
          "text": [
            "C\n",
            "F\n",
            "B\n",
            "<music21.note.Note C>\n",
            "B-2\n",
            "2\n"
          ]
        },
        {
          "output_type": "execute_result",
          "data": {
            "text/plain": [
              "<music21.note.Note B->"
            ]
          },
          "metadata": {},
          "execution_count": 63
        }
      ]
    },
    {
      "cell_type": "code",
      "source": [
        "stream1.append(note3) #다시 stream1에 note3추가"
      ],
      "metadata": {
        "id": "5yPSKLZgSy96"
      },
      "execution_count": 64,
      "outputs": []
    },
    {
      "cell_type": "code",
      "source": [
        "#getElementsByClass()는 제공된 클래스의 인스턴스 or 하위 클래스인 요소 추출\n",
        "for thisNote in stream1.getElementsByClass(note.Note):\n",
        "  print(thisNote, thisNote.offset)"
      ],
      "metadata": {
        "id": "3RilACIGUMtJ",
        "colab": {
          "base_uri": "https://localhost:8080/"
        },
        "outputId": "f8cfe9f6-95fe-4ece-91a2-bb70ee840543"
      },
      "execution_count": 65,
      "outputs": [
        {
          "output_type": "stream",
          "name": "stdout",
          "text": [
            "<music21.note.Note C> 0.0\n",
            "<music21.note.Note F#> 2.0\n",
            "<music21.note.Note B-> 3.0\n"
          ]
        }
      ]
    },
    {
      "cell_type": "code",
      "source": [
        "#note.Note 대신 문자열 Note로도 가능\n",
        "for thisNote in stream1.getElementsByClass('Note'):\n",
        "  print(thisNote, thisNote.offset)"
      ],
      "metadata": {
        "colab": {
          "base_uri": "https://localhost:8080/"
        },
        "id": "B5wsgQuNOuLd",
        "outputId": "04b3fa48-3dd5-4b2e-aea9-8d890032a946"
      },
      "execution_count": 66,
      "outputs": [
        {
          "output_type": "stream",
          "name": "stdout",
          "text": [
            "<music21.note.Note C> 0.0\n",
            "<music21.note.Note F#> 2.0\n",
            "<music21.note.Note B-> 3.0\n"
          ]
        }
      ]
    },
    {
      "cell_type": "code",
      "source": [
        "for thisNote in stream1.getElementsByClass(['Note', 'Rest']):\n",
        "  print(thisNote, thisNote.offset)"
      ],
      "metadata": {
        "colab": {
          "base_uri": "https://localhost:8080/"
        },
        "id": "eQvBrd0YPACA",
        "outputId": "9bf61f46-3090-4b4f-be19-c0a319597dd5"
      },
      "execution_count": 67,
      "outputs": [
        {
          "output_type": "stream",
          "name": "stdout",
          "text": [
            "<music21.note.Note C> 0.0\n",
            "<music21.note.Note F#> 2.0\n",
            "<music21.note.Note B-> 3.0\n"
          ]
        }
      ]
    },
    {
      "cell_type": "code",
      "source": [
        "for thisNote in stream1.notes: #.notes=['Note', 'Chord']와 동일한 기능\n",
        "  print(thisNote)"
      ],
      "metadata": {
        "colab": {
          "base_uri": "https://localhost:8080/"
        },
        "id": "fF5l-TK_QG6y",
        "outputId": "65757b5f-ee90-495e-8012-56eaddee6ec5"
      },
      "execution_count": 68,
      "outputs": [
        {
          "output_type": "stream",
          "name": "stdout",
          "text": [
            "<music21.note.Note C>\n",
            "<music21.note.Note F#>\n",
            "<music21.note.Note B->\n"
          ]
        }
      ]
    },
    {
      "cell_type": "code",
      "source": [
        "for thisNote in stream1.notesAndRests: #.getElementsByClass(['Note', 'Chord','Rest'])와 동일\n",
        "  print(thisNote)"
      ],
      "metadata": {
        "colab": {
          "base_uri": "https://localhost:8080/"
        },
        "id": "VLULVm56QWCq",
        "outputId": "b671d5d4-a3d8-4b66-ccb7-1e56391a112b"
      },
      "execution_count": 69,
      "outputs": [
        {
          "output_type": "stream",
          "name": "stdout",
          "text": [
            "<music21.note.Note C>\n",
            "<music21.note.Note F#>\n",
            "<music21.note.Note B->\n"
          ]
        }
      ]
    },
    {
      "cell_type": "code",
      "source": [
        "listOut=stream1.pitches #pitches에 대한 호출. stream or notes의 모든 pitches를 반환\n",
        "listOut"
      ],
      "metadata": {
        "colab": {
          "base_uri": "https://localhost:8080/"
        },
        "id": "St6fLrwcRH2V",
        "outputId": "58a74a86-e1dd-40ba-af75-a208a1c404e8"
      },
      "execution_count": 70,
      "outputs": [
        {
          "output_type": "execute_result",
          "data": {
            "text/plain": [
              "[<music21.pitch.Pitch C4>,\n",
              " <music21.pitch.Pitch F#4>,\n",
              " <music21.pitch.Pitch B-2>]"
            ]
          },
          "metadata": {},
          "execution_count": 70
        }
      ]
    },
    {
      "cell_type": "code",
      "source": [
        "sIterator=stream1.getElementsByClass(note.Note) #getElementsByClass가 stream은 아니지만 이걸 활용해 streamd으로 변환이 가능하다.\n",
        "sOut=sIterator.stream()\n",
        "sOut.show('text')"
      ],
      "metadata": {
        "colab": {
          "base_uri": "https://localhost:8080/"
        },
        "id": "G1ZF_uZtRRGA",
        "outputId": "4678efd6-3273-4b1e-d9f8-7276f2e37d6d"
      },
      "execution_count": 72,
      "outputs": [
        {
          "output_type": "stream",
          "name": "stdout",
          "text": [
            "{0.0} <music21.note.Note C>\n",
            "{2.0} <music21.note.Note F#>\n",
            "{3.0} <music21.note.Note B->\n"
          ]
        }
      ]
    },
    {
      "cell_type": "code",
      "source": [
        "sOut=stream1.getElementsByOffset(1,3) #단일 오프셋 혹은 인수로 제공된 두 오프셋 범위 내에 있는 모든 stream 반환\n",
        "print(len(sOut))\n",
        "for thisNote in sOut: #오프셋 1~3(C를 제외한 F#과 B-) 출력\n",
        "  print(thisNote.pitches)"
      ],
      "metadata": {
        "colab": {
          "base_uri": "https://localhost:8080/"
        },
        "id": "cqZVfmHUU4WE",
        "outputId": "759ba9b4-f373-4c21-9374-c4298b0f20e5"
      },
      "execution_count": 77,
      "outputs": [
        {
          "output_type": "stream",
          "name": "stdout",
          "text": [
            "2\n",
            "(<music21.pitch.Pitch F#4>,)\n",
            "(<music21.pitch.Pitch B-2>,)\n"
          ]
        }
      ]
    },
    {
      "cell_type": "code",
      "source": [
        "#getElementsByClass 와 마찬가지로 getElementsByOffset도 stream으로 변환 가능\n",
        "sOut=stream1.getElementsByOffset(2,3).stream()\n",
        "sOut.show('text')"
      ],
      "metadata": {
        "colab": {
          "base_uri": "https://localhost:8080/"
        },
        "id": "dnAS-xQIWySg",
        "outputId": "6db69860-3e0f-478d-87a1-90b9ce8d7caa"
      },
      "execution_count": 78,
      "outputs": [
        {
          "output_type": "stream",
          "name": "stdout",
          "text": [
            "{2.0} <music21.note.Note F#>\n",
            "{3.0} <music21.note.Note B->\n"
          ]
        }
      ]
    },
    {
      "cell_type": "code",
      "source": [
        "stream1.analyze('ambitus') #가장 낮은 음표에서 가장 높은 음표까지의 범위를 ambitus를 통해 stream1에 있는 notes를 가져온다."
      ],
      "metadata": {
        "colab": {
          "base_uri": "https://localhost:8080/"
        },
        "id": "8R5De5M-em9k",
        "outputId": "a6b1d4a3-3e8e-478f-91e2-0e3df6c48a9a"
      },
      "execution_count": 79,
      "outputs": [
        {
          "output_type": "execute_result",
          "data": {
            "text/plain": [
              "<music21.interval.Interval A12>"
            ]
          },
          "metadata": {},
          "execution_count": 79
        }
      ]
    },
    {
      "cell_type": "code",
      "source": [
        "print(note1.offset) #half(2분음표)\n",
        "print(note2.offset) #quarter(4분음표)\n",
        "print(note3.offset) #quarter(4분음표). 만약 8분음표이면 offset은 .5로 표기됨"
      ],
      "metadata": {
        "colab": {
          "base_uri": "https://localhost:8080/"
        },
        "id": "fr2RpCaph4Bm",
        "outputId": "441d61c2-909d-4639-f7d1-fc5d567065d2"
      },
      "execution_count": 83,
      "outputs": [
        {
          "output_type": "stream",
          "name": "stdout",
          "text": [
            "0.0\n",
            "2.0\n",
            "3.0\n"
          ]
        }
      ]
    },
    {
      "cell_type": "code",
      "source": [
        "for thisNote in stream1:\n",
        "  print(thisNote.offset, thisNote.name)"
      ],
      "metadata": {
        "colab": {
          "base_uri": "https://localhost:8080/"
        },
        "id": "4_5ZO7ZTlZCf",
        "outputId": "6fbd14c7-3dc7-4c7d-dd81-6602b0a8279f"
      },
      "execution_count": 84,
      "outputs": [
        {
          "output_type": "stream",
          "name": "stdout",
          "text": [
            "0.0 C\n",
            "2.0 F#\n",
            "3.0 B-\n"
          ]
        }
      ]
    },
    {
      "cell_type": "code",
      "source": [
        "print(note2.offset) #.offset은 4분음표 기준으로 개수를 센다.\n",
        "print(note2.getOffsetBySite(stream1)) #이 매서드는 훨씬 정확하고 구체적으로 offset을 표현해준다.\n",
        "print(stream1.lowestOffset) #stream1의 요소 중 가장 낮은 오프셋을 출력"
      ],
      "metadata": {
        "colab": {
          "base_uri": "https://localhost:8080/"
        },
        "id": "CQfiUta3mHBK",
        "outputId": "be0d0a2c-18be-4c63-855e-69f12148635c"
      },
      "execution_count": 86,
      "outputs": [
        {
          "output_type": "stream",
          "name": "stdout",
          "text": [
            "2.0\n",
            "2.0\n",
            "0.0\n"
          ]
        }
      ]
    },
    {
      "cell_type": "code",
      "source": [
        "stream1.show('midi')"
      ],
      "metadata": {
        "colab": {
          "base_uri": "https://localhost:8080/",
          "height": 134
        },
        "id": "ZGADfNekmpyo",
        "outputId": "39f06676-917f-4009-e9dd-3d8c666ef1eb"
      },
      "execution_count": 87,
      "outputs": [
        {
          "output_type": "display_data",
          "data": {
            "text/plain": [
              "<IPython.core.display.HTML object>"
            ],
            "text/html": [
              "\n",
              "        <div id=\"midiPlayerDiv5872\"></div>\n",
              "        <link rel=\"stylesheet\" href=\"https://cuthbertLab.github.io/music21j/css/m21.css\">\n",
              "        \n",
              "        <script\n",
              "        src=\"https://cdnjs.cloudflare.com/ajax/libs/require.js/2.3.6/require.min.js\"\n",
              "        ></script>\n",
              "    \n",
              "        <script>\n",
              "        function midiPlayerDiv5872_play() {\n",
              "            const rq = require.config({\n",
              "                paths: {\n",
              "                    'music21': 'https://cuthbertLab.github.io/music21j/releases/music21.debug',\n",
              "                }\n",
              "            });\n",
              "            rq(['music21'], function(music21) {\n",
              "                mp = new music21.miditools.MidiPlayer();\n",
              "                mp.addPlayer(\"#midiPlayerDiv5872\");\n",
              "                mp.base64Load(\"data:audio/midi;base64,TVRoZAAAAAYAAQACJ2BNVHJrAAAAFAD/UQMHoSAA/1gEBAIYCM5g/y8ATVRyawAAACoA/wMAAOAAQM5gkDxagZ1AgDwAAJBCWs5ggEIAAJAuWs5ggC4AzmD/LwA=\");\n",
              "            });\n",
              "        }\n",
              "        if (typeof require === 'undefined') {\n",
              "            setTimeout(midiPlayerDiv5872_play, 2000);\n",
              "        } else {\n",
              "            midiPlayerDiv5872_play();\n",
              "        }\n",
              "        </script>"
            ]
          },
          "metadata": {}
        }
      ]
    },
    {
      "cell_type": "code",
      "source": [
        "#defaults module(기본 모듈)은 모두 4분의 4박자이다.\n",
        "print(defaults.meterNumerator)\n",
        "print(defaults.meterDenominator)"
      ],
      "metadata": {
        "colab": {
          "base_uri": "https://localhost:8080/"
        },
        "id": "ZRqHnky7nFPr",
        "outputId": "f2ab9a41-c28c-49e9-fbce-f6013518be06"
      },
      "execution_count": 88,
      "outputs": [
        {
          "output_type": "stream",
          "name": "stdout",
          "text": [
            "4\n",
            "quarter\n"
          ]
        }
      ]
    },
    {
      "cell_type": "code",
      "source": [
        "#__repr__ -> 프롬프트에 변수를 입력하여 사용\n",
        "print(note1) #print안의 부분의 표현법이 __repr__. 각 element에 대한 클래스와 유용한 ㅈ어보를 표시\n",
        "print(stream1) # 끝에 있는 16진수는 .id이며 stream을 식별하는 방법이다."
      ],
      "metadata": {
        "colab": {
          "base_uri": "https://localhost:8080/"
        },
        "id": "M89gVuFVndeX",
        "outputId": "9c632cd7-2491-432d-d1c9-687bbca94703"
      },
      "execution_count": 89,
      "outputs": [
        {
          "output_type": "stream",
          "name": "stdout",
          "text": [
            "<music21.note.Note C>\n",
            "<music21.stream.Stream 0x782d6be18100>\n"
          ]
        }
      ]
    },
    {
      "cell_type": "code",
      "source": [
        "#.id 변경\n",
        "stream1.id='some_notes'\n",
        "print(stream1)\n",
        "\n",
        "#.Note에도 가능하지만 Note에 출력에는 나오지 않는다.\n",
        "note1.id='my_favorite_C'\n",
        "print(note1)"
      ],
      "metadata": {
        "colab": {
          "base_uri": "https://localhost:8080/"
        },
        "id": "OcbQqn9roKEs",
        "outputId": "2515e968-48a9-4ff3-9bea-c2884323cc75"
      },
      "execution_count": 91,
      "outputs": [
        {
          "output_type": "stream",
          "name": "stdout",
          "text": [
            "<music21.stream.Stream some_notes>\n",
            "<music21.note.Note C>\n"
          ]
        }
      ]
    },
    {
      "cell_type": "code",
      "source": [
        "# Music21 객체 : Stream, Note 등\n",
        "print(stream1.duration)\n",
        "print(stream1.duration.type)\n",
        "print(stream1.duration.quarterLength)\n",
        "print(stream1.highestTime) #가장 마지막 요소의 끝나는 시간"
      ],
      "metadata": {
        "colab": {
          "base_uri": "https://localhost:8080/"
        },
        "id": "AVL1agf_odBZ",
        "outputId": "d50093d1-8eab-4f19-a028-6949462c3be4"
      },
      "execution_count": 93,
      "outputs": [
        {
          "output_type": "stream",
          "name": "stdout",
          "text": [
            "<music21.duration.Duration 4.0>\n",
            "whole\n",
            "4.0\n",
            "4.0\n"
          ]
        }
      ]
    },
    {
      "cell_type": "code",
      "source": [
        "#Stream 내의 stream 생성\n",
        "biggerStream=stream.Stream()\n",
        "note2=note.Note('D#5')\n",
        "biggerStream.insert(0, note2) #시작 부분(offset=0)에 D#을 넣는다.\n",
        "biggerStream.append(stream1)\n",
        "biggerStream.show('text')"
      ],
      "metadata": {
        "colab": {
          "base_uri": "https://localhost:8080/"
        },
        "id": "9yxX86TxpFil",
        "outputId": "69bac6da-2625-4236-a316-bfef0cd444ce"
      },
      "execution_count": 94,
      "outputs": [
        {
          "output_type": "stream",
          "name": "stdout",
          "text": [
            "{0.0} <music21.note.Note D#>\n",
            "{1.0} <music21.stream.Stream some_notes>\n",
            "    {0.0} <music21.note.Note C>\n",
            "    {2.0} <music21.note.Note F#>\n",
            "    {3.0} <music21.note.Note B->\n"
          ]
        }
      ]
    },
    {
      "cell_type": "code",
      "source": [
        "print(note1 in stream1)\n",
        "print(note1 in biggerStream) #note1이 stream1 안에 있는 것은 알지만 biggerStream 안에 있는 것은 알지 못한다.\n",
        "#Score, Part, Measure, Voice 모두 Stream이지만 각자의 클래스와 이름이 있다."
      ],
      "metadata": {
        "colab": {
          "base_uri": "https://localhost:8080/"
        },
        "id": "qRCAafMkqudI",
        "outputId": "87e92d2d-b637-420d-915c-3b4fc8544feb"
      },
      "execution_count": 95,
      "outputs": [
        {
          "output_type": "stream",
          "name": "stdout",
          "text": [
            "True\n",
            "False\n"
          ]
        }
      ]
    },
    {
      "cell_type": "markdown",
      "source": [
        "Streams : Hierarchies, Recursion, and Flattening"
      ],
      "metadata": {
        "id": "ik7ZhSE6t00z"
      }
    },
    {
      "cell_type": "code",
      "source": [
        "note1=note.Note('C4')\n",
        "note1.duration.type='half'\n",
        "note2=note.Note('F#4')\n",
        "note3=note.Note('B-2')\n",
        "\n",
        "stream1=stream.Stream()\n",
        "stream1.id='some notes'\n",
        "stream1.append(note1)\n",
        "stream1.append(note2)\n",
        "stream1.append(note3)\n",
        "\n",
        "biggerStream=stream.Stream()\n",
        "note2=note.Note('D#5') #note2를 바꿔서 biggerStream에 넣으면 바껴서 들어가지만 stream1은 그대로 유지된다.\n",
        "biggerStream.insert(note2)\n",
        "biggerStream.append(stream1)\n",
        "biggerStream.show('text') #Stream에 무엇이 있는지 알아내는 방법은 .show('text')를 사용해야 한다."
      ],
      "metadata": {
        "colab": {
          "base_uri": "https://localhost:8080/"
        },
        "id": "XVxyu76VrheI",
        "outputId": "320beaff-df26-4202-81c9-4538b9cdb136"
      },
      "execution_count": 98,
      "outputs": [
        {
          "output_type": "stream",
          "name": "stdout",
          "text": [
            "{0.0} <music21.note.Note D#>\n",
            "{1.0} <music21.stream.Stream some notes>\n",
            "    {0.0} <music21.note.Note C>\n",
            "    {2.0} <music21.note.Note F#>\n",
            "    {3.0} <music21.note.Note B->\n"
          ]
        }
      ]
    },
    {
      "cell_type": "code",
      "source": [
        "print(note) #note or pitch(밑줄의 note는 모듈임) 와 같은 object는 해당 정보에 대해 수행할 수 있는 일부 작업과 함께 정보의 모음이다.\n",
        "print(note.Note) #note.Note와 같은 class는 특정 유형의 새로운 object를 만들 수 있으며 여기의 note는 Note 클래스의 module이다."
      ],
      "metadata": {
        "colab": {
          "base_uri": "https://localhost:8080/"
        },
        "id": "VksuX0JP1qcf",
        "outputId": "b9dc02a9-a722-414c-e064-e73fe972edc0"
      },
      "execution_count": 100,
      "outputs": [
        {
          "output_type": "stream",
          "name": "stdout",
          "text": [
            "<module 'music21.note' from '/usr/local/lib/python3.10/dist-packages/music21/note.py'>\n",
            "<class 'music21.note.Note'>\n"
          ]
        }
      ]
    },
    {
      "cell_type": "code",
      "source": [
        "n=note.Note() #object를 생성할 때 class의 이름에 ()을 사용하여 만들 수 있다.\n",
        "print(n)\n",
        "d=note.Note('D#5') # ()안에 pitch name과 같은 추가적인 정보를 넣을 수 있다.\n",
        "print(d)\n",
        "#여기서 d는 Note 클래스에서 생선된 Note object이다."
      ],
      "metadata": {
        "colab": {
          "base_uri": "https://localhost:8080/"
        },
        "id": "zGzc2kb53EFE",
        "outputId": "d9a3be9c-9dbc-4816-c97a-857cee5a07e5"
      },
      "execution_count": 101,
      "outputs": [
        {
          "output_type": "stream",
          "name": "stdout",
          "text": [
            "<music21.note.Note C>\n",
            "<music21.note.Note D#>\n"
          ]
        }
      ]
    },
    {
      "cell_type": "code",
      "source": [
        "help(note.Note) #도움말"
      ],
      "metadata": {
        "colab": {
          "base_uri": "https://localhost:8080/"
        },
        "id": "TiYsXi9Z5MCW",
        "outputId": "d48f82b0-a4c0-4071-957f-92d4072f9a05"
      },
      "execution_count": 102,
      "outputs": [
        {
          "output_type": "stream",
          "name": "stdout",
          "text": [
            "Help on class Note in module music21.note:\n",
            "\n",
            "class Note(NotRest)\n",
            " |  Note(pitch: 'str | int | Pitch | None' = None, *, name: 'str | None' = None, nameWithOctave: 'str | None' = None, **keywords)\n",
            " |  \n",
            " |  One of the most important music21 classes, a Note\n",
            " |  stores a single note (that is, not a rest or an unpitched element)\n",
            " |  that can be represented by one or more notational units -- so\n",
            " |  for instance a C quarter-note and a D# eighth-tied-to-32nd are both\n",
            " |  a single Note object.\n",
            " |  \n",
            " |  A Note knows both its total duration and how to express itself as a set of\n",
            " |  tied notes of different lengths. For instance, a note of 2.5 quarters in\n",
            " |  length could be half tied to eighth or dotted quarter tied to quarter.\n",
            " |  \n",
            " |  The first argument to the Note is the pitch name (with or without\n",
            " |  octave, see the introduction to :class:`music21.pitch.Pitch`).\n",
            " |  Further arguments can be specified as keywords (such as type, dots, etc.)\n",
            " |  and are passed to the underlying :class:`music21.duration.Duration` element.\n",
            " |  \n",
            " |  >>> n = note.Note()\n",
            " |  >>> n\n",
            " |  <music21.note.Note C>\n",
            " |  >>> n.pitch\n",
            " |  <music21.pitch.Pitch C4>\n",
            " |  \n",
            " |  >>> n = note.Note('B-')\n",
            " |  >>> n.name\n",
            " |  'B-'\n",
            " |  >>> n.octave is None\n",
            " |  True\n",
            " |  >>> n.pitch.implicitOctave\n",
            " |  4\n",
            " |  \n",
            " |  >>> n = note.Note(name='D#')\n",
            " |  >>> n.name\n",
            " |  'D#'\n",
            " |  >>> n = note.Note(nameWithOctave='D#5')\n",
            " |  >>> n.nameWithOctave\n",
            " |  'D#5'\n",
            " |  \n",
            " |  Other ways of instantiating a Pitch object, such as by MIDI number or pitch class\n",
            " |  are also possible:\n",
            " |  \n",
            " |  >>> note.Note(64).nameWithOctave\n",
            " |  'E4'\n",
            " |  \n",
            " |  All keyword args that are valid for Duration or Pitch objects\n",
            " |  are valid (as well as those for superclasses, NotRest, GeneralNote,\n",
            " |  Music21Object):\n",
            " |  \n",
            " |  >>> n = note.Note(step='C', accidental='sharp', octave=2, id='csharp', type='eighth', dots=2)\n",
            " |  >>> n.nameWithOctave\n",
            " |  'C#2'\n",
            " |  >>> n.duration\n",
            " |  <music21.duration.Duration 0.875>\n",
            " |  \n",
            " |  **Equality and ordering**\n",
            " |  \n",
            " |  Two notes are equal if they pass all the equality tests for NotRest and their\n",
            " |  pitches are equal.\n",
            " |  \n",
            " |  Attributes that might change based on the wider context\n",
            " |  of a note (such as offset) are not compared. This test does not look at lyrics in\n",
            " |  establishing equality.  (It may in the future.)\n",
            " |  \n",
            " |  >>> note.Note('C4') == note.Note('C4')\n",
            " |  True\n",
            " |  \n",
            " |  Enharmonics are not equal:\n",
            " |  \n",
            " |  >>> note.Note('D#4') == note.Note('E-4')\n",
            " |  False\n",
            " |  \n",
            " |  >>> note.Note('C4', type='half') == note.Note('C4', type='quarter')\n",
            " |  False\n",
            " |  \n",
            " |  Notes, like pitches, also have an ordering based on their pitches.\n",
            " |  \n",
            " |  >>> highE = note.Note('E5')\n",
            " |  >>> lowF = note.Note('F2')\n",
            " |  >>> otherHighE = note.Note('E5')\n",
            " |  \n",
            " |  >>> highE > lowF\n",
            " |  True\n",
            " |  >>> highE < lowF\n",
            " |  False\n",
            " |  >>> highE >= otherHighE\n",
            " |  True\n",
            " |  >>> highE <= otherHighE\n",
            " |  True\n",
            " |  \n",
            " |  Notice you cannot compare Notes w/ ints or anything that does not a have a\n",
            " |  `.pitch` attribute.\n",
            " |  \n",
            " |  >>> highE < 50\n",
            " |  Traceback (most recent call last):\n",
            " |  TypeError: '<' not supported between instances of 'Note' and 'int'\n",
            " |  \n",
            " |  Note also that two objects can be >= and <= without being equal, because\n",
            " |  only pitch-height is being compared in <, <=, >, >= but duration and other\n",
            " |  elements are compared in equality.\n",
            " |  \n",
            " |  >>> otherHighE.duration.type = 'whole'\n",
            " |  \n",
            " |  Now otherHighE is != highE\n",
            " |  \n",
            " |  >>> highE == otherHighE\n",
            " |  False\n",
            " |  \n",
            " |  But it is both >= and <= it:\n",
            " |  \n",
            " |  >>> highE >= otherHighE\n",
            " |  True\n",
            " |  >>> highE <= otherHighE\n",
            " |  True\n",
            " |  \n",
            " |  (The pigeonhole principle police have a bounty out on my head for this.)\n",
            " |  \n",
            " |  Method resolution order:\n",
            " |      Note\n",
            " |      NotRest\n",
            " |      GeneralNote\n",
            " |      music21.base.Music21Object\n",
            " |      music21.prebase.ProtoM21Object\n",
            " |      builtins.object\n",
            " |  \n",
            " |  Methods defined here:\n",
            " |  \n",
            " |  __deepcopy__(self: 'Note', memo=None) -> 'Note'\n",
            " |      After doing a deepcopy of the pitch, be sure to set the client\n",
            " |  \n",
            " |  __ge__(self, other)\n",
            " |      Return self>=value.\n",
            " |  \n",
            " |  __gt__(self, other)\n",
            " |      Return self>value.\n",
            " |  \n",
            " |  __init__(self, pitch: 'str | int | Pitch | None' = None, *, name: 'str | None' = None, nameWithOctave: 'str | None' = None, **keywords)\n",
            " |      Initialize self.  See help(type(self)) for accurate signature.\n",
            " |  \n",
            " |  __le__(self, other)\n",
            " |      Return self<=value.\n",
            " |  \n",
            " |  __lt__(self, other)\n",
            " |      Return self<value.\n",
            " |  \n",
            " |  pitchChanged(self)\n",
            " |      Called by the underlying pitch if something changed there.\n",
            " |  \n",
            " |  transpose(self, value, *, inPlace=False)\n",
            " |      Transpose the Note by the user-provided\n",
            " |      value. If the value is an integer, the transposition is treated in half steps.\n",
            " |      \n",
            " |      If the value is a string, any Interval string specification can be provided.\n",
            " |      \n",
            " |      >>> a = note.Note('g4')\n",
            " |      >>> b = a.transpose('m3')\n",
            " |      >>> b\n",
            " |      <music21.note.Note B->\n",
            " |      >>> aInterval = interval.Interval(-6)\n",
            " |      >>> b = a.transpose(aInterval)\n",
            " |      >>> b\n",
            " |      <music21.note.Note C#>\n",
            " |      \n",
            " |      >>> c = b.transpose(interval.GenericInterval(2))\n",
            " |      >>> c\n",
            " |      <music21.note.Note D#>\n",
            " |      \n",
            " |      >>> a.transpose(aInterval, inPlace=True)\n",
            " |      >>> a\n",
            " |      <music21.note.Note C#>\n",
            " |      \n",
            " |      \n",
            " |      If the transposition value is an integer, take the KeySignature or Key context\n",
            " |      into account...\n",
            " |      \n",
            " |      >>> s = stream.Stream()\n",
            " |      >>> s.append(key.Key('D'))\n",
            " |      >>> s.append(note.Note('F'))\n",
            " |      >>> s.append(key.Key('b-', 'minor'))\n",
            " |      >>> s.append(note.Note('F'))\n",
            " |      >>> s.show('text')\n",
            " |      {0.0} <music21.key.Key of D major>\n",
            " |      {0.0} <music21.note.Note F>\n",
            " |      {1.0} <music21.key.Key of b- minor>\n",
            " |      {1.0} <music21.note.Note F>\n",
            " |      >>> for n in s.notes:\n",
            " |      ...     n.transpose(1, inPlace=True)\n",
            " |      >>> s.show('text')\n",
            " |      {0.0} <music21.key.Key of D major>\n",
            " |      {0.0} <music21.note.Note F#>\n",
            " |      {1.0} <music21.key.Key of b- minor>\n",
            " |      {1.0} <music21.note.Note G->\n",
            " |  \n",
            " |  ----------------------------------------------------------------------\n",
            " |  Readonly properties defined here:\n",
            " |  \n",
            " |  fullName\n",
            " |      Return the most complete representation of this Note,\n",
            " |      providing duration and pitch information.\n",
            " |      \n",
            " |      \n",
            " |      >>> n = note.Note('A-', quarterLength=1.5)\n",
            " |      >>> n.fullName\n",
            " |      'A-flat Dotted Quarter Note'\n",
            " |      \n",
            " |      >>> n = note.Note('E~3', quarterLength=2)\n",
            " |      >>> n.fullName\n",
            " |      'E-half-sharp in octave 3 Half Note'\n",
            " |      \n",
            " |      >>> n = note.Note('D', quarterLength=0.25)\n",
            " |      >>> n.pitch.microtone = 25\n",
            " |      >>> n.fullName\n",
            " |      'D (+25c) 16th Note'\n",
            " |  \n",
            " |  ----------------------------------------------------------------------\n",
            " |  Data descriptors defined here:\n",
            " |  \n",
            " |  name\n",
            " |      Return or set the pitch name from the :class:`~music21.pitch.Pitch` object.\n",
            " |      See `Pitch`'s attribute :attr:`~music21.pitch.Pitch.name`.\n",
            " |  \n",
            " |  nameWithOctave\n",
            " |      Return or set the pitch name with octave from the :class:`~music21.pitch.Pitch` object.\n",
            " |      See `Pitch`'s attribute :attr:`~music21.pitch.Pitch.nameWithOctave`.\n",
            " |  \n",
            " |  octave\n",
            " |      Return or set the octave value from the :class:`~music21.pitch.Pitch` object.\n",
            " |      See :attr:`~music21.pitch.Pitch.octave`.\n",
            " |  \n",
            " |  pitches\n",
            " |      Return the single :class:`~music21.pitch.Pitch` object in a tuple.\n",
            " |      This property is designed to provide an interface analogous to\n",
            " |      that found on :class:`~music21.chord.Chord` so that `[c.pitches for c in s.notes]`\n",
            " |      provides a consistent interface for all objects.\n",
            " |      \n",
            " |      >>> n = note.Note('g#')\n",
            " |      >>> n.nameWithOctave\n",
            " |      'G#'\n",
            " |      >>> n.pitches\n",
            " |      (<music21.pitch.Pitch G#>,)\n",
            " |      \n",
            " |      Since this is a Note, not a chord, from the list or tuple,\n",
            " |      only the first one will be used:\n",
            " |      \n",
            " |      >>> n.pitches = [pitch.Pitch('c2'), pitch.Pitch('g2')]\n",
            " |      >>> n.nameWithOctave\n",
            " |      'C2'\n",
            " |      >>> n.pitches\n",
            " |      (<music21.pitch.Pitch C2>,)\n",
            " |      \n",
            " |      The value for setting must be a list or tuple:\n",
            " |      \n",
            " |      >>> n.pitches = pitch.Pitch('C4')\n",
            " |      Traceback (most recent call last):\n",
            " |      music21.note.NoteException: cannot set pitches with provided object: C4\n",
            " |      \n",
            " |      For setting a single one, use `n.pitch` instead.\n",
            " |      \n",
            " |      Don't use strings, or you will get a string back!\n",
            " |      \n",
            " |      >>> n.pitches = ('C4', 'D4')\n",
            " |      >>> n.pitch\n",
            " |      'C4'\n",
            " |      >>> n.pitch.diatonicNoteNum\n",
            " |      Traceback (most recent call last):\n",
            " |      AttributeError: 'str' object has no attribute 'diatonicNoteNum'\n",
            " |  \n",
            " |  step\n",
            " |      Return or set the pitch step from the :class:`~music21.pitch.Pitch` object.\n",
            " |      See :attr:`~music21.pitch.Pitch.step`.\n",
            " |  \n",
            " |  ----------------------------------------------------------------------\n",
            " |  Data and other attributes defined here:\n",
            " |  \n",
            " |  __annotations__ = {'_DOC_ATTR': 'dict[str, str]', 'equalityAttributes'...\n",
            " |  \n",
            " |  equalityAttributes = ('pitch',)\n",
            " |  \n",
            " |  isNote = True\n",
            " |  \n",
            " |  ----------------------------------------------------------------------\n",
            " |  Methods inherited from NotRest:\n",
            " |  \n",
            " |  getInstrument(self, *, returnDefault: 'bool' = True) -> 'instrument.Instrument | None'\n",
            " |      Retrieves the `.storedInstrument` on this `NotRest` instance, if any.\n",
            " |      If one is not found, executes a context search (without following\n",
            " |      derivations) to find the closest (i.e., active) instrument in the\n",
            " |      stream hierarchy.\n",
            " |      \n",
            " |      Returns a default instrument if no instrument is found in the context\n",
            " |      and `returnDefault` is True (default).\n",
            " |      \n",
            " |      >>> n = note.Note()\n",
            " |      >>> m = stream.Measure([n])\n",
            " |      >>> n.getInstrument(returnDefault=False) is None\n",
            " |      True\n",
            " |      >>> dulcimer = instrument.Dulcimer()\n",
            " |      >>> m.insert(0, dulcimer)\n",
            " |      >>> n.getInstrument() is dulcimer\n",
            " |      True\n",
            " |      \n",
            " |      Overridden `.storedInstrument` is privileged:\n",
            " |      \n",
            " |      >>> picc = instrument.Piccolo()\n",
            " |      >>> n.storedInstrument = picc\n",
            " |      >>> n.getInstrument() is picc\n",
            " |      True\n",
            " |      \n",
            " |      Instruments in containing streams ARE found:\n",
            " |      \n",
            " |      >>> n.storedInstrument = None\n",
            " |      >>> m.remove(dulcimer)\n",
            " |      >>> p = stream.Part([m])\n",
            " |      >>> p.insert(0, dulcimer)\n",
            " |      >>> n.getInstrument() is dulcimer\n",
            " |      True\n",
            " |      \n",
            " |      But not if the instrument is only found in a derived stream:\n",
            " |      \n",
            " |      >>> derived = p.stripTies()\n",
            " |      >>> p.remove(dulcimer)\n",
            " |      >>> derived.getInstruments().first()\n",
            " |      <music21.instrument.Dulcimer 'Dulcimer'>\n",
            " |      >>> n.getInstrument(returnDefault=False) is None\n",
            " |      True\n",
            " |      \n",
            " |      Electing to return a default generic `Instrument`:\n",
            " |      \n",
            " |      >>> n.getInstrument(returnDefault=True)\n",
            " |      <music21.instrument.Instrument ''>\n",
            " |  \n",
            " |  hasVolumeInformation(self) -> 'bool'\n",
            " |      Returns bool whether volume was set -- saving some time for advanced\n",
            " |      users (such as MusicXML exporters) that only want to look at the volume\n",
            " |      if it is already there.\n",
            " |      \n",
            " |      >>> n = note.Note()\n",
            " |      >>> n.hasVolumeInformation()\n",
            " |      False\n",
            " |      >>> n.volume\n",
            " |       <music21.volume.Volume realized=0.71>\n",
            " |      >>> n.hasVolumeInformation()\n",
            " |      True\n",
            " |  \n",
            " |  ----------------------------------------------------------------------\n",
            " |  Data descriptors inherited from NotRest:\n",
            " |  \n",
            " |  notehead\n",
            " |      Get or set the notehead type of this NotRest object.\n",
            " |      Valid notehead type names are found in note.noteheadTypeNames (see below):\n",
            " |      \n",
            " |      \n",
            " |      >>> note.noteheadTypeNames\n",
            " |      ('arrow down', 'arrow up', 'back slashed', 'circle dot', 'circle-x', 'circled', 'cluster',\n",
            " |       'cross', 'diamond', 'do', 'fa', 'inverted triangle', 'la', 'left triangle',\n",
            " |       'mi', 'none', 'normal', 'other', 're', 'rectangle', 'slash', 'slashed', 'so',\n",
            " |       'square', 'ti', 'triangle', 'x')\n",
            " |      >>> n = note.Note()\n",
            " |      >>> n.notehead = 'diamond'\n",
            " |      >>> n.notehead\n",
            " |      'diamond'\n",
            " |      \n",
            " |      >>> n.notehead = 'junk'\n",
            " |      Traceback (most recent call last):\n",
            " |      music21.note.NotRestException: not a valid notehead type name: 'junk'\n",
            " |  \n",
            " |  noteheadFill\n",
            " |      Get or set the note head fill status of this NotRest. Valid note head fill values are\n",
            " |      True, False, or None (meaning default).  \"yes\" and \"no\" are converted to True\n",
            " |      and False.\n",
            " |      \n",
            " |      >>> n = note.Note()\n",
            " |      >>> n.noteheadFill = 'no'\n",
            " |      >>> n.noteheadFill\n",
            " |      False\n",
            " |      >>> n.noteheadFill = 'filled'\n",
            " |      >>> n.noteheadFill\n",
            " |      True\n",
            " |      \n",
            " |      >>> n.noteheadFill = 'jelly'\n",
            " |      Traceback (most recent call last):\n",
            " |      music21.note.NotRestException: not a valid notehead fill value: 'jelly'\n",
            " |  \n",
            " |  noteheadParenthesis\n",
            " |      Get or set the note head parentheses for this Note/Unpitched/Chord object.\n",
            " |      \n",
            " |      >>> n = note.Note()\n",
            " |      >>> n.noteheadParenthesis\n",
            " |      False\n",
            " |      >>> n.noteheadParenthesis = True\n",
            " |      >>> n.noteheadParenthesis\n",
            " |      True\n",
            " |      \n",
            " |      'yes' or 1 equate to True; 'no' or 0 to False\n",
            " |      \n",
            " |      >>> n.noteheadParenthesis = 'no'\n",
            " |      >>> n.noteheadParenthesis\n",
            " |      False\n",
            " |      \n",
            " |      Anything else raises an exception:\n",
            " |      \n",
            " |      >>> n.noteheadParenthesis = 'blah'\n",
            " |      Traceback (most recent call last):\n",
            " |      music21.note.NotRestException: notehead parentheses must be True or False, not 'blah'\n",
            " |  \n",
            " |  stemDirection\n",
            " |      Get or set the stem direction of this NotRest object.\n",
            " |      Valid stem direction names are found in note.stemDirectionNames (see below).\n",
            " |      \n",
            " |      >>> note.stemDirectionNames\n",
            " |      ('double', 'down', 'noStem', 'none', 'unspecified', 'up')\n",
            " |      >>> n = note.Note()\n",
            " |      \n",
            " |      By default, a Note's stemDirection is 'unspecified'\n",
            " |      meaning that it is unknown:\n",
            " |      \n",
            " |      >>> n.stemDirection\n",
            " |      'unspecified'\n",
            " |      \n",
            " |      >>> n.stemDirection = 'noStem'\n",
            " |      >>> n.stemDirection\n",
            " |      'noStem'\n",
            " |      \n",
            " |      The alias 'none' (the string) is the same as 'noStem'\n",
            " |      \n",
            " |      >>> n.stemDirection = 'none'\n",
            " |      >>> n.stemDirection\n",
            " |      'noStem'\n",
            " |      \n",
            " |      >>> n.stemDirection = 'junk'\n",
            " |      Traceback (most recent call last):\n",
            " |      music21.note.NotRestException: not a valid stem direction name: junk\n",
            " |      \n",
            " |      Stem direction can be set explicitly to None to remove\n",
            " |      any prior stem information, same as 'unspecified':\n",
            " |      \n",
            " |      >>> n.stemDirection = None\n",
            " |      >>> n.stemDirection\n",
            " |      'unspecified'\n",
            " |  \n",
            " |  storedInstrument\n",
            " |      Get and set the :class:`~music21.instrument.Instrument` that\n",
            " |      should be used to play this note, overriding whatever\n",
            " |      Instrument object may be active in the Stream. (See\n",
            " |      :meth:`getInstrument` for a means of retrieving `storedInstrument`\n",
            " |      if available before falling back to a context search to find\n",
            " |      the active instrument.)\n",
            " |  \n",
            " |  volume\n",
            " |      Get and set the :class:`~music21.volume.Volume` object of this object.\n",
            " |      Volume objects are created on demand.\n",
            " |      \n",
            " |      >>> n1 = note.Note()\n",
            " |      >>> n1.volume.velocity = 120\n",
            " |      >>> n2 = note.Note()\n",
            " |      >>> n2.volume = 80  # can directly set a velocity value\n",
            " |      >>> s = stream.Stream()\n",
            " |      >>> s.append([n1, n2])\n",
            " |      >>> [n.volume.velocity for n in s.notes]\n",
            " |      [120, 80]\n",
            " |  \n",
            " |  ----------------------------------------------------------------------\n",
            " |  Methods inherited from GeneralNote:\n",
            " |  \n",
            " |  __eq__(self, other)\n",
            " |      Define equality for Music21Objects.  See main class docs.\n",
            " |  \n",
            " |  __hash__(self)\n",
            " |      Restore hashing, but only on id(self)\n",
            " |  \n",
            " |  addLyric(self, text, lyricNumber=None, *, applyRaw=False, lyricIdentifier=None) -> 'None'\n",
            " |      Adds a lyric, or an additional lyric, to a Note, Chord, or Rest's lyric list.\n",
            " |      If `lyricNumber` is not None, a specific line of lyric text can be set.\n",
            " |      The lyricIdentifier can also be set.\n",
            " |      \n",
            " |      >>> n1 = note.Note()\n",
            " |      >>> n1.addLyric('hello')\n",
            " |      >>> n1.lyrics[0].text\n",
            " |      'hello'\n",
            " |      >>> n1.lyrics[0].number\n",
            " |      1\n",
            " |      \n",
            " |      An added option gives the lyric number, not the list position\n",
            " |      \n",
            " |      >>> n1.addLyric('bye', 3)\n",
            " |      >>> n1.lyrics[1].text\n",
            " |      'bye'\n",
            " |      >>> n1.lyrics[1].number\n",
            " |      3\n",
            " |      >>> for lyr in n1.lyrics:\n",
            " |      ...     print(lyr.text)\n",
            " |      hello\n",
            " |      bye\n",
            " |      \n",
            " |      Replace an existing lyric by specifying the same number:\n",
            " |      \n",
            " |      >>> n1.addLyric('ciao', 3)\n",
            " |      >>> n1.lyrics[1].text\n",
            " |      'ciao'\n",
            " |      >>> n1.lyrics[1].number\n",
            " |      3\n",
            " |      \n",
            " |      Giving a lyric with a hyphen at either end will set whether it\n",
            " |      is part of a multisyllable word:\n",
            " |      \n",
            " |      >>> n1.addLyric('good-')\n",
            " |      >>> n1.lyrics[2].text\n",
            " |      'good'\n",
            " |      >>> n1.lyrics[2].syllabic\n",
            " |      'begin'\n",
            " |      \n",
            " |      This feature can be overridden by specifying the keyword only argument \"applyRaw=True\":\n",
            " |      \n",
            " |      >>> n1.addLyric('-5', applyRaw=True)\n",
            " |      >>> n1.lyrics[3].text\n",
            " |      '-5'\n",
            " |      >>> n1.lyrics[3].syllabic\n",
            " |      'single'\n",
            " |  \n",
            " |  augmentOrDiminish(self, scalar, *, inPlace=False)\n",
            " |      Given a scalar greater than zero, return a Note with a scaled Duration.\n",
            " |      If `inPlace` is True, this is done in-place and the method returns None.\n",
            " |      If `inPlace` is False [default], this returns a modified deepcopy.\n",
            " |      \n",
            " |      * Changed in v5: inPlace is now False.\n",
            " |      \n",
            " |      >>> n = note.Note('g#')\n",
            " |      >>> n.quarterLength = 3\n",
            " |      >>> n.augmentOrDiminish(2, inPlace=True)\n",
            " |      >>> n.quarterLength\n",
            " |      6.0\n",
            " |      \n",
            " |      >>> c = chord.Chord(['g#', 'a#', 'd'])\n",
            " |      >>> c.quarterLength = 2\n",
            " |      >>> c.augmentOrDiminish(0.25, inPlace=True)\n",
            " |      >>> c.quarterLength\n",
            " |      0.5\n",
            " |      \n",
            " |      >>> n = note.Note('g#')\n",
            " |      >>> n.augmentOrDiminish(-1)\n",
            " |      Traceback (most recent call last):\n",
            " |      music21.note.NoteException: scalar must be greater than zero\n",
            " |      \n",
            " |      >>> n = note.Note()\n",
            " |      >>> n.quarterLength = 3\n",
            " |      >>> n2 = n.augmentOrDiminish(1/3, inPlace=False)\n",
            " |      >>> n2.quarterLength\n",
            " |      1.0\n",
            " |      >>> n.quarterLength\n",
            " |      3.0\n",
            " |  \n",
            " |  getGrace(self, *, appoggiatura=False, inPlace=False)\n",
            " |      Return a grace version of this GeneralNote\n",
            " |      \n",
            " |      >>> n = note.Note('G4', quarterLength=2)\n",
            " |      >>> n.duration.quarterLength\n",
            " |      2.0\n",
            " |      >>> n.duration.isGrace\n",
            " |      False\n",
            " |      >>> n.duration\n",
            " |      <music21.duration.Duration 2.0>\n",
            " |      >>> n.duration.type\n",
            " |      'half'\n",
            " |      >>> n.duration.components\n",
            " |      (DurationTuple(type='half', dots=0, quarterLength=2.0),)\n",
            " |      \n",
            " |      >>> ng = n.getGrace()\n",
            " |      >>> ng.duration.quarterLength\n",
            " |      0.0\n",
            " |      >>> ng.duration.isGrace\n",
            " |      True\n",
            " |      >>> ng.duration\n",
            " |      <music21.duration.GraceDuration unlinked type:half quarterLength:0.0>\n",
            " |      >>> ng.duration.type\n",
            " |      'half'\n",
            " |      >>> ng.duration.components\n",
            " |      (DurationTuple(type='half', dots=0, quarterLength=0.0),)\n",
            " |      \n",
            " |      Appoggiaturas are still a work in progress...\n",
            " |      * Changed in v6: corrected spelling of `appoggiatura` keyword.\n",
            " |      \n",
            " |      >>> ng2 = n.getGrace(appoggiatura=True)\n",
            " |      >>> ng2.duration\n",
            " |      <music21.duration.AppoggiaturaDuration unlinked type:half quarterLength:0.0>\n",
            " |      >>> ng2.duration.slash\n",
            " |      False\n",
            " |      \n",
            " |      Set inPlace to True to change the duration element on the Note.  This can have\n",
            " |      negative consequences if the Note is in a stream.\n",
            " |      \n",
            " |      >>> r = note.Rest(quarterLength=0.5)\n",
            " |      >>> r.getGrace(inPlace=True)\n",
            " |      >>> r.duration\n",
            " |      <music21.duration.GraceDuration unlinked type:eighth quarterLength:0.0>\n",
            " |  \n",
            " |  insertLyric(self, text, index=0, *, applyRaw=False, identifier=None)\n",
            " |      Inserts a lyric into the Note, Chord, or Rest's lyric list in front of\n",
            " |      the index specified (0 by default), using index + 1 as the inserted lyric's\n",
            " |      line number. shifts line numbers of all following lyrics in list\n",
            " |      \n",
            " |      >>> n1 = note.Note()\n",
            " |      >>> n1.addLyric('second')\n",
            " |      >>> n1.lyrics\n",
            " |      [<music21.note.Lyric number=1 syllabic=single text='second'>]\n",
            " |      >>> n1.insertLyric('first', 0)\n",
            " |      >>> n1.lyrics\n",
            " |      [<music21.note.Lyric number=1 syllabic=single text='first'>,\n",
            " |       <music21.note.Lyric number=2 syllabic=single text='second'>]\n",
            " |      \n",
            " |      OMIT_FROM_DOCS\n",
            " |      \n",
            " |      test inserting in the middle.\n",
            " |      \n",
            " |      >>> n1.insertLyric('newSecond', 1)\n",
            " |      >>> n1.lyrics\n",
            " |      [<music21.note.Lyric number=1 syllabic=single text='first'>,\n",
            " |       <music21.note.Lyric number=2 syllabic=single text='newSecond'>,\n",
            " |       <music21.note.Lyric number=3 syllabic=single text='second'>]\n",
            " |      \n",
            " |      Test number as lyric...\n",
            " |      \n",
            " |      >>> n1.insertLyric(0, 3)\n",
            " |      >>> n1.lyrics\n",
            " |      [<music21.note.Lyric number=1 syllabic=single text='first'>,\n",
            " |       <music21.note.Lyric number=2 syllabic=single text='newSecond'>,\n",
            " |       <music21.note.Lyric number=3 syllabic=single text='second'>,\n",
            " |       <music21.note.Lyric number=4 syllabic=single text='0'>]\n",
            " |  \n",
            " |  ----------------------------------------------------------------------\n",
            " |  Data descriptors inherited from GeneralNote:\n",
            " |  \n",
            " |  lyric\n",
            " |      The lyric property can\n",
            " |      be used to get and set a lyric for this\n",
            " |      Note, Chord, or Rest. This is a simplified version of the more general\n",
            " |      :meth:`~music21.note.GeneralNote.addLyric` method.\n",
            " |      \n",
            " |      >>> a = note.Note('A4')\n",
            " |      >>> a.lyrics\n",
            " |      []\n",
            " |      >>> a.lyric = 'hel-'\n",
            " |      >>> a.lyric\n",
            " |      'hel'\n",
            " |      >>> a.lyrics\n",
            " |      [<music21.note.Lyric number=1 syllabic=begin text='hel'>]\n",
            " |      \n",
            " |      Eliminate Lyrics by setting a.lyric to None\n",
            " |      \n",
            " |      >>> a.lyric = None\n",
            " |      >>> a.lyric\n",
            " |      >>> a.lyrics\n",
            " |      []\n",
            " |      \n",
            " |      Set multiple lyrics with \\n separated text:\n",
            " |      \n",
            " |      >>> a.lyric = '1. Hi\\n2. Bye'\n",
            " |      >>> a.lyric\n",
            " |      '1. Hi\\n2. Bye'\n",
            " |      >>> a.lyrics\n",
            " |      [<music21.note.Lyric number=1 syllabic=single text='1. Hi'>,\n",
            " |       <music21.note.Lyric number=2 syllabic=single text='2. Bye'>]\n",
            " |      \n",
            " |      \n",
            " |      You can also set a lyric with a lyric object directly:\n",
            " |      \n",
            " |      >>> b = note.Note('B5')\n",
            " |      >>> ly = note.Lyric('bon-')\n",
            " |      >>> b.lyric = ly\n",
            " |      >>> b.lyrics\n",
            " |      [<music21.note.Lyric number=1 syllabic=begin text='bon'>]\n",
            " |      >>> b.lyric\n",
            " |      'bon'\n",
            " |      \n",
            " |      * Changed in v6.7: added setting to a Lyric object.  Removed undocumented\n",
            " |        setting to False instead of setting to None\n",
            " |  \n",
            " |  tie\n",
            " |      Return and set a :class:`~music21.note.Tie` object, or None.\n",
            " |      \n",
            " |      >>> n = note.Note()\n",
            " |      >>> n.tie is None\n",
            " |      True\n",
            " |      >>> n.tie = tie.Tie('start')\n",
            " |  \n",
            " |  ----------------------------------------------------------------------\n",
            " |  Data and other attributes inherited from GeneralNote:\n",
            " |  \n",
            " |  isChord = False\n",
            " |  \n",
            " |  isRest = False\n",
            " |  \n",
            " |  ----------------------------------------------------------------------\n",
            " |  Methods inherited from music21.base.Music21Object:\n",
            " |  \n",
            " |  __getstate__(self) -> 'dict[str, t.Any]'\n",
            " |  \n",
            " |  __setstate__(self, state: 'dict[str, t.Any]')\n",
            " |  \n",
            " |  clearCache(self, **keywords) -> 'None'\n",
            " |      A number of music21 attributes (especially with Chords and RomanNumerals, etc.)\n",
            " |      are expensive to compute and are therefore cached.  Generally speaking\n",
            " |      objects are responsible for making sure that their own caches are up to date,\n",
            " |      but a power user might want to do something in an unusual way (such as manipulating\n",
            " |      private attributes on a Pitch object) and need to be able to clear caches.\n",
            " |      \n",
            " |      That's what this is here for.  If all goes well, you'll never need to call it\n",
            " |      unless you're expanding music21's core functionality.\n",
            " |      \n",
            " |      `**keywords` is not used in Music21Object but is included for subclassing.\n",
            " |      \n",
            " |      Look at :func:`~music21.common.decorators.cacheMethod` for the other half of this\n",
            " |      utility.\n",
            " |      \n",
            " |      * New in v6: exposes previously hidden functionality.\n",
            " |  \n",
            " |  containerHierarchy(self, *, followDerivation=True, includeNonStreamDerivations=False)\n",
            " |      Return a list of Stream subclasses that this object\n",
            " |      is contained within or (if followDerivation is set) is derived from.\n",
            " |      \n",
            " |      This method gives access to the hierarchy that contained or\n",
            " |      created this object.\n",
            " |      \n",
            " |      >>> s = corpus.parse('bach/bwv66.6')\n",
            " |      >>> noteE = s[1][2][3]\n",
            " |      >>> noteE\n",
            " |      <music21.note.Note E>\n",
            " |      >>> [e for e in noteE.containerHierarchy()]\n",
            " |      [<music21.stream.Measure 1 offset=1.0>,\n",
            " |       <music21.stream.Part Soprano>,\n",
            " |       <music21.stream.Score bach/bwv66.6.mxl>]\n",
            " |      \n",
            " |      \n",
            " |      Note that derived objects also can follow the container hierarchy:\n",
            " |      \n",
            " |      >>> import copy\n",
            " |      >>> n2 = copy.deepcopy(noteE)\n",
            " |      >>> [e for e in n2.containerHierarchy()]\n",
            " |      [<music21.stream.Measure 1 offset=1.0>,\n",
            " |       <music21.stream.Part Soprano>,\n",
            " |       <music21.stream.Score bach/bwv66.6.mxl>]\n",
            " |      \n",
            " |      Unless followDerivation is False:\n",
            " |      \n",
            " |      >>> [e for e in n2.containerHierarchy(followDerivation=False)]\n",
            " |      []\n",
            " |      \n",
            " |      if includeNonStreamDerivations is True then n2's containerHierarchy will include\n",
            " |      n even though it's not a container.  It gives a good idea of how the hierarchy is being\n",
            " |      constructed.\n",
            " |      \n",
            " |      >>> [e for e in n2.containerHierarchy(includeNonStreamDerivations=True)]\n",
            " |      [<music21.note.Note E>,\n",
            " |       <music21.stream.Measure 1 offset=1.0>,\n",
            " |       <music21.stream.Part Soprano>,\n",
            " |       <music21.stream.Score bach/bwv66.6.mxl>]\n",
            " |      \n",
            " |      \n",
            " |      The method follows activeSites, so set the activeSite as necessary.\n",
            " |      \n",
            " |      >>> p = stream.Part(id='newPart')\n",
            " |      >>> m = stream.Measure(number=20)\n",
            " |      >>> p.insert(0, m)\n",
            " |      >>> m.insert(0, noteE)\n",
            " |      >>> noteE.activeSite\n",
            " |      <music21.stream.Measure 20 offset=0.0>\n",
            " |      >>> noteE.containerHierarchy()\n",
            " |      [<music21.stream.Measure 20 offset=0.0>,\n",
            " |       <music21.stream.Part newPart>]\n",
            " |      \n",
            " |      * Changed in v5.7: `followDerivation` and\n",
            " |        `includeNonStreamDerivations` are now keyword only\n",
            " |  \n",
            " |  contextSites(self, *, callerFirst=None, memo=None, offsetAppend: 'OffsetQL' = 0.0, sortByCreationTime: \"t.Literal['reverse'] | bool\" = False, priorityTarget=None, returnSortTuples: 'bool' = False, followDerivation=True, priorityTargetOnly=False) -> 'Generator[ContextTuple | ContextSortTuple, None, None]'\n",
            " |      A generator that returns a list of namedtuples of sites to search for a context...\n",
            " |      \n",
            " |      Each tuple contains three elements:\n",
            " |      \n",
            " |      .site --  Stream object\n",
            " |      .offset -- the offset or position (sortTuple) of this element in that Stream\n",
            " |      .recurseType -- the way of searching that should be applied to search for a context.\n",
            " |      \n",
            " |      The recurseType values are all music21.stream.enums.RecurseType:\n",
            " |      \n",
            " |          * FLATTEN -- flatten the stream and then look from this offset backwards.\n",
            " |      \n",
            " |          * ELEMENTS_ONLY -- only search the stream's personal\n",
            " |             elements from this offset backwards\n",
            " |      \n",
            " |          * ELEMENTS_FIRST -- search this stream backwards,\n",
            " |             and then flatten and search backwards\n",
            " |      \n",
            " |      >>> c = corpus.parse('bwv66.6')\n",
            " |      >>> c.id = 'bach'\n",
            " |      >>> n = c[2][4][2]\n",
            " |      >>> n\n",
            " |      <music21.note.Note G#>\n",
            " |      \n",
            " |      Returning sortTuples are important for distinguishing the order of multiple sites\n",
            " |      at the same offset.\n",
            " |      \n",
            " |      >>> for csTuple in n.contextSites(returnSortTuples=True):\n",
            " |      ...      yClearer = (csTuple.site, csTuple.offset.shortRepr(), csTuple.recurseType)\n",
            " |      ...      print(yClearer)\n",
            " |      (<music21.stream.Measure 3 offset=9.0>, '0.5 <0.20...>', <RecursionType.ELEMENTS_FIRST>)\n",
            " |      (<music21.stream.Part Alto>, '9.5 <0.20...>', <RecursionType.FLATTEN>)\n",
            " |      (<music21.stream.Score bach>, '9.5 <0.20...>', <RecursionType.ELEMENTS_ONLY>)\n",
            " |      \n",
            " |      Streams have themselves as the first element in their context sites, at position\n",
            " |      zero and classSortOrder negative infinity.\n",
            " |      \n",
            " |      This example shows the context sites for Measure 3 of the\n",
            " |      Alto part. We will get the measure object using direct access to\n",
            " |      indices to ensure that no other temporary\n",
            " |      streams are created; normally, we would do `c.parts['#Alto'].measure(3)`.\n",
            " |      \n",
            " |      >>> m = c.parts['#Alto'].getElementsByClass(stream.Measure)[3]\n",
            " |      >>> m\n",
            " |      <music21.stream.Measure 3 offset=9.0>\n",
            " |      \n",
            " |      If returnSortTuples is true then ContextSortTuples are returned, where the\n",
            " |      second element is a SortTuple:\n",
            " |      \n",
            " |      >>> for csTuple in m.contextSites(returnSortTuples=True):\n",
            " |      ...     print(csTuple)\n",
            " |      ContextSortTuple(site=<music21.stream.Measure 3 offset=9.0>,\n",
            " |                       offset=SortTuple(atEnd=0, offset=0.0, priority=-inf, ...),\n",
            " |                       recurseType=<RecursionType.ELEMENTS_FIRST>)\n",
            " |      ContextSortTuple(...)\n",
            " |      ContextSortTuple(...)\n",
            " |      \n",
            " |      Because SortTuples are so detailed, we'll use their `shortRepr()` to see the\n",
            " |      values, removing the insertIndex because it changes from run to run:\n",
            " |      \n",
            " |      >>> for csTuple in m.contextSites(returnSortTuples=True):\n",
            " |      ...      yClearer = (csTuple.site, csTuple.offset.shortRepr(), csTuple.recurseType)\n",
            " |      ...      print(yClearer)\n",
            " |      (<music21.stream.Measure 3 offset=9.0>, '0.0 <-inf.-20...>', <RecursionType.ELEMENTS_FIRST>)\n",
            " |      (<music21.stream.Part Alto>, '9.0 <0.-20...>', <RecursionType.FLATTEN>)\n",
            " |      (<music21.stream.Score bach>, '9.0 <0.-20...>', <RecursionType.ELEMENTS_ONLY>)\n",
            " |      \n",
            " |      Here we make a copy of the earlier measure, and we see that its contextSites\n",
            " |      follow the derivationChain from the original measure and still find the Part\n",
            " |      and Score of the original Measure 3 (and also the original Measure 3)\n",
            " |      even though mCopy is not in any of these objects.\n",
            " |      \n",
            " |      >>> import copy\n",
            " |      >>> mCopy = copy.deepcopy(m)\n",
            " |      >>> mCopy.number = 3333\n",
            " |      >>> for csTuple in mCopy.contextSites():\n",
            " |      ...      print(csTuple, mCopy in csTuple.site)\n",
            " |      ContextTuple(site=<music21.stream.Measure 3333 offset=0.0>,\n",
            " |                   offset=0.0,\n",
            " |                   recurseType=<RecursionType.ELEMENTS_FIRST>) False\n",
            " |      ContextTuple(site=<music21.stream.Measure 3 offset=9.0>,\n",
            " |                   offset=0.0,\n",
            " |                   recurseType=<RecursionType.ELEMENTS_FIRST>) False\n",
            " |      ContextTuple(site=<music21.stream.Part Alto>,\n",
            " |                   offset=9.0,\n",
            " |                   recurseType=<RecursionType.FLATTEN>) False\n",
            " |      ContextTuple(site=<music21.stream.Score bach>,\n",
            " |                   offset=9.0,\n",
            " |                   recurseType=<RecursionType.ELEMENTS_ONLY>) False\n",
            " |      \n",
            " |      If followDerivation were False, then the Part and Score would not be found.\n",
            " |      \n",
            " |      >>> for csTuple in mCopy.contextSites(followDerivation=False):\n",
            " |      ...     print(csTuple)\n",
            " |      ContextTuple(site=<music21.stream.Measure 3333 offset=0.0>,\n",
            " |                   offset=0.0,\n",
            " |                   recurseType=<RecursionType.ELEMENTS_FIRST>)\n",
            " |      \n",
            " |      >>> partIterator = c.parts\n",
            " |      >>> m3 = partIterator[1].measure(3)\n",
            " |      >>> for csTuple in m3.contextSites():\n",
            " |      ...      print(csTuple)\n",
            " |      ContextTuple(site=<music21.stream.Measure 3 offset=9.0>,\n",
            " |                   offset=0.0,\n",
            " |                   recurseType=<RecursionType.ELEMENTS_FIRST>)\n",
            " |      ContextTuple(site=<music21.stream.Part Alto>,\n",
            " |                   offset=9.0,\n",
            " |                   recurseType=<RecursionType.FLATTEN>)\n",
            " |      ContextTuple(site=<music21.stream.Score bach>,\n",
            " |                   offset=9.0,\n",
            " |                   recurseType=<RecursionType.ELEMENTS_ONLY>)\n",
            " |      \n",
            " |      Sorting order:\n",
            " |      \n",
            " |      >>> p1 = stream.Part()\n",
            " |      >>> p1.id = 'p1'\n",
            " |      >>> m1 = stream.Measure()\n",
            " |      >>> m1.number = 1\n",
            " |      >>> n = note.Note()\n",
            " |      >>> m1.append(n)\n",
            " |      >>> p1.append(m1)\n",
            " |      >>> for csTuple in n.contextSites():\n",
            " |      ...     print(csTuple.site)\n",
            " |      <music21.stream.Measure 1 offset=0.0>\n",
            " |      <music21.stream.Part p1>\n",
            " |      \n",
            " |      >>> p2 = stream.Part()\n",
            " |      >>> p2.id = 'p2'\n",
            " |      >>> m2 = stream.Measure()\n",
            " |      >>> m2.number = 2\n",
            " |      >>> m2.append(n)\n",
            " |      >>> p2.append(m2)\n",
            " |      \n",
            " |      The keys could have appeared in any order, but by default\n",
            " |      we set priorityTarget to activeSite.  So this is the same as omitting.\n",
            " |      \n",
            " |      >>> for y in n.contextSites(priorityTarget=n.activeSite):\n",
            " |      ...     print(y[0])\n",
            " |      <music21.stream.Measure 2 offset=0.0>\n",
            " |      <music21.stream.Part p2>\n",
            " |      <music21.stream.Measure 1 offset=0.0>\n",
            " |      <music21.stream.Part p1>\n",
            " |      \n",
            " |      We can sort sites by creationTime...\n",
            " |      \n",
            " |      >>> for csTuple in n.contextSites(sortByCreationTime=True):\n",
            " |      ...     print(csTuple.site)\n",
            " |      <music21.stream.Measure 2 offset=0.0>\n",
            " |      <music21.stream.Part p2>\n",
            " |      <music21.stream.Measure 1 offset=0.0>\n",
            " |      <music21.stream.Part p1>\n",
            " |      \n",
            " |      oldest first...\n",
            " |      \n",
            " |      >>> for csTuple in n.contextSites(sortByCreationTime='reverse'):\n",
            " |      ...     print(csTuple.site)\n",
            " |      <music21.stream.Measure 1 offset=0.0>\n",
            " |      <music21.stream.Part p1>\n",
            " |      <music21.stream.Measure 2 offset=0.0>\n",
            " |      <music21.stream.Part p2>\n",
            " |      \n",
            " |      Note that by default we search all sites, but you might want to only search\n",
            " |      one, for instance:\n",
            " |      \n",
            " |      >>> c = note.Note('C')\n",
            " |      >>> m1 = stream.Measure()\n",
            " |      >>> m1.append(c)\n",
            " |      \n",
            " |      >>> d = note.Note('D')\n",
            " |      >>> m2 = stream.Measure()\n",
            " |      >>> m2.append([c, d])\n",
            " |      \n",
            " |      >>> c.activeSite = m1\n",
            " |      >>> c.next('Note')  # uses contextSites\n",
            " |      <music21.note.Note D>\n",
            " |      \n",
            " |      There is a particular site in which there is a Note after c,\n",
            " |      but we want to know if there is one in m1 or its hierarchy, so\n",
            " |      we can pass in activeSiteOnly to `.next()` which sets\n",
            " |      `priorityTargetOnly=True` for contextSites\n",
            " |      \n",
            " |      >>> print(c.next('Note', activeSiteOnly=True))\n",
            " |      None\n",
            " |      \n",
            " |      \n",
            " |      *  Removed in v3: priorityTarget cannot be set, in order\n",
            " |         to use `.sites.yieldSites()`\n",
            " |      *  Changed in v5.5: all arguments are keyword only.\n",
            " |      *  Changed in v6: added `priorityTargetOnly=False` to only search in the\n",
            " |         context of the priorityTarget.\n",
            " |      *  Changed in v8: `returnSortTuple=True` returns a new ContextSortTuple\n",
            " |  \n",
            " |  getAllContextsByClass(self, className)\n",
            " |      Returns a generator that yields elements found by `.getContextByClass` and\n",
            " |      then finds the previous contexts for that element.\n",
            " |      \n",
            " |      >>> s = stream.Stream()\n",
            " |      >>> s.append(meter.TimeSignature('2/4'))\n",
            " |      >>> s.append(note.Note('C'))\n",
            " |      >>> s.append(meter.TimeSignature('3/4'))\n",
            " |      >>> n = note.Note('D')\n",
            " |      >>> s.append(n)\n",
            " |      \n",
            " |      \n",
            " |      >>> for ts in n.getAllContextsByClass(meter.TimeSignature):\n",
            " |      ...     print(ts, ts.offset)\n",
            " |      <music21.meter.TimeSignature 3/4> 1.0\n",
            " |      <music21.meter.TimeSignature 2/4> 0.0\n",
            " |      \n",
            " |      TODO: make it so that it does not skip over multiple matching classes\n",
            " |      at the same offset. with sortTuple\n",
            " |  \n",
            " |  getContextByClass(self, className: 'type[_M21T] | str | None', *, getElementMethod: 'ElementSearch' = <ElementSearch.AT_OR_BEFORE>, sortByCreationTime=False, followDerivation=True, priorityTargetOnly=False) -> '_M21T | Music21Object | None'\n",
            " |      A very powerful method in music21 of fundamental importance: Returns\n",
            " |      the element matching the className that is closest to this element in\n",
            " |      its current hierarchy (or the hierarchy of the derivation origin unless\n",
            " |      `followDerivation` is False).  For instance, take this stream of changing time\n",
            " |      signatures:\n",
            " |      \n",
            " |      >>> p = converter.parse('tinynotation: 3/4 C4 D E 2/4 F G A B 1/4 c')\n",
            " |      >>> p\n",
            " |      <music21.stream.Part 0x104ce64e0>\n",
            " |      \n",
            " |      >>> p.show('t')\n",
            " |      {0.0} <music21.stream.Measure 1 offset=0.0>\n",
            " |          {0.0} <music21.clef.BassClef>\n",
            " |          {0.0} <music21.meter.TimeSignature 3/4>\n",
            " |          {0.0} <music21.note.Note C>\n",
            " |          {1.0} <music21.note.Note D>\n",
            " |          {2.0} <music21.note.Note E>\n",
            " |      {3.0} <music21.stream.Measure 2 offset=3.0>\n",
            " |          {0.0} <music21.meter.TimeSignature 2/4>\n",
            " |          {0.0} <music21.note.Note F>\n",
            " |          {1.0} <music21.note.Note G>\n",
            " |      {5.0} <music21.stream.Measure 3 offset=5.0>\n",
            " |          {0.0} <music21.note.Note A>\n",
            " |          {1.0} <music21.note.Note B>\n",
            " |      {7.0} <music21.stream.Measure 4 offset=7.0>\n",
            " |          {0.0} <music21.meter.TimeSignature 1/4>\n",
            " |          {0.0} <music21.note.Note C>\n",
            " |          {1.0} <music21.bar.Barline type=final>\n",
            " |      \n",
            " |      Let's get the last two notes of the piece, the B and high c:\n",
            " |      \n",
            " |      >>> m4 = p.measure(4)\n",
            " |      >>> c = m4.notes.first()\n",
            " |      >>> c\n",
            " |      <music21.note.Note C>\n",
            " |      \n",
            " |      >>> m3 = p.measure(3)\n",
            " |      >>> b = m3.notes.last()\n",
            " |      >>> b\n",
            " |      <music21.note.Note B>\n",
            " |      \n",
            " |      Now when we run `getContextByClass(meter.TimeSignature)` on c, we get a\n",
            " |      time signature of 1/4.\n",
            " |      \n",
            " |      >>> c.getContextByClass(meter.TimeSignature)\n",
            " |      <music21.meter.TimeSignature 1/4>\n",
            " |      \n",
            " |      Doing what we just did wouldn't be hard to do with other methods,\n",
            " |      though `getContextByClass` makes it easier.  But the time signature\n",
            " |      context for b would be much harder to get without this method, since in\n",
            " |      order to do it, it searches backwards within the measure, finds that\n",
            " |      there's nothing there.  It goes to the previous measure and searches\n",
            " |      that one backwards until it gets the proper TimeSignature of 2/4:\n",
            " |      \n",
            " |      >>> b.getContextByClass(meter.TimeSignature)\n",
            " |      <music21.meter.TimeSignature 2/4>\n",
            " |      \n",
            " |      For backwards compatibility you can also pass in a string of the\n",
            " |      class name:\n",
            " |      \n",
            " |      >>> b.getContextByClass('TimeSignature')\n",
            " |      <music21.meter.TimeSignature 2/4>\n",
            " |      \n",
            " |      But if you use Python typing or a typing-aware IDE, then the first call\n",
            " |      (with class name) will signal that it is returning a TimeSignature object\n",
            " |      and allow for error detection, autocomplete, etc.  The latter call\n",
            " |      (with string) will only know that some Music21Object was returned.\n",
            " |      \n",
            " |      The method is smart enough to stop when it gets to the beginning of the\n",
            " |      part.  This is all you need to know for most uses.  The rest of the\n",
            " |      docs are for advanced uses:\n",
            " |      \n",
            " |      The method searches both Sites as well as associated objects to find a\n",
            " |      matching class. Returns `None` if no match is found.\n",
            " |      \n",
            " |      A reference to the caller is required to find the offset of the object\n",
            " |      of the caller.\n",
            " |      \n",
            " |      The caller may be a Sites reference from a lower-level object.  If so,\n",
            " |      we can access the location of that lower-level object. However, if we\n",
            " |      need a flat representation, the caller needs to be the source Stream,\n",
            " |      not its Sites reference.\n",
            " |      \n",
            " |      The `getElementMethod` is an enum value (new in v7) from\n",
            " |      :class:`~music21.common.enums.ElementSearch` that selects which\n",
            " |      Stream method is used to get elements for searching. (The historical form\n",
            " |      of supplying one of the following values as a string is also supported.)\n",
            " |      \n",
            " |      >>> from music21.common.enums import ElementSearch\n",
            " |      >>> [x for x in ElementSearch]\n",
            " |      [<ElementSearch.BEFORE>,\n",
            " |       <ElementSearch.AFTER>,\n",
            " |       <ElementSearch.AT_OR_BEFORE>,\n",
            " |       <ElementSearch.AT_OR_AFTER>,\n",
            " |       <ElementSearch.BEFORE_OFFSET>,\n",
            " |       <ElementSearch.AFTER_OFFSET>,\n",
            " |       <ElementSearch.AT_OR_BEFORE_OFFSET>,\n",
            " |       <ElementSearch.AT_OR_AFTER_OFFSET>,\n",
            " |       <ElementSearch.BEFORE_NOT_SELF>,\n",
            " |       <ElementSearch.AFTER_NOT_SELF>,\n",
            " |       <ElementSearch.ALL>]\n",
            " |      \n",
            " |      The \"after\" do forward contexts -- looking ahead.\n",
            " |      \n",
            " |      Demonstrations of these keywords:\n",
            " |      \n",
            " |      Because `b` is a `Note`, `.getContextByClass(note.Note)` will only find itself:\n",
            " |      \n",
            " |      >>> b.getContextByClass(note.Note) is b\n",
            " |      True\n",
            " |      \n",
            " |      To get the previous `Note`, use `getElementMethod=ElementSearch.BEFORE`:\n",
            " |      \n",
            " |      >>> a = b.getContextByClass(note.Note, getElementMethod=ElementSearch.BEFORE)\n",
            " |      >>> a\n",
            " |      <music21.note.Note A>\n",
            " |      \n",
            " |      This is similar to `.previous(note.Note)`, though that method is a bit more\n",
            " |      sophisticated:\n",
            " |      \n",
            " |      >>> b.previous(note.Note)\n",
            " |      <music21.note.Note A>\n",
            " |      \n",
            " |      To get the following `Note` use `getElementMethod=ElementSearch.AFTER`:\n",
            " |      \n",
            " |      >>> c = b.getContextByClass(note.Note, getElementMethod=ElementSearch.AFTER)\n",
            " |      >>> c\n",
            " |      <music21.note.Note C>\n",
            " |      \n",
            " |      This is similar to `.next(note.Note)`, though, again, that method is a bit more\n",
            " |      sophisticated:\n",
            " |      \n",
            " |      >>> b.next(note.Note)\n",
            " |      <music21.note.Note C>\n",
            " |      \n",
            " |      A Stream might contain several elements at the same offset, leading to\n",
            " |      potentially surprising results where searching by `ElementSearch.AT_OR_BEFORE`\n",
            " |      does not find an element that is technically the NEXT node but still at 0.0:\n",
            " |      \n",
            " |      >>> s = stream.Stream()\n",
            " |      >>> s.insert(0, clef.BassClef())\n",
            " |      >>> s.next()\n",
            " |      <music21.clef.BassClef>\n",
            " |      >>> s.getContextByClass(clef.Clef) is None\n",
            " |      True\n",
            " |      >>> s.getContextByClass(clef.Clef, getElementMethod=ElementSearch.AT_OR_AFTER)\n",
            " |      <music21.clef.BassClef>\n",
            " |      \n",
            " |      This can be remedied by explicitly searching by offsets:\n",
            " |      \n",
            " |      >>> s.getContextByClass(clef.Clef, getElementMethod=ElementSearch.AT_OR_BEFORE_OFFSET)\n",
            " |      <music21.clef.BassClef>\n",
            " |      \n",
            " |      Or by not limiting the search by temporal position at all:\n",
            " |      \n",
            " |      >>> s.getContextByClass(clef.Clef, getElementMethod=ElementSearch.ALL)\n",
            " |      <music21.clef.BassClef>\n",
            " |      \n",
            " |      Notice that if searching for a `Stream` context, the element is not\n",
            " |      guaranteed to be in that Stream.  This is obviously true in this case:\n",
            " |      \n",
            " |      >>> p2 = stream.Part()\n",
            " |      >>> m = stream.Measure(number=1)\n",
            " |      >>> p2.insert(0, m)\n",
            " |      >>> n = note.Note('D')\n",
            " |      >>> m.insert(2.0, n)\n",
            " |      >>> try:\n",
            " |      ...     n.getContextByClass(stream.Part).elementOffset(n)\n",
            " |      ... except Music21Exception:\n",
            " |      ...     print('not there')\n",
            " |      not there\n",
            " |      \n",
            " |      But it is less clear with something like this:\n",
            " |      \n",
            " |      >>> import copy\n",
            " |      >>> n2 = copy.deepcopy(n)\n",
            " |      >>> try:\n",
            " |      ...     n2.getContextByClass(stream.Measure).elementOffset(n2)\n",
            " |      ... except Music21Exception:\n",
            " |      ...     print('not there')\n",
            " |      not there\n",
            " |      \n",
            " |      A measure context is being found, but only through the derivation chain.\n",
            " |      \n",
            " |      >>> n2.getContextByClass(stream.Measure)\n",
            " |      <music21.stream.Measure 1 offset=0.0>\n",
            " |      \n",
            " |      To prevent this error, use the `followDerivation=False` setting\n",
            " |      \n",
            " |      >>> print(n2.getContextByClass(stream.Measure, followDerivation=False))\n",
            " |      None\n",
            " |      \n",
            " |      Or if you want the offset of the element following the derivation chain,\n",
            " |      call `getOffsetBySite()` on the object:\n",
            " |      \n",
            " |      >>> n2.getOffsetBySite(n2.getContextByClass(stream.Measure))\n",
            " |      2.0\n",
            " |      \n",
            " |      \n",
            " |      Raises `ValueError` if `getElementMethod` is not a value in `ElementSearch`.\n",
            " |      \n",
            " |      >>> n2.getContextByClass(expressions.TextExpression, getElementMethod='invalid')\n",
            " |      Traceback (most recent call last):\n",
            " |      ValueError: Invalid getElementMethod: invalid\n",
            " |      \n",
            " |      Raises `ValueError` for incompatible values `followDerivation=True`\n",
            " |      and `priorityTargetOnly=True`.\n",
            " |      \n",
            " |      * Changed in v5.7: added followDerivation=False and made\n",
            " |        everything but the class keyword only\n",
            " |      * New in v6: added priorityTargetOnly -- see contextSites for description.\n",
            " |      * New in v7: added getElementMethod `all` and `ElementSearch` enum.\n",
            " |      * Changed in v8: class-based calls return properly typed items.  Putting\n",
            " |        multiple types into className (never documented) is no longer allowed.\n",
            " |      \n",
            " |      OMIT_FROM_DOCS\n",
            " |      \n",
            " |      Testing that this works:\n",
            " |      \n",
            " |      >>> import gc\n",
            " |      >>> _ = gc.collect()\n",
            " |      >>> for site, positionStart, searchType in b.contextSites(\n",
            " |      ...                                 returnSortTuples=True,\n",
            " |      ...                                 sortByCreationTime=False,\n",
            " |      ...                                 followDerivation=True\n",
            " |      ...                                 ):\n",
            " |      ...     print(site, positionStart, searchType)\n",
            " |      <music21.stream.Measure 3 offset=5.0> SortTuple(atEnd=0, offset=1.0, ...) elementsFirst\n",
            " |      <music21.stream.Part 0x1118cadd8> SortTuple(atEnd=0, offset=6.0, ...) flatten\n",
            " |  \n",
            " |  getOffsetBySite(self, site: 'stream.Stream | None', *, returnSpecial: 'bool' = False) -> 'OffsetQL | OffsetSpecial'\n",
            " |      If this class has been registered in a container such as a Stream,\n",
            " |      that container can be provided here, and the offset in that object\n",
            " |      can be returned.\n",
            " |      \n",
            " |      >>> n = note.Note('A-4')  # a Music21Object\n",
            " |      >>> n.offset = 30\n",
            " |      >>> n.getOffsetBySite(None)\n",
            " |      30.0\n",
            " |      \n",
            " |      >>> s1 = stream.Stream()\n",
            " |      >>> s1.id = 'containingStream'\n",
            " |      >>> s1.insert(20 / 3, n)\n",
            " |      >>> n.getOffsetBySite(s1)\n",
            " |      Fraction(20, 3)\n",
            " |      >>> float(n.getOffsetBySite(s1))\n",
            " |      6.6666...\n",
            " |      \n",
            " |      n.getOffsetBySite(None) should still return 30.0\n",
            " |      \n",
            " |      >>> n.getOffsetBySite(None)\n",
            " |      30.0\n",
            " |      \n",
            " |      If the Stream does not contain the element and the element is not derived from\n",
            " |      an element that does, then a SitesException is raised:\n",
            " |      \n",
            " |      >>> s2 = stream.Stream()\n",
            " |      >>> s2.id = 'notContainingStream'\n",
            " |      >>> n.getOffsetBySite(s2)\n",
            " |      Traceback (most recent call last):\n",
            " |      music21.sites.SitesException: an entry for this object <music21.note.Note A-> is not\n",
            " |            stored in stream <music21.stream.Stream notContainingStream>\n",
            " |      \n",
            " |      Consider this use of derivations:\n",
            " |      \n",
            " |      >>> import copy\n",
            " |      >>> nCopy = copy.deepcopy(n)\n",
            " |      >>> nCopy.derivation\n",
            " |      <Derivation of <music21.note.Note A-> from <music21.note.Note A-> via '__deepcopy__'>\n",
            " |      >>> nCopy.getOffsetBySite(s1)\n",
            " |      Fraction(20, 3)\n",
            " |      \n",
            " |      nCopy can still find the offset of `n` in `s1`!\n",
            " |      This is the primary difference between element.getOffsetBySite(stream)\n",
            " |      and stream.elementOffset(element)\n",
            " |      \n",
            " |      >>> s1.elementOffset(nCopy)\n",
            " |      Traceback (most recent call last):\n",
            " |      music21.sites.SitesException: an entry for this object ... is not\n",
            " |          stored in stream <music21.stream.Stream containingStream>\n",
            " |      \n",
            " |      If the object is stored at the end of the Stream, then the highest time\n",
            " |      is usually returned:\n",
            " |      \n",
            " |      >>> s3 = stream.Stream()\n",
            " |      >>> n3 = note.Note(type='whole')\n",
            " |      >>> s3.append(n3)\n",
            " |      >>> rb = bar.Barline()\n",
            " |      >>> s3.storeAtEnd(rb)  # s3.rightBarline = rb would do the same...\n",
            " |      >>> rb.getOffsetBySite(s3)\n",
            " |      4.0\n",
            " |      \n",
            " |      However, setting returnSpecial to True will return OffsetSpecial.AT_END\n",
            " |      \n",
            " |      >>> rb.getOffsetBySite(s3, returnSpecial=True)\n",
            " |      <OffsetSpecial.AT_END>\n",
            " |      \n",
            " |      Even with returnSpecial normal offsets are still returned as a float or Fraction:\n",
            " |      \n",
            " |      >>> n3.getOffsetBySite(s3, returnSpecial=True)\n",
            " |      0.0\n",
            " |      \n",
            " |      * Changed in v7: stringReturns renamed to returnSpecial.\n",
            " |        Returns an OffsetSpecial Enum.\n",
            " |  \n",
            " |  getOffsetInHierarchy(self, site: 'stream.Stream | None') -> 'OffsetQL'\n",
            " |      For an element which may not be in site, but might be in a Stream in site (or further\n",
            " |      in streams), find the cumulative offset of the element in that site.\n",
            " |      \n",
            " |      >>> s = stream.Score(id='mainScore')\n",
            " |      >>> p = stream.Part()\n",
            " |      >>> m = stream.Measure()\n",
            " |      >>> n = note.Note()\n",
            " |      >>> m.insert(5.0, n)\n",
            " |      >>> p.insert(10.0, m)\n",
            " |      >>> s.insert(0.0, p)\n",
            " |      >>> n.getOffsetInHierarchy(s)\n",
            " |      15.0\n",
            " |      \n",
            " |      If no hierarchy beginning with site contains the element\n",
            " |      and the element is not derived from\n",
            " |      an element that does, then a SitesException is raised:\n",
            " |      \n",
            " |      >>> s2 = stream.Score(id='otherScore')\n",
            " |      >>> n.getOffsetInHierarchy(s2)\n",
            " |      Traceback (most recent call last):\n",
            " |      music21.sites.SitesException: Element <music21.note.Note C>\n",
            " |          is not in hierarchy of <music21.stream.Score otherScore>\n",
            " |      \n",
            " |      But if the element is derived from an element in\n",
            " |      a hierarchy then it can get the offset:\n",
            " |      \n",
            " |      >>> n2 = n.transpose('P5')\n",
            " |      >>> n2.derivation.origin is n\n",
            " |      True\n",
            " |      >>> n2.derivation.method\n",
            " |      'transpose'\n",
            " |      >>> n2.getOffsetInHierarchy(s)\n",
            " |      15.0\n",
            " |      \n",
            " |      There is no corresponding `.setOffsetInHierarchy()`\n",
            " |      since it's unclear what that would mean.\n",
            " |      \n",
            " |      See also :meth:`music21.stream.iterator.RecursiveIterator.currentHierarchyOffset`\n",
            " |      for a method that is about 10x faster when running through a recursed stream.\n",
            " |      \n",
            " |      * New in v3.\n",
            " |      \n",
            " |      OMIT_FROM_DOCS\n",
            " |      \n",
            " |      Timing: 113microseconds for a search vs 1 microsecond for getOffsetBySite\n",
            " |      vs 0.4 for elementOffset.  Hence the short-circuit for easy looking below...\n",
            " |      \n",
            " |      TODO: If timing permits, replace .flatten() w/ and w/o retainContainers with this routine.\n",
            " |      \n",
            " |      Currently not possible; for instance, if b = bwv66.6\n",
            " |      \n",
            " |      %timeit b = corpus.parse('bwv66.6') -- 24.8ms\n",
            " |      %timeit b = corpus.parse('bwv66.6'); b.flatten() -- 42.9ms\n",
            " |      %timeit b = corpus.parse('bwv66.6'); b.recurse().stream() -- 83.1ms\n",
            " |  \n",
            " |  getSpannerSites(self, spannerClassList: 'Iterable | None' = None) -> 'list[spanner.Spanner]'\n",
            " |      Return a list of all :class:`~music21.spanner.Spanner` objects\n",
            " |      (or Spanner subclasses) that contain\n",
            " |      this element. This method provides a way for\n",
            " |      objects to be aware of what Spanners they\n",
            " |      reside in. Note that Spanners are not Streams\n",
            " |      but specialized Music21Objects that use a\n",
            " |      Stream subclass, SpannerStorage, internally to keep track\n",
            " |      of the elements that are spanned.\n",
            " |      \n",
            " |      >>> c = note.Note('C4')\n",
            " |      >>> d = note.Note('D4')\n",
            " |      >>> slur1 = spanner.Slur(c, d)\n",
            " |      >>> c.getSpannerSites() == [slur1]\n",
            " |      True\n",
            " |      \n",
            " |      Note that not all Spanners are in the spanner module. They\n",
            " |      tend to reside in modules closer to their musical function:\n",
            " |      \n",
            " |      >>> cresc = dynamics.Crescendo(d, c)\n",
            " |      \n",
            " |      The order that Spanners are returned is by sortTuple.  For spanners\n",
            " |      created the same way and in the same order, the order returned will\n",
            " |      be consistent:\n",
            " |      \n",
            " |      >>> d.getSpannerSites() == [slur1, cresc]\n",
            " |      True\n",
            " |      \n",
            " |      Optionally a class name or list of class names (as Classes or strings)\n",
            " |      can be specified and only Spanners of that class will be returned\n",
            " |      \n",
            " |      >>> dim = dynamics.Diminuendo(c, d)\n",
            " |      >>> d.getSpannerSites(dynamics.Diminuendo) == [dim]\n",
            " |      True\n",
            " |      \n",
            " |      A larger class name can be used to get all subclasses:\n",
            " |      \n",
            " |      >>> d.getSpannerSites(dynamics.DynamicWedge) == [cresc, dim]\n",
            " |      True\n",
            " |      >>> d.getSpannerSites(['Slur', 'Diminuendo']) == [slur1, dim]\n",
            " |      True\n",
            " |      \n",
            " |      Note that the order of spanners returned from this routine can vary, so\n",
            " |      changing to a set is useful for comparisons\n",
            " |      \n",
            " |      >>> set(d.getSpannerSites(['Slur', 'Diminuendo'])) == {dim, slur1}\n",
            " |      True\n",
            " |      \n",
            " |      \n",
            " |      Example: see which pairs of notes are in the same slur.\n",
            " |      \n",
            " |      >>> e = note.Note('E4')\n",
            " |      >>> slur2 = spanner.Slur(c, e)\n",
            " |      \n",
            " |      >>> for n in [c, d, e]:\n",
            " |      ...    nSlurs = n.getSpannerSites(spanner.Slur)\n",
            " |      ...    for nOther in [c, d, e]:\n",
            " |      ...        if n is nOther:\n",
            " |      ...            continue\n",
            " |      ...        nOtherSlurs = nOther.getSpannerSites(spanner.Slur)\n",
            " |      ...        for thisSlur in nSlurs:\n",
            " |      ...            if thisSlur in nOtherSlurs:\n",
            " |      ...               print(f'{n.name} shares a slur with {nOther.name}')\n",
            " |      C shares a slur with D\n",
            " |      C shares a slur with E\n",
            " |      D shares a slur with C\n",
            " |      E shares a slur with C\n",
            " |  \n",
            " |  informSites(self, changedInformation=None)\n",
            " |      trigger called whenever sites need to be informed of a change\n",
            " |      in the parameters of this object.\n",
            " |      \n",
            " |      `changedInformation` is not used now, but it can be a dictionary\n",
            " |      of what has changed.\n",
            " |      \n",
            " |      subclass this to do very interesting things.\n",
            " |  \n",
            " |  mergeAttributes(self, other: 'Music21Object') -> 'None'\n",
            " |      Merge all elementary, static attributes. Namely,\n",
            " |      `id` and `groups` attributes from another music21 object.\n",
            " |      Can be useful for copy-like operations.\n",
            " |      \n",
            " |      >>> m1 = base.Music21Object()\n",
            " |      >>> m2 = base.Music21Object()\n",
            " |      >>> m1.id = 'music21Object1'\n",
            " |      >>> m1.groups.append('group1')\n",
            " |      >>> m2.mergeAttributes(m1)\n",
            " |      >>> m2.id\n",
            " |      'music21Object1'\n",
            " |      >>> 'group1' in m2.groups\n",
            " |      True\n",
            " |  \n",
            " |  next(self, className: 'type[Music21Object] | str | None' = None, *, activeSiteOnly=False)\n",
            " |      Get the next element found in the activeSite (or other Sites)\n",
            " |      of this Music21Object.\n",
            " |      \n",
            " |      The `className` can be used to specify one or more classes to match.\n",
            " |      \n",
            " |      >>> s = corpus.parse('bwv66.6')\n",
            " |      >>> m3 = s.parts[0].measure(3)\n",
            " |      >>> m4 = s.parts[0].measure(4)\n",
            " |      >>> m3\n",
            " |      <music21.stream.Measure 3 offset=9.0>\n",
            " |      >>> m3.show('t')\n",
            " |      {0.0} <music21.layout.SystemLayout>\n",
            " |      {0.0} <music21.note.Note A>\n",
            " |      {0.5} <music21.note.Note B>\n",
            " |      {1.0} <music21.note.Note G#>\n",
            " |      {2.0} <music21.note.Note F#>\n",
            " |      {3.0} <music21.note.Note A>\n",
            " |      >>> m3.next()\n",
            " |      <music21.layout.SystemLayout>\n",
            " |      >>> nextM3 = m3.next('Measure')\n",
            " |      >>> nextM3 is m4\n",
            " |      True\n",
            " |      \n",
            " |      Note that calling next() repeatedly gives...the same object.  You'll want to\n",
            " |      call next on that object...\n",
            " |      \n",
            " |      >>> m3.next('Measure') is s.parts[0].measure(4)\n",
            " |      True\n",
            " |      >>> m3.next('Measure') is s.parts[0].measure(4)\n",
            " |      True\n",
            " |      \n",
            " |      So do this instead:\n",
            " |      \n",
            " |      >>> o = m3\n",
            " |      >>> for i in range(5):\n",
            " |      ...     print(o)\n",
            " |      ...     o = o.next('Measure')\n",
            " |      <music21.stream.Measure 3 offset=9.0>\n",
            " |      <music21.stream.Measure 4 offset=13.0>\n",
            " |      <music21.stream.Measure 5 offset=17.0>\n",
            " |      <music21.stream.Measure 6 offset=21.0>\n",
            " |      <music21.stream.Measure 7 offset=25.0>\n",
            " |      \n",
            " |      We can find the next element given a certain class with the `className`:\n",
            " |      \n",
            " |      >>> n = m3.next('Note')\n",
            " |      >>> n\n",
            " |      <music21.note.Note A>\n",
            " |      >>> n.measureNumber\n",
            " |      3\n",
            " |      >>> n is m3.notes.first()\n",
            " |      True\n",
            " |      >>> n.next()\n",
            " |      <music21.note.Note B>\n",
            " |      \n",
            " |      Notice though that when we get to the end of the set of measures, something\n",
            " |      interesting happens (maybe it shouldn't? don't count on this...): we descend\n",
            " |      into the last measure and give its elements instead.\n",
            " |      \n",
            " |      We'll leave o where it is (m8 now) to demonstrate what happens, and also\n",
            " |      print its Part for more information...\n",
            " |      \n",
            " |      >>> while o is not None:\n",
            " |      ...     print(o, o.getContextByClass(stream.Part))\n",
            " |      ...     o = o.next()\n",
            " |      <music21.stream.Measure 8 offset=29.0> <music21.stream.Part Soprano>\n",
            " |      <music21.note.Note F#> <music21.stream.Part Soprano>\n",
            " |      <music21.note.Note F#> <music21.stream.Part Soprano>\n",
            " |      <music21.note.Note F#> <music21.stream.Part Soprano>\n",
            " |      <music21.stream.Measure 9 offset=33.0> <music21.stream.Part Soprano>\n",
            " |      <music21.note.Note F#> <music21.stream.Part Soprano>\n",
            " |      <music21.note.Note F#> <music21.stream.Part Soprano>\n",
            " |      <music21.note.Note E#> <music21.stream.Part Soprano>\n",
            " |      <music21.note.Note F#> <music21.stream.Part Soprano>\n",
            " |      <music21.bar.Barline type=final> <music21.stream.Part Soprano>\n",
            " |      \n",
            " |      * Changed in v6: added activeSiteOnly -- see description in `.contextSites()`\n",
            " |  \n",
            " |  previous(self, className: 'type[Music21Object] | str | None' = None, *, activeSiteOnly=False)\n",
            " |      Get the previous element found in the activeSite or other .sites of this\n",
            " |      Music21Object.\n",
            " |      \n",
            " |      The `className` can be used to specify one or more classes to match.\n",
            " |      \n",
            " |      >>> s = corpus.parse('bwv66.6')\n",
            " |      >>> m2 = s.parts[0].getElementsByClass(stream.Measure)[2]  # pickup measure\n",
            " |      >>> m3 = s.parts[0].getElementsByClass(stream.Measure)[3]\n",
            " |      >>> m3\n",
            " |      <music21.stream.Measure 3 offset=9.0>\n",
            " |      >>> m3prev = m3.previous()\n",
            " |      >>> m3prev\n",
            " |      <music21.note.Note C#>\n",
            " |      >>> m3prev is m2.notes[-1]\n",
            " |      True\n",
            " |      >>> m3.previous('Measure') is m2\n",
            " |      True\n",
            " |      \n",
            " |      We'll iterate backwards from the first note of the second measure of the Alto part.\n",
            " |      \n",
            " |      >>> o = s.parts[1].getElementsByClass(stream.Measure)[2][0]\n",
            " |      >>> while o:\n",
            " |      ...    print(o)\n",
            " |      ...    o = o.previous()\n",
            " |      <music21.note.Note E>\n",
            " |      <music21.stream.Measure 2 offset=5.0>\n",
            " |      <music21.note.Note E>\n",
            " |      <music21.note.Note E>\n",
            " |      <music21.note.Note E>\n",
            " |      <music21.note.Note F#>\n",
            " |      <music21.stream.Measure 1 offset=1.0>\n",
            " |      <music21.note.Note E>\n",
            " |      <music21.meter.TimeSignature 4/4>\n",
            " |      f# minor\n",
            " |      <music21.tempo.MetronomeMark Quarter=96 (playback only)>\n",
            " |      <music21.clef.TrebleClef>\n",
            " |      <music21.stream.Measure 0 offset=0.0>\n",
            " |      P2: Alto: Instrument 2\n",
            " |      <music21.stream.Part Alto>\n",
            " |      <music21.stream.Part Soprano>\n",
            " |      <music21.metadata.Metadata object at 0x11116d080>\n",
            " |      <music21.stream.Score bach/bwv66.6.mxl>\n",
            " |      \n",
            " |      * Changed in v6: added activeSiteOnly -- see description in `.contextSites()`\n",
            " |  \n",
            " |  purgeLocations(self, rescanIsDead=False) -> 'None'\n",
            " |      Remove references to all locations in objects that no longer exist.\n",
            " |  \n",
            " |  purgeOrphans(self, excludeStorageStreams=True) -> 'None'\n",
            " |      A Music21Object may, due to deep copying or other reasons,\n",
            " |      have a site (with an offset) which\n",
            " |      no longer contains the Music21Object. These lingering sites\n",
            " |      are called orphans. This method gets rid of them.\n",
            " |      \n",
            " |      The `excludeStorageStreams` are SpannerStorage and VariantStorage.\n",
            " |  \n",
            " |  setOffsetBySite(self, site: 'stream.Stream | None', value: 'OffsetQLIn')\n",
            " |      Change the offset for a site.  These are equivalent:\n",
            " |      \n",
            " |          n1.setOffsetBySite(stream1, 20)\n",
            " |      \n",
            " |      and\n",
            " |      \n",
            " |          stream1.setElementOffset(n1, 20)\n",
            " |      \n",
            " |      Which you choose to use will depend on whether you are iterating over a list\n",
            " |      of notes (etc.) or streams.\n",
            " |      \n",
            " |      >>> import music21\n",
            " |      >>> aSite = stream.Stream()\n",
            " |      >>> aSite.id = 'aSite'\n",
            " |      >>> a = music21.Music21Object()\n",
            " |      >>> aSite.insert(0, a)\n",
            " |      >>> aSite.setElementOffset(a, 20)\n",
            " |      >>> a.setOffsetBySite(aSite, 30)\n",
            " |      >>> a.getOffsetBySite(aSite)\n",
            " |      30.0\n",
            " |      \n",
            " |      And if it isn't in a Stream? Raises an exception and the offset does not change.\n",
            " |      \n",
            " |      >>> b = note.Note('D')\n",
            " |      >>> b.setOffsetBySite(aSite, 40)\n",
            " |      Traceback (most recent call last):\n",
            " |      music21.exceptions21.StreamException: Cannot set the offset for element\n",
            " |          <music21.note.Note D>, not in Stream <music21.stream.Stream aSite>.\n",
            " |      \n",
            " |      >>> b.offset\n",
            " |      0.0\n",
            " |      \n",
            " |      Setting offset for `None` changes the \"naive offset\" of an object:\n",
            " |      \n",
            " |      >>> b.setOffsetBySite(None, 32)\n",
            " |      >>> b.offset\n",
            " |      32.0\n",
            " |      >>> b.activeSite is None\n",
            " |      True\n",
            " |      \n",
            " |      Running `setOffsetBySite` also changes the `activeSite` of the object.\n",
            " |  \n",
            " |  show(self, fmt=None, app=None, **keywords)\n",
            " |      Displays an object in a format provided by the\n",
            " |      fmt argument or, if not provided, the format set in the user's Environment\n",
            " |      \n",
            " |      Valid formats include (but are not limited to)::\n",
            " |      \n",
            " |          musicxml\n",
            " |          text\n",
            " |          midi\n",
            " |          lily (or lilypond)\n",
            " |          lily.png\n",
            " |          lily.pdf\n",
            " |          lily.svg\n",
            " |          braille\n",
            " |          vexflow\n",
            " |          musicxml.png\n",
            " |      \n",
            " |      N.B. score.write('lily') returns a bare lilypond file,\n",
            " |      score.show('lily') runs it through lilypond and displays it as a png.\n",
            " |      \n",
            " |      Some formats, including .musicxml, create a copy of the stream, pack it into a well-formed\n",
            " |      score if necessary, and run :meth:`~music21.stream.Score.makeNotation`. To\n",
            " |      avoid this when showing .musicxml, use `makeNotation=False`, an advanced option\n",
            " |      that prioritizes speed but may not guarantee satisfactory notation.\n",
            " |  \n",
            " |  sortTuple(self, useSite: 't.Literal[False] | stream.Stream | None' = False, raiseExceptionOnMiss: 'bool' = False) -> 'SortTuple'\n",
            " |      Returns a collections.namedtuple called SortTuple(atEnd, offset, priority, classSortOrder,\n",
            " |      isNotGrace, insertIndex)\n",
            " |      which contains the six elements necessary to determine the sort order of any set of\n",
            " |      objects in a Stream.\n",
            " |      \n",
            " |      1) atEnd = {0, 1}; Elements specified to always stay at\n",
            " |      the end of a stream (``stream.storeAtEnd``)\n",
            " |      sort after normal elements.\n",
            " |      \n",
            " |      2) offset = float; Offset (with respect to the active site) is the next and most\n",
            " |      important parameter in determining the order of elements in a stream (the note on beat 1\n",
            " |      has offset 0.0, while the note on beat 2 might have offset 1.0).\n",
            " |      \n",
            " |      3) priority = int; Priority is a\n",
            " |      user-specified property (default 0) that can set the order of\n",
            " |      elements which have the same\n",
            " |      offset (for instance, two Parts both at offset 0.0).\n",
            " |      \n",
            " |      4) classSortOrder = int or float; ClassSortOrder\n",
            " |      is the third level of comparison that gives an ordering to elements with different classes,\n",
            " |      ensuring, for instance that Clefs (classSortOrder = 0) sort before Notes\n",
            " |      (classSortOrder = 20).\n",
            " |      \n",
            " |      5) isNotGrace = {0, 1}; 0 = grace, 1 = normal. Grace notes sort before normal notes\n",
            " |      \n",
            " |      6) The last tie-breaker is the creation time (insertIndex) of the site object\n",
            " |      represented by the activeSite.\n",
            " |      \n",
            " |      By default, the site used will be the activeSite:\n",
            " |      \n",
            " |      >>> n = note.Note()\n",
            " |      >>> n.offset = 4.0\n",
            " |      >>> n.priority = -3\n",
            " |      >>> n.sortTuple()\n",
            " |      SortTuple(atEnd=0, offset=4.0, priority=-3, classSortOrder=20,\n",
            " |                  isNotGrace=1, insertIndex=0)\n",
            " |      \n",
            " |      >>> st = n.sortTuple()\n",
            " |      \n",
            " |      Check that all these values are the same as above...\n",
            " |      \n",
            " |      >>> st.offset == n.offset\n",
            " |      True\n",
            " |      >>> st.priority == n.priority\n",
            " |      True\n",
            " |      \n",
            " |      An object's classSortOrder comes from the Class object itself:\n",
            " |      \n",
            " |      >>> st.classSortOrder == note.Note.classSortOrder\n",
            " |      True\n",
            " |      \n",
            " |      SortTuples have a few methods that are documented in :class:`~music21.sorting.SortTuple`.\n",
            " |      The most useful one for documenting is `.shortRepr()`.\n",
            " |      \n",
            " |      >>> st.shortRepr()\n",
            " |      '4.0 <-3.20.0>'\n",
            " |      \n",
            " |      Inserting the note into the Stream will set the insertIndex.  Most implementations of\n",
            " |      music21 will use a global counter rather than an actual timer.  Note that this is a\n",
            " |      last resort, but useful for things such as multiple Parts inserted in order.  It changes\n",
            " |      with each run, so we can't display it here...\n",
            " |      \n",
            " |      >>> s = stream.Stream()\n",
            " |      >>> s.insert(n)\n",
            " |      >>> n.sortTuple()\n",
            " |      SortTuple(atEnd=0, offset=4.0, priority=-3, classSortOrder=20,\n",
            " |                   isNotGrace=1, insertIndex=...)\n",
            " |      \n",
            " |      >>> nInsertIndex = n.sortTuple().insertIndex\n",
            " |      \n",
            " |      If we create another nearly identical note, the insertIndex will be different:\n",
            " |      \n",
            " |      >>> n2 = note.Note()\n",
            " |      >>> n2.offset = 4.0\n",
            " |      >>> n2.priority = -3\n",
            " |      >>> s.insert(n2)\n",
            " |      >>> n2InsertIndex = n2.sortTuple().insertIndex\n",
            " |      >>> n2InsertIndex > nInsertIndex\n",
            " |      True\n",
            " |      \n",
            " |      >>> rb = bar.Barline()\n",
            " |      >>> s.storeAtEnd(rb)\n",
            " |      >>> rb.sortTuple()\n",
            " |      SortTuple(atEnd=1, offset=0.0, priority=0, classSortOrder=-5,\n",
            " |                  isNotGrace=1, insertIndex=...)\n",
            " |      \n",
            " |      \n",
            " |      Normally if there's a site specified and the element is not in the site,\n",
            " |      the offset of None will be used, but if raiseExceptionOnMiss is set to True\n",
            " |      then a SitesException will be raised:\n",
            " |      \n",
            " |      >>> aloneNote = note.Note()\n",
            " |      >>> aloneNote.offset = 30\n",
            " |      >>> aloneStream = stream.Stream(id='aloneStream')  # no insert\n",
            " |      >>> aloneNote.sortTuple(aloneStream)\n",
            " |      SortTuple(atEnd=0, offset=30.0, priority=0, classSortOrder=20, isNotGrace=1, insertIndex=0)\n",
            " |      \n",
            " |      >>> aloneNote.sortTuple(aloneStream, raiseExceptionOnMiss=True)\n",
            " |      Traceback (most recent call last):\n",
            " |      music21.sites.SitesException: an entry for this object 0x... is not stored in\n",
            " |          stream <music21.stream.Stream aloneStream>\n",
            " |  \n",
            " |  splitAtDurations(self) -> '_SplitTuple'\n",
            " |      Takes a Music21Object (e.g., a note.Note) and returns a list of similar\n",
            " |      objects with only a single duration.DurationTuple in each.\n",
            " |      Ties are added if the object supports ties.\n",
            " |      \n",
            " |      Articulations only appear on the first note.  Same with lyrics.\n",
            " |      \n",
            " |      Fermatas should be on last note, but not done yet.\n",
            " |      \n",
            " |      >>> a = note.Note()\n",
            " |      >>> a.duration.clear()  # remove defaults\n",
            " |      >>> a.duration.addDurationTuple(duration.durationTupleFromTypeDots('half', 0))\n",
            " |      >>> a.duration.quarterLength\n",
            " |      2.0\n",
            " |      >>> a.duration.addDurationTuple(duration.durationTupleFromTypeDots('whole', 0))\n",
            " |      >>> a.duration.quarterLength\n",
            " |      6.0\n",
            " |      >>> b = a.splitAtDurations()\n",
            " |      >>> b\n",
            " |      (<music21.note.Note C>, <music21.note.Note C>)\n",
            " |      >>> b[0].pitch == b[1].pitch\n",
            " |      True\n",
            " |      >>> b[0].duration\n",
            " |      <music21.duration.Duration 2.0>\n",
            " |      >>> b[0].duration.type\n",
            " |      'half'\n",
            " |      >>> b[1].duration.type\n",
            " |      'whole'\n",
            " |      >>> b[0].quarterLength, b[1].quarterLength\n",
            " |      (2.0, 4.0)\n",
            " |      \n",
            " |      >>> c = note.Note()\n",
            " |      >>> c.quarterLength = 2.5\n",
            " |      >>> d, e = c.splitAtDurations()\n",
            " |      >>> d.duration.type\n",
            " |      'half'\n",
            " |      >>> e.duration.type\n",
            " |      'eighth'\n",
            " |      >>> d.tie.type\n",
            " |      'start'\n",
            " |      >>> print(e.tie)\n",
            " |      <music21.tie.Tie stop>\n",
            " |      \n",
            " |      Assume c is tied to the next note.  Then the last split note should also be tied\n",
            " |      \n",
            " |      >>> c.tie = tie.Tie('start')\n",
            " |      >>> d, e = c.splitAtDurations()\n",
            " |      >>> d.tie.type\n",
            " |      'start'\n",
            " |      >>> e.tie.type\n",
            " |      'continue'\n",
            " |      \n",
            " |      Rests have no ties:\n",
            " |      \n",
            " |      >>> f = note.Rest()\n",
            " |      >>> f.quarterLength = 2.5\n",
            " |      >>> g, h = f.splitAtDurations()\n",
            " |      >>> (g.duration.type, h.duration.type)\n",
            " |      ('half', 'eighth')\n",
            " |      >>> f.tie is None\n",
            " |      True\n",
            " |      >>> g.tie is None\n",
            " |      True\n",
            " |      \n",
            " |      \n",
            " |      It should work for complex notes with tuplets.\n",
            " |      \n",
            " |      (this duration occurs in Modena A, Le greygnour bien, from the ars subtilior, c. 1380;\n",
            " |      hence how I discovered this bug)\n",
            " |      \n",
            " |      >>> n = note.Note()\n",
            " |      >>> n.duration.quarterLength = 0.5 + 0.0625  # eighth + 64th\n",
            " |      >>> tup = duration.Tuplet(4, 3)\n",
            " |      >>> n.duration.appendTuplet(tup)\n",
            " |      >>> first, last = n.splitAtDurations()\n",
            " |      >>> (first.duration, last.duration)\n",
            " |      (<music21.duration.Duration 0.375>, <music21.duration.Duration 0.046875>)\n",
            " |      \n",
            " |      Notice that this duration could have been done w/o tuplets, so no tuplets in output:\n",
            " |      \n",
            " |      >>> (first.duration.type, first.duration.dots, first.duration.tuplets)\n",
            " |      ('16th', 1, ())\n",
            " |      >>> (last.duration.type, last.duration.dots, last.duration.tuplets)\n",
            " |      ('128th', 1, ())\n",
            " |      \n",
            " |      Test of one with tuplets that cannot be split:\n",
            " |      \n",
            " |      >>> n = note.Note()\n",
            " |      >>> n.duration.quarterLength = 0.5 + 0.0625  # eighth + 64th\n",
            " |      >>> tup = duration.Tuplet(3, 2, 'eighth')\n",
            " |      >>> n.duration.appendTuplet(tup)\n",
            " |      >>> (n.duration.type, n.duration.dots, n.duration.tuplets)\n",
            " |      ('complex', 0, (<music21.duration.Tuplet 3/2/eighth>,))\n",
            " |      \n",
            " |      >>> first, last = n.splitAtDurations()\n",
            " |      >>> (first.duration, last.duration)\n",
            " |      (<music21.duration.Duration 1/3>, <music21.duration.Duration 1/24>)\n",
            " |      \n",
            " |      >>> (first.duration.type, first.duration.dots, first.duration.tuplets)\n",
            " |      ('eighth', 0, (<music21.duration.Tuplet 3/2/eighth>,))\n",
            " |      >>> (last.duration.type, last.duration.dots, last.duration.tuplets)\n",
            " |      ('64th', 0, (<music21.duration.Tuplet 3/2/64th>,))\n",
            " |      \n",
            " |      \n",
            " |      TODO: unite this and other functions into a \"split\" function -- document obscure uses.\n",
            " |  \n",
            " |  splitAtQuarterLength(self, quarterLength, *, retainOrigin=True, addTies=True, displayTiedAccidentals=False) -> '_SplitTuple'\n",
            " |      Split an Element into two Elements at a provided\n",
            " |      `quarterLength` (offset) into the Element.\n",
            " |      \n",
            " |      Returns a specialized tuple that also has\n",
            " |      a .spannerList element which is a list of spanners\n",
            " |      that were created during the split, such as by splitting a trill\n",
            " |      note into more than one trill.\n",
            " |      \n",
            " |      TODO: unite into a \"split\" function -- document obscure uses.\n",
            " |      \n",
            " |      >>> a = note.Note('C#5')\n",
            " |      >>> a.duration.type = 'whole'\n",
            " |      >>> a.articulations = [articulations.Staccato()]\n",
            " |      >>> a.lyric = 'hi'\n",
            " |      >>> a.expressions = [expressions.Mordent(), expressions.Trill(), expressions.Fermata()]\n",
            " |      >>> st = a.splitAtQuarterLength(3)\n",
            " |      >>> b, c = st\n",
            " |      >>> b.duration.type\n",
            " |      'half'\n",
            " |      >>> b.duration.dots\n",
            " |      1\n",
            " |      >>> b.duration.quarterLength\n",
            " |      3.0\n",
            " |      >>> b.articulations\n",
            " |      []\n",
            " |      >>> b.lyric\n",
            " |      'hi'\n",
            " |      >>> b.expressions\n",
            " |      [<music21.expressions.Mordent>, <music21.expressions.Trill>]\n",
            " |      >>> c.duration.type\n",
            " |      'quarter'\n",
            " |      >>> c.duration.dots\n",
            " |      0\n",
            " |      >>> c.duration.quarterLength\n",
            " |      1.0\n",
            " |      >>> c.articulations\n",
            " |      [<music21.articulations.Staccato>]\n",
            " |      >>> c.lyric\n",
            " |      >>> c.expressions\n",
            " |      [<music21.expressions.Fermata>]\n",
            " |      >>> c.getSpannerSites()\n",
            " |      [<music21.expressions.TrillExtension <music21.note.Note C#><music21.note.Note C#>>]\n",
            " |      \n",
            " |      st is a _SplitTuple which can get the spanners from it for inserting into a Stream.\n",
            " |      \n",
            " |      >>> st.spannerList\n",
            " |      [<music21.expressions.TrillExtension <music21.note.Note C#><music21.note.Note C#>>]\n",
            " |      \n",
            " |      \n",
            " |      \n",
            " |      Make sure that ties and accidentals remain as they should be:\n",
            " |      \n",
            " |      >>> d = note.Note('D#4')\n",
            " |      >>> d.duration.quarterLength = 3.0\n",
            " |      >>> d.tie = tie.Tie('start')\n",
            " |      >>> e, f = d.splitAtQuarterLength(2.0)\n",
            " |      >>> e.tie, f.tie\n",
            " |      (<music21.tie.Tie start>, <music21.tie.Tie continue>)\n",
            " |      >>> e.pitch.accidental.displayStatus is None\n",
            " |      True\n",
            " |      >>> f.pitch.accidental.displayStatus\n",
            " |      False\n",
            " |      \n",
            " |      Should be the same for chords...\n",
            " |      \n",
            " |      >>> g = chord.Chord(['C4', 'E4', 'G#4'])\n",
            " |      >>> g.duration.quarterLength = 3.0\n",
            " |      >>> g[1].tie = tie.Tie('start')\n",
            " |      >>> h, i = g.splitAtQuarterLength(2.0)\n",
            " |      >>> for j in range(3):\n",
            " |      ...   (h[j].tie, i[j].tie)\n",
            " |      (<music21.tie.Tie start>, <music21.tie.Tie stop>)\n",
            " |      (<music21.tie.Tie start>, <music21.tie.Tie continue>)\n",
            " |      (<music21.tie.Tie start>, <music21.tie.Tie stop>)\n",
            " |      \n",
            " |      >>> h[2].pitch.accidental.displayStatus, i[2].pitch.accidental.displayStatus\n",
            " |      (None, False)\n",
            " |      \n",
            " |      \n",
            " |      If quarterLength == self.quarterLength then the second element will be None.\n",
            " |      \n",
            " |      >>> n = note.Note()\n",
            " |      >>> n.quarterLength = 0.5\n",
            " |      >>> firstPart, secondPart = n.splitAtQuarterLength(0.5)\n",
            " |      >>> secondPart is None\n",
            " |      True\n",
            " |      >>> firstPart is n\n",
            " |      True\n",
            " |      \n",
            " |      (same with retainOrigin off)\n",
            " |      \n",
            " |      >>> n = note.Note()\n",
            " |      >>> n.quarterLength = 0.5\n",
            " |      >>> firstPart, secondPart = n.splitAtQuarterLength(0.5, retainOrigin=False)\n",
            " |      >>> firstPart is n\n",
            " |      False\n",
            " |      \n",
            " |      \n",
            " |      If quarterLength > self.quarterLength then a DurationException will be raised:\n",
            " |      \n",
            " |      >>> n = note.Note()\n",
            " |      >>> n.quarterLength = 0.5\n",
            " |      >>> first, second = n.splitAtQuarterLength(0.7)\n",
            " |      Traceback (most recent call last):\n",
            " |      music21.duration.DurationException: cannot split a duration (0.5)\n",
            " |          at this quarterLength (7/10)\n",
            " |      \n",
            " |      * Changed in v7: all but quarterLength are keyword only\n",
            " |  \n",
            " |  splitByQuarterLengths(self, quarterLengthList: 'list[int | float | fractions.Fraction]', addTies=True, displayTiedAccidentals=False) -> '_SplitTuple'\n",
            " |      Given a list of quarter lengths, return a list of\n",
            " |      Music21Object objects, copied from this Music21Object,\n",
            " |      that are partitioned and tied with the specified quarter\n",
            " |      length list durations.\n",
            " |      \n",
            " |      TODO: unite into a \"split\" function -- document obscure uses.\n",
            " |      \n",
            " |      >>> n = note.Note()\n",
            " |      >>> n.quarterLength = 3\n",
            " |      >>> post = n.splitByQuarterLengths([1, 1, 1])\n",
            " |      >>> [n.quarterLength for n in post]\n",
            " |      [1.0, 1.0, 1.0]\n",
            " |  \n",
            " |  write(self, fmt: 'str | None' = None, fp: 'str | pathlib.Path | IOBase | None' = None, **keywords) -> 'pathlib.Path'\n",
            " |      Write out a file of music notation (or an image, etc.) in a given format.  If\n",
            " |      fp is specified as a file path then the file will be placed there.  If it is not\n",
            " |      given then a temporary file will be created.\n",
            " |      \n",
            " |      If fmt is not given then the default of your Environment's 'writeFormat' will\n",
            " |      be used.  For most people that is musicxml.\n",
            " |      \n",
            " |      Returns the full path to the file.\n",
            " |      \n",
            " |      Some formats, including .musicxml, create a copy of the stream, pack it into a well-formed\n",
            " |      score if necessary, and run :meth:`~music21.stream.Score.makeNotation`. To\n",
            " |      avoid this when writing .musicxml, use `makeNotation=False`, an advanced option\n",
            " |      that prioritizes speed but may not guarantee satisfactory notation.\n",
            " |  \n",
            " |  ----------------------------------------------------------------------\n",
            " |  Readonly properties inherited from music21.base.Music21Object:\n",
            " |  \n",
            " |  beat\n",
            " |      Return the beat of this object as found in the most\n",
            " |      recently positioned Measure. Beat values count from 1 and\n",
            " |      contain a floating-point designation between 0 and 1 to\n",
            " |      show proportional progress through the beat.\n",
            " |      \n",
            " |      >>> n = note.Note()\n",
            " |      >>> n.quarterLength = 0.5\n",
            " |      >>> m = stream.Measure()\n",
            " |      >>> m.timeSignature = meter.TimeSignature('3/4')\n",
            " |      >>> m.repeatAppend(n, 6)\n",
            " |      >>> [n.beat for n in m.notes]\n",
            " |      [1.0, 1.5, 2.0, 2.5, 3.0, 3.5]\n",
            " |      \n",
            " |      \n",
            " |      Fractions are returned for positions that cannot be represented perfectly using floats:\n",
            " |      \n",
            " |      >>> m.timeSignature = meter.TimeSignature('6/8')\n",
            " |      >>> [n.beat for n in m.notes]\n",
            " |      [1.0, Fraction(4, 3), Fraction(5, 3), 2.0, Fraction(7, 3), Fraction(8, 3)]\n",
            " |      \n",
            " |      >>> s = stream.Stream()\n",
            " |      >>> s.insert(0, meter.TimeSignature('3/4'))\n",
            " |      >>> s.repeatAppend(note.Note(), 8)\n",
            " |      >>> [n.beat for n in s.notes]\n",
            " |      [1.0, 2.0, 3.0, 1.0, 2.0, 3.0, 1.0, 2.0]\n",
            " |      \n",
            " |      \n",
            " |      Notes inside flat streams can still find the original beat placement from outer\n",
            " |      streams:\n",
            " |      \n",
            " |      >>> p = stream.Part()\n",
            " |      >>> ts = meter.TimeSignature('2/4')\n",
            " |      >>> p.insert(0, ts)\n",
            " |      \n",
            " |      >>> n = note.Note('C4', type='eighth')\n",
            " |      >>> m1 = stream.Measure(number=1)\n",
            " |      >>> m1.repeatAppend(n, 4)\n",
            " |      \n",
            " |      >>> m2 = stream.Measure(number=2)\n",
            " |      >>> m2.repeatAppend(n, 4)\n",
            " |      \n",
            " |      >>> p.append([m1, m2])\n",
            " |      >>> [n.beat for n in p.flatten().notes]\n",
            " |      [1.0, 1.5, 2.0, 2.5, 1.0, 1.5, 2.0, 2.5]\n",
            " |      \n",
            " |      \n",
            " |      Fractions print out as improper fraction strings\n",
            " |      \n",
            " |      >>> m = stream.Measure()\n",
            " |      >>> m.timeSignature = meter.TimeSignature('4/4')\n",
            " |      >>> n = note.Note()\n",
            " |      >>> n.quarterLength = 1/3\n",
            " |      >>> m.repeatAppend(n, 12)\n",
            " |      >>> for n in m.notes[:5]:\n",
            " |      ...    print(n.beat)\n",
            " |      1.0\n",
            " |      4/3\n",
            " |      5/3\n",
            " |      2.0\n",
            " |      7/3\n",
            " |      \n",
            " |      If there is no TimeSignature object in sites then returns the special float\n",
            " |      `nan` meaning \"Not a Number\":\n",
            " |      \n",
            " |      >>> isolatedNote = note.Note('E4')\n",
            " |      >>> isolatedNote.beat\n",
            " |      nan\n",
            " |      \n",
            " |      Not-a-number objects do not compare equal to themselves:\n",
            " |      \n",
            " |      >>> isolatedNote.beat == isolatedNote.beat\n",
            " |      False\n",
            " |      \n",
            " |      Instead, to test for `nan`, import the math module and use `isnan()`:\n",
            " |      \n",
            " |      >>> import math\n",
            " |      >>> math.isnan(isolatedNote.beat)\n",
            " |      True\n",
            " |      \n",
            " |      * Changed in v6.3: returns `nan` if\n",
            " |        there is no TimeSignature in sites.\n",
            " |        Previously raised an exception.\n",
            " |  \n",
            " |  beatDuration\n",
            " |      Return a :class:`~music21.duration.Duration` of the beat\n",
            " |      active for this object as found in the most recently\n",
            " |      positioned Measure.\n",
            " |      \n",
            " |      If extending beyond the Measure, or in a Stream with a TimeSignature,\n",
            " |      the meter modulus value will be returned.\n",
            " |      \n",
            " |      >>> n = note.Note('C4', type='eighth')\n",
            " |      >>> n.duration\n",
            " |      <music21.duration.Duration 0.5>\n",
            " |      \n",
            " |      >>> m = stream.Measure()\n",
            " |      >>> m.timeSignature = meter.TimeSignature('3/4')\n",
            " |      >>> m.repeatAppend(n, 6)\n",
            " |      >>> n0 = m.notes.first()\n",
            " |      >>> n0.beatDuration\n",
            " |      <music21.duration.Duration 1.0>\n",
            " |      \n",
            " |      Notice that the beat duration is the same for all these notes\n",
            " |      and has nothing to do with the duration of the element itself\n",
            " |      \n",
            " |      >>> [n.beatDuration.quarterLength for n in m.notes]\n",
            " |      [1.0, 1.0, 1.0, 1.0, 1.0, 1.0]\n",
            " |      \n",
            " |      Changing the time signature changes the beat duration:\n",
            " |      \n",
            " |      >>> m.timeSignature = meter.TimeSignature('6/8')\n",
            " |      >>> [n.beatDuration.quarterLength for n in m.notes]\n",
            " |      [1.5, 1.5, 1.5, 1.5, 1.5, 1.5]\n",
            " |      \n",
            " |      Complex time signatures will give different note lengths:\n",
            " |      \n",
            " |      >>> s = stream.Stream()\n",
            " |      >>> s.insert(0, meter.TimeSignature('2/4+3/4'))\n",
            " |      >>> s.repeatAppend(note.Note(type='quarter'), 8)\n",
            " |      >>> [n.beatDuration.quarterLength for n in s.notes]\n",
            " |      [2.0, 2.0, 3.0, 3.0, 3.0, 2.0, 2.0, 3.0]\n",
            " |      \n",
            " |      If there is no TimeSignature object in sites then returns a duration object\n",
            " |      of Zero length.\n",
            " |      \n",
            " |      >>> isolatedNote = note.Note('E4')\n",
            " |      >>> isolatedNote.beatDuration\n",
            " |      <music21.duration.Duration 0.0>\n",
            " |      \n",
            " |      * Changed in v6.3: returns a duration.Duration object of length 0 if\n",
            " |        there is no TimeSignature in sites.  Previously raised an exception.\n",
            " |  \n",
            " |  beatStr\n",
            " |      Return a string representation of the beat of\n",
            " |      this object as found in the most recently positioned\n",
            " |      Measure. Beat values count from 1 and contain a\n",
            " |      fractional designation to show progress through the beat.\n",
            " |      \n",
            " |      \n",
            " |      >>> n = note.Note(type='eighth')\n",
            " |      >>> m = stream.Measure()\n",
            " |      >>> m.timeSignature = meter.TimeSignature('3/4')\n",
            " |      >>> m.repeatAppend(n, 6)\n",
            " |      \n",
            " |      >>> [n.beatStr for n in m.notes]\n",
            " |      ['1', '1 1/2', '2', '2 1/2', '3', '3 1/2']\n",
            " |      \n",
            " |      >>> m.timeSignature = meter.TimeSignature('6/8')\n",
            " |      >>> [n.beatStr for n in m.notes]\n",
            " |      ['1', '1 1/3', '1 2/3', '2', '2 1/3', '2 2/3']\n",
            " |      \n",
            " |      >>> s = stream.Stream()\n",
            " |      >>> s.insert(0, meter.TimeSignature('3/4'))\n",
            " |      >>> s.repeatAppend(note.Note(type='quarter'), 8)\n",
            " |      >>> [n.beatStr for n in s.notes]\n",
            " |      ['1', '2', '3', '1', '2', '3', '1', '2']\n",
            " |      \n",
            " |      If there is no TimeSignature object in sites then returns 'nan' for not a number.\n",
            " |      \n",
            " |      >>> isolatedNote = note.Note('E4')\n",
            " |      >>> isolatedNote.beatStr\n",
            " |      'nan'\n",
            " |      \n",
            " |      * Changed in v6.3: returns 'nan' if\n",
            " |        there is no TimeSignature in sites.\n",
            " |        Previously raised an exception.\n",
            " |  \n",
            " |  beatStrength\n",
            " |      Return the metrical accent of this object\n",
            " |      in the most recently positioned Measure. Accent values\n",
            " |      are between zero and one, and are derived from the local\n",
            " |      TimeSignature's accent MeterSequence weights. If the offset\n",
            " |      of this object does not match a defined accent weight, a\n",
            " |      minimum accent weight will be returned.\n",
            " |      \n",
            " |      \n",
            " |      >>> n = note.Note(type='eighth')\n",
            " |      >>> m = stream.Measure()\n",
            " |      >>> m.timeSignature = meter.TimeSignature('3/4')\n",
            " |      >>> m.repeatAppend(n, 6)\n",
            " |      \n",
            " |      The first note of a measure is (generally?) always beat strength 1.0:\n",
            " |      \n",
            " |      >>> m.notes.first().beatStrength\n",
            " |      1.0\n",
            " |      \n",
            " |      Notes on weaker beats have lower strength:\n",
            " |      \n",
            " |      >>> [n.beatStrength for n in m.notes]\n",
            " |      [1.0, 0.25, 0.5, 0.25, 0.5, 0.25]\n",
            " |      \n",
            " |      >>> m.timeSignature = meter.TimeSignature('6/8')\n",
            " |      >>> [n.beatStrength for n in m.notes]\n",
            " |      [1.0, 0.25, 0.25, 0.5, 0.25, 0.25]\n",
            " |      \n",
            " |      \n",
            " |      Importantly, the actual numbers here have no particular meaning.  You cannot\n",
            " |      \"add\" two beatStrengths of 0.25 and say that they have the same beat strength\n",
            " |      as one note of 0.5.  Only the ordinal relations really matter.  Even taking\n",
            " |      an average of beat strengths is a tiny bit methodologically suspect (though\n",
            " |      it is common in research for lack of a better method).\n",
            " |      \n",
            " |      We can also get the beatStrength for elements not in\n",
            " |      a measure, if the enclosing stream has a :class:`~music21.meter.TimeSignature`.\n",
            " |      We just assume that the time signature carries through to\n",
            " |      hypothetical following measures:\n",
            " |      \n",
            " |      >>> n = note.Note('E-3', type='quarter')\n",
            " |      >>> s = stream.Stream()\n",
            " |      >>> s.insert(0.0, meter.TimeSignature('2/2'))\n",
            " |      >>> s.repeatAppend(n, 12)\n",
            " |      >>> [n.beatStrength for n in s.notes]\n",
            " |      [1.0, 0.25, 0.5, 0.25, 1.0, 0.25, 0.5, 0.25, 1.0, 0.25, 0.5, 0.25]\n",
            " |      \n",
            " |      \n",
            " |      Changing the meter changes the output, of course, as can be seen from the\n",
            " |      fourth quarter note onward:\n",
            " |      \n",
            " |      >>> s.insert(4.0, meter.TimeSignature('3/4'))\n",
            " |      >>> [n.beatStrength for n in s.notes]\n",
            " |      [1.0, 0.25, 0.5, 0.25, 1.0, 0.5, 0.5, 1.0, 0.5, 0.5, 1.0, 0.5]\n",
            " |      \n",
            " |      \n",
            " |      The method returns correct numbers for the prevailing time signature\n",
            " |      even if no measures have been made:\n",
            " |      \n",
            " |      >>> n = note.Note('E--3', type='half')\n",
            " |      >>> s = stream.Stream()\n",
            " |      >>> s.isMeasure\n",
            " |      False\n",
            " |      \n",
            " |      >>> s.insert(0, meter.TimeSignature('2/2'))\n",
            " |      >>> s.repeatAppend(n, 16)\n",
            " |      >>> s.notes[0].beatStrength\n",
            " |      1.0\n",
            " |      >>> s.notes[1].beatStrength\n",
            " |      0.5\n",
            " |      >>> s.notes[4].beatStrength\n",
            " |      1.0\n",
            " |      >>> s.notes[5].beatStrength\n",
            " |      0.5\n",
            " |      \n",
            " |      Getting the beatStrength of an object without a time signature in its context\n",
            " |      returns the not-a-number special object 'nan':\n",
            " |      \n",
            " |      >>> n2 = note.Note(type='whole')\n",
            " |      >>> n2.beatStrength\n",
            " |      nan\n",
            " |      >>> from math import isnan\n",
            " |      >>> isnan(n2.beatStrength)\n",
            " |      True\n",
            " |      \n",
            " |      * Changed in v6.3: return 'nan' instead of raising an exception.\n",
            " |  \n",
            " |  hasEditorialInformation\n",
            " |      Returns True if there is a :class:`~music21.editorial.Editorial` object\n",
            " |      already associated with this object, False otherwise.\n",
            " |      \n",
            " |      Calling .editorial on an object will always create a new\n",
            " |      Editorial object, so even though a new Editorial object isn't too expensive\n",
            " |      to create, this property helps to prevent creating new Editorial objects\n",
            " |      more than is necessary.\n",
            " |      \n",
            " |      >>> mObj = base.Music21Object()\n",
            " |      >>> mObj.hasEditorialInformation\n",
            " |      False\n",
            " |      >>> mObj.editorial\n",
            " |      <music21.editorial.Editorial {}>\n",
            " |      >>> mObj.hasEditorialInformation\n",
            " |      True\n",
            " |  \n",
            " |  hasStyleInformation\n",
            " |      Returns True if there is a :class:`~music21.style.Style` object\n",
            " |      already associated with this object, False otherwise.\n",
            " |      \n",
            " |      Calling .style on an object will always create a new\n",
            " |      Style object, so even though a new Style object isn't too expensive\n",
            " |      to create, this property helps to prevent creating new Styles more than\n",
            " |      necessary.\n",
            " |      \n",
            " |      >>> mObj = base.Music21Object()\n",
            " |      >>> mObj.hasStyleInformation\n",
            " |      False\n",
            " |      >>> mObj.style\n",
            " |      <music21.style.Style object at 0x10b0a2080>\n",
            " |      >>> mObj.hasStyleInformation\n",
            " |      True\n",
            " |  \n",
            " |  measureNumber\n",
            " |      Return the measure number of a :class:`~music21.stream.Measure` that contains this\n",
            " |      object if the object is in a measure.\n",
            " |      \n",
            " |      Returns None if the object is not in a measure.  Also note that by\n",
            " |      default Measure objects\n",
            " |      have measure number 0.\n",
            " |      \n",
            " |      If an object belongs to multiple measures (not in the same hierarchy...)\n",
            " |      then it returns the\n",
            " |      measure number of the :meth:`~music21.base.Music21Object.activeSite` if that is a\n",
            " |      :class:`~music21.stream.Measure` object.  Otherwise, it will use\n",
            " |      :meth:`~music21.base.Music21Object.getContextByClass`\n",
            " |      to find the number of the measure it was most recently added to.\n",
            " |      \n",
            " |      >>> m = stream.Measure()\n",
            " |      >>> m.number = 12\n",
            " |      >>> n = note.Note()\n",
            " |      >>> m.append(n)\n",
            " |      >>> n.measureNumber\n",
            " |      12\n",
            " |      \n",
            " |      >>> n2 = note.Note()\n",
            " |      >>> n2.measureNumber is None\n",
            " |      True\n",
            " |      >>> m2 = stream.Measure()\n",
            " |      >>> m2.append(n2)\n",
            " |      >>> n2.measureNumber\n",
            " |      0\n",
            " |      \n",
            " |      The property updates if the object's surrounding measure's number changes:\n",
            " |      \n",
            " |      >>> m2.number = 11\n",
            " |      >>> n2.measureNumber\n",
            " |      11\n",
            " |      \n",
            " |      \n",
            " |      The most recent measure added to is used unless activeSite is a measure:\n",
            " |      \n",
            " |      >>> m.append(n2)\n",
            " |      >>> n2.measureNumber\n",
            " |      12\n",
            " |      >>> n2.activeSite = m2\n",
            " |      >>> n2.measureNumber\n",
            " |      11\n",
            " |      \n",
            " |      Copies can retain measure numbers until set themselves:\n",
            " |      \n",
            " |      >>> import copy\n",
            " |      >>> nCopy = copy.deepcopy(n2)\n",
            " |      >>> nCopy.measureNumber\n",
            " |      12\n",
            " |      >>> m3 = stream.Measure()\n",
            " |      >>> m3.number = 4\n",
            " |      >>> m3.append(nCopy)\n",
            " |      >>> nCopy.measureNumber\n",
            " |      4\n",
            " |  \n",
            " |  ----------------------------------------------------------------------\n",
            " |  Data descriptors inherited from music21.base.Music21Object:\n",
            " |  \n",
            " |  __dict__\n",
            " |      dictionary for instance variables (if defined)\n",
            " |  \n",
            " |  __weakref__\n",
            " |      list of weak references to the object (if defined)\n",
            " |  \n",
            " |  activeSite\n",
            " |      A reference to the most-recent object used to\n",
            " |      contain this object. In most cases, this will be a\n",
            " |      Stream or Stream sub-class. In most cases, an object's\n",
            " |      activeSite attribute is automatically set when the\n",
            " |      object is attached to a Stream.\n",
            " |      \n",
            " |      \n",
            " |      >>> n = note.Note('C#4')\n",
            " |      >>> p = stream.Part()\n",
            " |      >>> p.insert(20.0, n)\n",
            " |      >>> n.activeSite is p\n",
            " |      True\n",
            " |      >>> n.offset\n",
            " |      20.0\n",
            " |      \n",
            " |      >>> m = stream.Measure()\n",
            " |      >>> m.insert(10.0, n)\n",
            " |      >>> n.activeSite is m\n",
            " |      True\n",
            " |      >>> n.offset\n",
            " |      10.0\n",
            " |      >>> n.activeSite = p\n",
            " |      >>> n.offset\n",
            " |      20.0\n",
            " |  \n",
            " |  derivation\n",
            " |      Return the :class:`~music21.derivation.Derivation` object for this element.\n",
            " |      \n",
            " |      Or create one if none exists:\n",
            " |      \n",
            " |      >>> n = note.Note()\n",
            " |      >>> n.derivation\n",
            " |      <Derivation of <music21.note.Note C> from None>\n",
            " |      >>> import copy\n",
            " |      >>> n2 = copy.deepcopy(n)\n",
            " |      >>> n2.pitch.step = 'D'  # for seeing easier...\n",
            " |      >>> n2.derivation\n",
            " |      <Derivation of <music21.note.Note D> from <music21.note.Note C> via '__deepcopy__'>\n",
            " |      >>> n2.derivation.origin is n\n",
            " |      True\n",
            " |      \n",
            " |      Note that (for now at least) derivation.origin is NOT a weakref:\n",
            " |      \n",
            " |      >>> del n\n",
            " |      >>> n2.derivation\n",
            " |      <Derivation of <music21.note.Note D> from <music21.note.Note C> via '__deepcopy__'>\n",
            " |      >>> n2.derivation.origin\n",
            " |      <music21.note.Note C>\n",
            " |  \n",
            " |  duration\n",
            " |      Get and set the duration of this object as a Duration object.\n",
            " |  \n",
            " |  editorial\n",
            " |      a :class:`~music21.editorial.Editorial` object that stores editorial information\n",
            " |      (comments, footnotes, harmonic information, ficta).\n",
            " |      \n",
            " |      Created automatically as needed:\n",
            " |      \n",
            " |      >>> n = note.Note('C4')\n",
            " |      >>> n.editorial\n",
            " |      <music21.editorial.Editorial {}>\n",
            " |      >>> n.editorial.ficta = pitch.Accidental('sharp')\n",
            " |      >>> n.editorial.ficta\n",
            " |      <music21.pitch.Accidental sharp>\n",
            " |      >>> n.editorial\n",
            " |      <music21.editorial.Editorial {'ficta': <music21.pitch.Accidental sharp>}>\n",
            " |  \n",
            " |  id\n",
            " |      A unique identification string or int; not to be confused with Python's\n",
            " |      built-in `id()` method. However, if not set, will return\n",
            " |      Python's `id()` number.\n",
            " |      \n",
            " |      \"Unique\" is intended with respect to the stream hierarchy one is likely\n",
            " |      to query with :meth:`~music21.stream.Stream.getElementById`. For\n",
            " |      instance, the `.id` of a Voice should be unique in any single Measure,\n",
            " |      but the id's may reset from measure to measure across a Part.\n",
            " |  \n",
            " |  offset\n",
            " |      The offset property sets or returns the position of this object\n",
            " |      as a float or fractions.Fraction value\n",
            " |      (generally in `quarterLengths`), depending on what is representable.\n",
            " |      \n",
            " |      Offsets are measured from the start of the object's `activeSite`,\n",
            " |      that is, the most recently referenced `Stream` or `Stream` subclass such\n",
            " |      as `Part`, `Measure`, or `Voice`.  It is a simpler\n",
            " |      way of calling `o.getOffsetBySite(o.activeSite, returnType='rational')`.\n",
            " |      \n",
            " |      If we put a `Note` into a `Stream`, we will see the activeSite changes.\n",
            " |      \n",
            " |      >>> import fractions\n",
            " |      >>> n1 = note.Note('D#3')\n",
            " |      >>> n1.activeSite is None\n",
            " |      True\n",
            " |      \n",
            " |      >>> m1 = stream.Measure()\n",
            " |      >>> m1.number = 4\n",
            " |      >>> m1.insert(10.0, n1)\n",
            " |      >>> n1.offset\n",
            " |      10.0\n",
            " |      >>> n1.activeSite\n",
            " |      <music21.stream.Measure 4 offset=0.0>\n",
            " |      \n",
            " |      >>> n1.activeSite is m1\n",
            " |      True\n",
            " |      \n",
            " |      The most recently referenced `Stream` becomes an object's `activeSite` and\n",
            " |      thus the place where `.offset` looks to find its number.\n",
            " |      \n",
            " |      >>> m2 = stream.Measure()\n",
            " |      >>> m2.insert(3/5, n1)\n",
            " |      >>> m2.number = 5\n",
            " |      >>> n1.offset\n",
            " |      Fraction(3, 5)\n",
            " |      >>> n1.activeSite is m2\n",
            " |      True\n",
            " |      \n",
            " |      Notice though that `.offset` depends on the `.activeSite` which is the most\n",
            " |      recently accessed/referenced Stream.\n",
            " |      \n",
            " |      Here we will iterate over the `elements` in `m1` and we\n",
            " |      will see that the `.offset` of `n1` now is its offset in\n",
            " |      `m1` even though we haven't done anything directly to `n1`.\n",
            " |      Simply iterating over a site is enough to change the `.activeSite`\n",
            " |      of its elements:\n",
            " |      \n",
            " |      >>> for element in m1:\n",
            " |      ...     pass\n",
            " |      >>> n1.offset\n",
            " |      10.0\n",
            " |      \n",
            " |      The property can also set the offset for the object if no\n",
            " |      container has been set:\n",
            " |      \n",
            " |      >>> n1 = note.Note()\n",
            " |      >>> n1.id = 'hi'\n",
            " |      >>> n1.offset = 20/3\n",
            " |      >>> n1.offset\n",
            " |      Fraction(20, 3)\n",
            " |      >>> float(n1.offset)\n",
            " |      6.666...\n",
            " |      \n",
            " |      >>> s1 = stream.Stream()\n",
            " |      >>> s1.append(n1)\n",
            " |      >>> n1.offset\n",
            " |      0.0\n",
            " |      >>> s2 = stream.Stream()\n",
            " |      >>> s2.insert(30.5, n1)\n",
            " |      >>> n1.offset\n",
            " |      30.5\n",
            " |      \n",
            " |      After calling `getElementById` on `s1`, the\n",
            " |      returned element's `offset` will be its offset in `s1`.\n",
            " |      \n",
            " |      >>> n2 = s1.getElementById('hi')\n",
            " |      >>> n2 is n1\n",
            " |      True\n",
            " |      >>> n2.offset\n",
            " |      0.0\n",
            " |      \n",
            " |      Iterating over the elements in a Stream will\n",
            " |      make its `offset` be the offset in iterated\n",
            " |      Stream.\n",
            " |      \n",
            " |      >>> for thisElement in s2:\n",
            " |      ...     thisElement.offset\n",
            " |      30.5\n",
            " |      \n",
            " |      When in doubt, use `.getOffsetBySite(streamObj)`\n",
            " |      which is safer or streamObj.elementOffset(self) which is 3x faster.\n",
            " |      \n",
            " |      * Changed in v8: using a Duration object as an offset is not allowed.\n",
            " |  \n",
            " |  priority\n",
            " |      Get and set the priority integer value.\n",
            " |      \n",
            " |      Priority specifies the order of processing from left (lowest number)\n",
            " |      to right (highest number) of objects at the same offset.  For\n",
            " |      instance, if you want a key change and a clef change to happen at\n",
            " |      the same time but the key change to appear first, then set:\n",
            " |      keySigElement.priority = 1; clefElement.priority = 2 this might be\n",
            " |      a slightly counterintuitive numbering of priority, but it does\n",
            " |      mean, for instance, if you had two elements at the same offset,\n",
            " |      an allegro tempo change and an andante tempo change, then the\n",
            " |      tempo change with the higher priority number would apply to the\n",
            " |      following notes (by being processed second).\n",
            " |      \n",
            " |      Default priority is 0; thus negative priorities are encouraged\n",
            " |      to have Elements that appear before non-priority set elements.\n",
            " |      \n",
            " |      In case of tie, there are defined class sort orders defined in\n",
            " |      `music21.base.classSortOrder`.  For instance, a key signature\n",
            " |      change appears before a time signature change before a\n",
            " |      note at the same offset.  This produces the familiar order of\n",
            " |      materials at the start of a musical score.\n",
            " |      \n",
            " |      >>> import music21\n",
            " |      >>> a = music21.Music21Object()\n",
            " |      >>> a.priority = 3\n",
            " |      >>> a.priority = 'high'\n",
            " |      Traceback (most recent call last):\n",
            " |      music21.base.ElementException: priority values must be integers.\n",
            " |  \n",
            " |  quarterLength\n",
            " |      Set or Return the Duration as represented in Quarter Length, possibly as a fraction.\n",
            " |      \n",
            " |      Same as setting `.duration.quarterLength`.\n",
            " |      \n",
            " |      >>> n = note.Note()\n",
            " |      >>> n.quarterLength = 2.0\n",
            " |      >>> n.quarterLength\n",
            " |      2.0\n",
            " |      >>> n.quarterLength = 1/3\n",
            " |      >>> n.quarterLength\n",
            " |      Fraction(1, 3)\n",
            " |  \n",
            " |  seconds\n",
            " |      Get or set the duration of this object in seconds, assuming\n",
            " |      that this object has a :class:`~music21.tempo.MetronomeMark`\n",
            " |      or :class:`~music21.tempo.MetricModulation`\n",
            " |      (or any :class:`~music21.tempo.TempoIndication`) in its past context.\n",
            " |      \n",
            " |      >>> s = stream.Stream()\n",
            " |      >>> for i in range(3):\n",
            " |      ...    s.append(note.Note(type='quarter'))\n",
            " |      ...    s.append(note.Note(type='quarter', dots=1))\n",
            " |      >>> s.insert(0, tempo.MetronomeMark(number=60))\n",
            " |      >>> s.insert(2, tempo.MetronomeMark(number=120))\n",
            " |      >>> s.insert(4, tempo.MetronomeMark(number=30))\n",
            " |      >>> [n.seconds for n in s.notes]\n",
            " |      [1.0, 1.5, 0.5, 0.75, 2.0, 3.0]\n",
            " |      \n",
            " |      Setting the number of seconds on a music21 object changes its duration:\n",
            " |      \n",
            " |      >>> lastNote = s.notes[-1]\n",
            " |      >>> lastNote.duration.fullName\n",
            " |      'Dotted Quarter'\n",
            " |      >>> lastNote.seconds = 4.0\n",
            " |      >>> lastNote.duration.fullName\n",
            " |      'Half'\n",
            " |      \n",
            " |      Any object of length 0 has zero-second length:\n",
            " |      \n",
            " |      >>> tc = clef.TrebleClef()\n",
            " |      >>> tc.seconds\n",
            " |      0.0\n",
            " |      \n",
            " |      If an object has positive duration but no tempo indication in its context,\n",
            " |      then the special number 'nan' for \"not-a-number\" is returned:\n",
            " |      \n",
            " |      >>> r = note.Rest(type='whole')\n",
            " |      >>> r.seconds\n",
            " |      nan\n",
            " |      \n",
            " |      Check for 'nan' with the `math.isnan()` routine:\n",
            " |      \n",
            " |      >>> import math\n",
            " |      >>> math.isnan(r.seconds)\n",
            " |      True\n",
            " |      \n",
            " |      Setting seconds for an element without a tempo-indication in its sites raises\n",
            " |      a Music21ObjectException:\n",
            " |      \n",
            " |      >>> r.seconds = 2.0\n",
            " |      Traceback (most recent call last):\n",
            " |      music21.base.Music21ObjectException: this object does not have a TempoIndication in Sites\n",
            " |      \n",
            " |      Note that if an object is in multiple Sites with multiple Metronome marks,\n",
            " |      the activeSite (or the hierarchy of the activeSite)\n",
            " |      determines its seconds for getting or setting:\n",
            " |      \n",
            " |      >>> r = note.Rest(type='whole')\n",
            " |      >>> m1 = stream.Measure()\n",
            " |      >>> m1.insert(0, tempo.MetronomeMark(number=60))\n",
            " |      >>> m1.append(r)\n",
            " |      >>> r.seconds\n",
            " |      4.0\n",
            " |      \n",
            " |      >>> m2 = stream.Measure()\n",
            " |      >>> m2.insert(0, tempo.MetronomeMark(number=120))\n",
            " |      >>> m2.append(r)\n",
            " |      >>> r.seconds\n",
            " |      2.0\n",
            " |      >>> r.activeSite = m1\n",
            " |      >>> r.seconds\n",
            " |      4.0\n",
            " |      >>> r.seconds = 1.0\n",
            " |      >>> r.duration.type\n",
            " |      'quarter'\n",
            " |      >>> r.activeSite = m2\n",
            " |      >>> r.seconds = 1.0\n",
            " |      >>> r.duration.type\n",
            " |      'half'\n",
            " |      \n",
            " |      * Changed in v6.3: return `nan` instead of raising an exception.\n",
            " |  \n",
            " |  style\n",
            " |      Returns (or Creates and then Returns) the Style object\n",
            " |      associated with this object, or sets a new\n",
            " |      style object.  Different classes might use\n",
            " |      different Style objects because they might have different\n",
            " |      style needs (such as text formatting or bezier positioning)\n",
            " |      \n",
            " |      Eventually will also query the groups to see if they have\n",
            " |      any styles associated with them.\n",
            " |      \n",
            " |      >>> n = note.Note()\n",
            " |      >>> st = n.style\n",
            " |      >>> st\n",
            " |      <music21.style.NoteStyle object at 0x10ba96208>\n",
            " |      >>> st.absoluteX = 20.0\n",
            " |      >>> st.absoluteX\n",
            " |      20.0\n",
            " |      >>> n.style = style.Style()\n",
            " |      >>> n.style.absoluteX is None\n",
            " |      True\n",
            " |  \n",
            " |  ----------------------------------------------------------------------\n",
            " |  Data and other attributes inherited from music21.base.Music21Object:\n",
            " |  \n",
            " |  classSortOrder = 20\n",
            " |  \n",
            " |  isStream = False\n",
            " |  \n",
            " |  ----------------------------------------------------------------------\n",
            " |  Methods inherited from music21.prebase.ProtoM21Object:\n",
            " |  \n",
            " |  __repr__(self) -> 'str'\n",
            " |      Defines the default representation for a ProtoM21Object\n",
            " |      which includes the module name, the class name, and additional\n",
            " |      information, such as the memory location:\n",
            " |      \n",
            " |      >>> p = prebase.ProtoM21Object()\n",
            " |      >>> repr(p)\n",
            " |      '<music21.prebase.ProtoM21Object object at 0x112590380>'\n",
            " |      \n",
            " |      The additional information is defined in the `_reprInternal` method,\n",
            " |      so objects inheriting from ProtoM21Object (such as Music21Object)\n",
            " |      should change `_reprInternal` and not `__repr__`.\n",
            " |  \n",
            " |  isClassOrSubclass(self, classFilterList: 'Sequence') -> 'bool'\n",
            " |      Given a class filter list (a list or tuple must be submitted),\n",
            " |      which may have strings or class objects, determine\n",
            " |      if this class is of the provided classes or a subclasses.\n",
            " |      \n",
            " |      NOTE: this is a performance critical operation\n",
            " |      for performance, only accept lists or tuples\n",
            " |      \n",
            " |      DEPRECATED in v7 -- prefer `someClass in el.classSet` or\n",
            " |      `not el.classSet.isdisjoint(classList)` instead.\n",
            " |      \n",
            " |      >>> n = note.Note()\n",
            " |      >>> #_DOCS_SHOW n.isClassOrSubclass(('Note',))\n",
            " |      True\n",
            " |      >>> #_DOCS_SHOW n.isClassOrSubclass(('GeneralNote',))\n",
            " |      True\n",
            " |      >>> #_DOCS_SHOW n.isClassOrSubclass((note.Note,))\n",
            " |      True\n",
            " |      >>> #_DOCS_SHOW n.isClassOrSubclass((note.Rest,))\n",
            " |      False\n",
            " |      >>> #_DOCS_SHOW n.isClassOrSubclass((note.Note, note.Rest))\n",
            " |      True\n",
            " |      >>> #_DOCS_SHOW n.isClassOrSubclass(('Rest', 'Note'))\n",
            " |      True\n",
            " |  \n",
            " |  ----------------------------------------------------------------------\n",
            " |  Readonly properties inherited from music21.prebase.ProtoM21Object:\n",
            " |  \n",
            " |  classSet\n",
            " |      Returns a set (that is, unordered, but indexed) of all classes that\n",
            " |      this class belongs to, including\n",
            " |      string names, fullyQualified string names, and objects themselves.\n",
            " |      \n",
            " |      It's cached on a per-class basis, so makes for a really fast way of checking to\n",
            " |      see if something belongs\n",
            " |      to a particular class when you don't know if the user has given a string,\n",
            " |      a fully qualified string name, or an object.\n",
            " |      \n",
            " |      Did I mention it's fast?  It's a drop in substitute for the deprecated\n",
            " |      `.isClassOrSubclass`.  It's not as fast as x in n.classes or isinstance(n, x)\n",
            " |      if you know whether it's a string or class, but this is good and safe.\n",
            " |      \n",
            " |      >>> n = note.Note()\n",
            " |      >>> 'Note' in n.classSet\n",
            " |      True\n",
            " |      >>> 'music21.note.Note' in n.classSet\n",
            " |      True\n",
            " |      >>> note.Note in n.classSet\n",
            " |      True\n",
            " |      \n",
            " |      >>> 'Rest' in n.classSet\n",
            " |      False\n",
            " |      >>> note.Rest in n.classSet\n",
            " |      False\n",
            " |      \n",
            " |      >>> object in n.classSet\n",
            " |      True\n",
            " |      \n",
            " |      >>> sorted([s for s in n.classSet if isinstance(s, str)])\n",
            " |      ['GeneralNote',\n",
            " |       'Music21Object',\n",
            " |       'NotRest',\n",
            " |       'Note',\n",
            " |       'ProtoM21Object',\n",
            " |       'base.Music21Object',\n",
            " |       'builtins.object',\n",
            " |       'music21.base.Music21Object',\n",
            " |       'music21.note.GeneralNote',\n",
            " |       'music21.note.NotRest',\n",
            " |       'music21.note.Note',\n",
            " |       'music21.prebase.ProtoM21Object',\n",
            " |       'note.GeneralNote',\n",
            " |       'note.NotRest',\n",
            " |       'note.Note',\n",
            " |       'object',\n",
            " |       'prebase.ProtoM21Object']\n",
            " |      \n",
            " |      >>> sorted([s for s in n.classSet if not isinstance(s, str)], key=lambda x: x.__name__)\n",
            " |      [<class 'music21.note.GeneralNote'>,\n",
            " |       <class 'music21.base.Music21Object'>,\n",
            " |       <class 'music21.note.NotRest'>,\n",
            " |       <class 'music21.note.Note'>,\n",
            " |       <class 'music21.prebase.ProtoM21Object'>,\n",
            " |       <class 'object'>]\n",
            " |      \n",
            " |      * Changed in v8: partially qualified objects such as 'note.Note' have been added.\n",
            " |  \n",
            " |  classes\n",
            " |      Returns a tuple containing the names (strings, not objects) of classes that this\n",
            " |      object belongs to -- starting with the object's class name and going up the mro()\n",
            " |      for the object.\n",
            " |      \n",
            " |      Notes are Music21Objects:\n",
            " |      \n",
            " |      >>> n = note.Note('C#')\n",
            " |      >>> n.classes\n",
            " |      ('Note', 'NotRest', 'GeneralNote', 'Music21Object', 'ProtoM21Object', 'object')\n",
            " |      \n",
            " |      Durations are not, but they inherit from ProtoM21Object\n",
            " |      \n",
            " |      >>> d = duration.Duration('half')\n",
            " |      >>> d.classes\n",
            " |      ('Duration', 'ProtoM21Object', 'SlottedObjectMixin', 'object')\n",
            " |      \n",
            " |      \n",
            " |      Having quick access to these things as strings makes it easier to do comparisons:\n",
            " |      \n",
            " |      Example: find GClefs that are not Treble clefs (or treble 8vb, etc.):\n",
            " |      \n",
            " |      >>> s = stream.Stream()\n",
            " |      >>> s.insert(10, clef.GClef())\n",
            " |      >>> s.insert(20, clef.TrebleClef())\n",
            " |      >>> s.insert(30, clef.FrenchViolinClef())\n",
            " |      >>> s.insert(40, clef.Treble8vbClef())\n",
            " |      >>> s.insert(50, clef.BassClef())\n",
            " |      >>> s2 = stream.Stream()\n",
            " |      >>> for thing in s:\n",
            " |      ...    if isinstance(thing, clef.GClef) and not isinstance(thing, clef.TrebleClef):\n",
            " |      ...        s2.insert(thing)\n",
            " |      >>> s2.show('text')\n",
            " |      {10.0} <music21.clef.GClef>\n",
            " |      {30.0} <music21.clef.FrenchViolinClef>\n",
            " |      \n",
            " |      `Changed 2015 Sep`: returns a tuple, not a list.\n",
            "\n"
          ]
        }
      ]
    },
    {
      "cell_type": "code",
      "source": [],
      "metadata": {
        "id": "v2BSY5B35PWu"
      },
      "execution_count": null,
      "outputs": []
    }
  ]
}